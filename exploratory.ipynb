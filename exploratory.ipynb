{
 "cells": [
  {
   "cell_type": "markdown",
   "metadata": {
    "id": "9-7QiGNe6JqG"
   },
   "source": [
    "# Load Data"
   ]
  },
  {
   "cell_type": "code",
   "execution_count": 1,
   "metadata": {
    "executionInfo": {
     "elapsed": 2217,
     "status": "ok",
     "timestamp": 1624624867517,
     "user": {
      "displayName": "BẢo Trần Hữu Chí",
      "photoUrl": "https://lh3.googleusercontent.com/a-/AOh14GjvC3RTar9FcVjUw5bsklXoIIHfc-pvtfYrLCX8=s64",
      "userId": "16173780980594326890"
     },
     "user_tz": -420
    },
    "id": "ilLjGdW1v4Kc"
   },
   "outputs": [],
   "source": [
    "!wget -qO- https://drive.google.com/uc?id=1N-IQdlLay8VOJ4UI1JEAsEgHiiDvHJvD > Death.csv"
   ]
  },
  {
   "cell_type": "code",
   "execution_count": 2,
   "metadata": {
    "executionInfo": {
     "elapsed": 1131,
     "status": "ok",
     "timestamp": 1624624868641,
     "user": {
      "displayName": "BẢo Trần Hữu Chí",
      "photoUrl": "https://lh3.googleusercontent.com/a-/AOh14GjvC3RTar9FcVjUw5bsklXoIIHfc-pvtfYrLCX8=s64",
      "userId": "16173780980594326890"
     },
     "user_tz": -420
    },
    "id": "EJGIkPUIw99n"
   },
   "outputs": [],
   "source": [
    "!wget -qO- https://drive.google.com/uc?id=1s94ITS37-maKnsQaMYyfjyLUohvjBzm4 > Population_GDP.csv"
   ]
  },
  {
   "cell_type": "code",
   "execution_count": 3,
   "metadata": {
    "executionInfo": {
     "elapsed": 1113,
     "status": "ok",
     "timestamp": 1624624869748,
     "user": {
      "displayName": "BẢo Trần Hữu Chí",
      "photoUrl": "https://lh3.googleusercontent.com/a-/AOh14GjvC3RTar9FcVjUw5bsklXoIIHfc-pvtfYrLCX8=s64",
      "userId": "16173780980594326890"
     },
     "user_tz": -420
    },
    "id": "GpLwzUsWcdIo"
   },
   "outputs": [],
   "source": [
    "!wget -qO- https://drive.google.com/uc?id=1x6X5neilmbM3JPCR3aeEjRdvcCRYIi_L > GDP_Population_Rate.csv"
   ]
  },
  {
   "cell_type": "code",
   "execution_count": 4,
   "metadata": {
    "executionInfo": {
     "elapsed": 1191,
     "status": "ok",
     "timestamp": 1624624870929,
     "user": {
      "displayName": "BẢo Trần Hữu Chí",
      "photoUrl": "https://lh3.googleusercontent.com/a-/AOh14GjvC3RTar9FcVjUw5bsklXoIIHfc-pvtfYrLCX8=s64",
      "userId": "16173780980594326890"
     },
     "user_tz": -420
    },
    "id": "LnU5FgKceTXI"
   },
   "outputs": [],
   "source": [
    "!wget -qO- https://drive.google.com/uc?id=1rHPa8nDXHj29wEfHl63wXTghW7rKNUrS > CO2_emission.csv"
   ]
  },
  {
   "cell_type": "code",
   "execution_count": 5,
   "metadata": {
    "executionInfo": {
     "elapsed": 7,
     "status": "ok",
     "timestamp": 1624624870930,
     "user": {
      "displayName": "BẢo Trần Hữu Chí",
      "photoUrl": "https://lh3.googleusercontent.com/a-/AOh14GjvC3RTar9FcVjUw5bsklXoIIHfc-pvtfYrLCX8=s64",
      "userId": "16173780980594326890"
     },
     "user_tz": -420
    },
    "id": "Z2_jvenhpxTf"
   },
   "outputs": [],
   "source": [
    "!wget -qO- https://drive.google.com/uc?id=1ijBxPTUmwRRveFtxLQxTbMYb5siETWOs > Enviroment_Risk.csv"
   ]
  },
  {
   "cell_type": "code",
   "execution_count": 6,
   "metadata": {
    "executionInfo": {
     "elapsed": 1115,
     "status": "ok",
     "timestamp": 1624624872040,
     "user": {
      "displayName": "BẢo Trần Hữu Chí",
      "photoUrl": "https://lh3.googleusercontent.com/a-/AOh14GjvC3RTar9FcVjUw5bsklXoIIHfc-pvtfYrLCX8=s64",
      "userId": "16173780980594326890"
     },
     "user_tz": -420
    },
    "id": "u5c7k68SwIyX"
   },
   "outputs": [],
   "source": [
    "import pandas as pd\n",
    "import numpy as np\n",
    "import re\n",
    "import matplotlib.pyplot as plt\n",
    "import seaborn as sns\n",
    "import warnings\n",
    "warnings.filterwarnings(\"ignore\")"
   ]
  },
  {
   "cell_type": "code",
   "execution_count": 7,
   "metadata": {
    "colab": {
     "base_uri": "https://localhost:8080/",
     "height": 237
    },
    "executionInfo": {
     "elapsed": 55,
     "status": "ok",
     "timestamp": 1624624872041,
     "user": {
      "displayName": "BẢo Trần Hữu Chí",
      "photoUrl": "https://lh3.googleusercontent.com/a-/AOh14GjvC3RTar9FcVjUw5bsklXoIIHfc-pvtfYrLCX8=s64",
      "userId": "16173780980594326890"
     },
     "user_tz": -420
    },
    "id": "vbgFCI9XwOjF",
    "outputId": "2ee3464f-8e0c-446b-dd79-8f34392d7800"
   },
   "outputs": [
    {
     "data": {
      "text/html": [
       "<div>\n",
       "<style scoped>\n",
       "    .dataframe tbody tr th:only-of-type {\n",
       "        vertical-align: middle;\n",
       "    }\n",
       "\n",
       "    .dataframe tbody tr th {\n",
       "        vertical-align: top;\n",
       "    }\n",
       "\n",
       "    .dataframe thead th {\n",
       "        text-align: right;\n",
       "    }\n",
       "</style>\n",
       "<table border=\"1\" class=\"dataframe\">\n",
       "  <thead>\n",
       "    <tr style=\"text-align: right;\">\n",
       "      <th></th>\n",
       "      <th>Entity</th>\n",
       "      <th>Code</th>\n",
       "      <th>Year</th>\n",
       "      <th>Total population (Gapminder, HYDE &amp; UN)</th>\n",
       "      <th>Continent</th>\n",
       "      <th>PM2.5 air pollution, mean annual exposure (micrograms per cubic meter)</th>\n",
       "      <th>Deaths - Ambient particulate matter pollution - Sex: Both - Age: Age-standardized (Rate)</th>\n",
       "    </tr>\n",
       "  </thead>\n",
       "  <tbody>\n",
       "    <tr>\n",
       "      <th>0</th>\n",
       "      <td>Abkhazia</td>\n",
       "      <td>OWID_ABK</td>\n",
       "      <td>2015</td>\n",
       "      <td>NaN</td>\n",
       "      <td>Asia</td>\n",
       "      <td>NaN</td>\n",
       "      <td>NaN</td>\n",
       "    </tr>\n",
       "    <tr>\n",
       "      <th>1</th>\n",
       "      <td>Afghanistan</td>\n",
       "      <td>AFG</td>\n",
       "      <td>1800</td>\n",
       "      <td>3280000.0</td>\n",
       "      <td>NaN</td>\n",
       "      <td>NaN</td>\n",
       "      <td>NaN</td>\n",
       "    </tr>\n",
       "    <tr>\n",
       "      <th>2</th>\n",
       "      <td>Afghanistan</td>\n",
       "      <td>AFG</td>\n",
       "      <td>1801</td>\n",
       "      <td>3280000.0</td>\n",
       "      <td>NaN</td>\n",
       "      <td>NaN</td>\n",
       "      <td>NaN</td>\n",
       "    </tr>\n",
       "    <tr>\n",
       "      <th>3</th>\n",
       "      <td>Afghanistan</td>\n",
       "      <td>AFG</td>\n",
       "      <td>1802</td>\n",
       "      <td>3280000.0</td>\n",
       "      <td>NaN</td>\n",
       "      <td>NaN</td>\n",
       "      <td>NaN</td>\n",
       "    </tr>\n",
       "    <tr>\n",
       "      <th>4</th>\n",
       "      <td>Afghanistan</td>\n",
       "      <td>AFG</td>\n",
       "      <td>1803</td>\n",
       "      <td>3280000.0</td>\n",
       "      <td>NaN</td>\n",
       "      <td>NaN</td>\n",
       "      <td>NaN</td>\n",
       "    </tr>\n",
       "  </tbody>\n",
       "</table>\n",
       "</div>"
      ],
      "text/plain": [
       "        Entity  ... Deaths - Ambient particulate matter pollution - Sex: Both - Age: Age-standardized (Rate)\n",
       "0     Abkhazia  ...                                                NaN                                      \n",
       "1  Afghanistan  ...                                                NaN                                      \n",
       "2  Afghanistan  ...                                                NaN                                      \n",
       "3  Afghanistan  ...                                                NaN                                      \n",
       "4  Afghanistan  ...                                                NaN                                      \n",
       "\n",
       "[5 rows x 7 columns]"
      ]
     },
     "execution_count": 7,
     "metadata": {
      "tags": []
     },
     "output_type": "execute_result"
    }
   ],
   "source": [
    "death_pm_df = pd.read_csv('Death.csv')\n",
    "death_pm_df.head()"
   ]
  },
  {
   "cell_type": "code",
   "execution_count": 8,
   "metadata": {
    "colab": {
     "base_uri": "https://localhost:8080/",
     "height": 220
    },
    "executionInfo": {
     "elapsed": 48,
     "status": "ok",
     "timestamp": 1624624872041,
     "user": {
      "displayName": "BẢo Trần Hữu Chí",
      "photoUrl": "https://lh3.googleusercontent.com/a-/AOh14GjvC3RTar9FcVjUw5bsklXoIIHfc-pvtfYrLCX8=s64",
      "userId": "16173780980594326890"
     },
     "user_tz": -420
    },
    "id": "c-zfLVZpwb6u",
    "outputId": "6c07732f-5817-4856-da83-bf38c94fceab"
   },
   "outputs": [
    {
     "data": {
      "text/html": [
       "<div>\n",
       "<style scoped>\n",
       "    .dataframe tbody tr th:only-of-type {\n",
       "        vertical-align: middle;\n",
       "    }\n",
       "\n",
       "    .dataframe tbody tr th {\n",
       "        vertical-align: top;\n",
       "    }\n",
       "\n",
       "    .dataframe thead th {\n",
       "        text-align: right;\n",
       "    }\n",
       "</style>\n",
       "<table border=\"1\" class=\"dataframe\">\n",
       "  <thead>\n",
       "    <tr style=\"text-align: right;\">\n",
       "      <th></th>\n",
       "      <th>Entity</th>\n",
       "      <th>Code</th>\n",
       "      <th>Year</th>\n",
       "      <th>Total population (Gapminder, HYDE &amp; UN)</th>\n",
       "      <th>Continent</th>\n",
       "      <th>GDP per capita, PPP (constant 2011 international $)</th>\n",
       "      <th>Death rate – Outdoor air pollution (age-standardized) (IHME)</th>\n",
       "    </tr>\n",
       "  </thead>\n",
       "  <tbody>\n",
       "    <tr>\n",
       "      <th>0</th>\n",
       "      <td>Abkhazia</td>\n",
       "      <td>OWID_ABK</td>\n",
       "      <td>2015</td>\n",
       "      <td>NaN</td>\n",
       "      <td>Asia</td>\n",
       "      <td>NaN</td>\n",
       "      <td>NaN</td>\n",
       "    </tr>\n",
       "    <tr>\n",
       "      <th>1</th>\n",
       "      <td>Afghanistan</td>\n",
       "      <td>AFG</td>\n",
       "      <td>1800</td>\n",
       "      <td>3280000.0</td>\n",
       "      <td>NaN</td>\n",
       "      <td>NaN</td>\n",
       "      <td>NaN</td>\n",
       "    </tr>\n",
       "    <tr>\n",
       "      <th>2</th>\n",
       "      <td>Afghanistan</td>\n",
       "      <td>AFG</td>\n",
       "      <td>1801</td>\n",
       "      <td>3280000.0</td>\n",
       "      <td>NaN</td>\n",
       "      <td>NaN</td>\n",
       "      <td>NaN</td>\n",
       "    </tr>\n",
       "    <tr>\n",
       "      <th>3</th>\n",
       "      <td>Afghanistan</td>\n",
       "      <td>AFG</td>\n",
       "      <td>1802</td>\n",
       "      <td>3280000.0</td>\n",
       "      <td>NaN</td>\n",
       "      <td>NaN</td>\n",
       "      <td>NaN</td>\n",
       "    </tr>\n",
       "    <tr>\n",
       "      <th>4</th>\n",
       "      <td>Afghanistan</td>\n",
       "      <td>AFG</td>\n",
       "      <td>1803</td>\n",
       "      <td>3280000.0</td>\n",
       "      <td>NaN</td>\n",
       "      <td>NaN</td>\n",
       "      <td>NaN</td>\n",
       "    </tr>\n",
       "  </tbody>\n",
       "</table>\n",
       "</div>"
      ],
      "text/plain": [
       "        Entity  ... Death rate – Outdoor air pollution (age-standardized) (IHME)\n",
       "0     Abkhazia  ...                                                NaN          \n",
       "1  Afghanistan  ...                                                NaN          \n",
       "2  Afghanistan  ...                                                NaN          \n",
       "3  Afghanistan  ...                                                NaN          \n",
       "4  Afghanistan  ...                                                NaN          \n",
       "\n",
       "[5 rows x 7 columns]"
      ]
     },
     "execution_count": 8,
     "metadata": {
      "tags": []
     },
     "output_type": "execute_result"
    }
   ],
   "source": [
    "gdp_death_rate_df = pd.read_csv('Population_GDP.csv')\n",
    "gdp_death_rate_df.head()"
   ]
  },
  {
   "cell_type": "markdown",
   "metadata": {
    "id": "w-nomfGU6W5j"
   },
   "source": [
    "# Khám phá dữ liệu"
   ]
  },
  {
   "cell_type": "code",
   "execution_count": 9,
   "metadata": {
    "colab": {
     "base_uri": "https://localhost:8080/"
    },
    "executionInfo": {
     "elapsed": 46,
     "status": "ok",
     "timestamp": 1624624872042,
     "user": {
      "displayName": "BẢo Trần Hữu Chí",
      "photoUrl": "https://lh3.googleusercontent.com/a-/AOh14GjvC3RTar9FcVjUw5bsklXoIIHfc-pvtfYrLCX8=s64",
      "userId": "16173780980594326890"
     },
     "user_tz": -420
    },
    "id": "odJkdX1QLhEV",
    "outputId": "a90b782c-0e43-45f4-9427-42340a282cc1"
   },
   "outputs": [
    {
     "data": {
      "text/plain": [
       "array([  2015,   1800,   1801,   1802,   1803,   1804,   1805,   1806,\n",
       "         1807,   1808,   1809,   1810,   1811,   1812,   1813,   1814,\n",
       "         1815,   1816,   1817,   1818,   1819,   1820,   1821,   1822,\n",
       "         1823,   1824,   1825,   1826,   1827,   1828,   1829,   1830,\n",
       "         1831,   1832,   1833,   1834,   1835,   1836,   1837,   1838,\n",
       "         1839,   1840,   1841,   1842,   1843,   1844,   1845,   1846,\n",
       "         1847,   1848,   1849,   1850,   1851,   1852,   1853,   1854,\n",
       "         1855,   1856,   1857,   1858,   1859,   1860,   1861,   1862,\n",
       "         1863,   1864,   1865,   1866,   1867,   1868,   1869,   1870,\n",
       "         1871,   1872,   1873,   1874,   1875,   1876,   1877,   1878,\n",
       "         1879,   1880,   1881,   1882,   1883,   1884,   1885,   1886,\n",
       "         1887,   1888,   1889,   1890,   1891,   1892,   1893,   1894,\n",
       "         1895,   1896,   1897,   1898,   1899,   1900,   1901,   1902,\n",
       "         1903,   1904,   1905,   1906,   1907,   1908,   1909,   1910,\n",
       "         1911,   1912,   1913,   1914,   1915,   1916,   1917,   1918,\n",
       "         1919,   1920,   1921,   1922,   1923,   1924,   1925,   1926,\n",
       "         1927,   1928,   1929,   1930,   1931,   1932,   1933,   1934,\n",
       "         1935,   1936,   1937,   1938,   1939,   1940,   1941,   1942,\n",
       "         1943,   1944,   1945,   1946,   1947,   1948,   1949,   1950,\n",
       "         1951,   1952,   1953,   1954,   1955,   1956,   1957,   1958,\n",
       "         1959,   1960,   1961,   1962,   1963,   1964,   1965,   1966,\n",
       "         1967,   1968,   1969,   1970,   1971,   1972,   1973,   1974,\n",
       "         1975,   1976,   1977,   1978,   1979,   1980,   1981,   1982,\n",
       "         1983,   1984,   1985,   1986,   1987,   1988,   1989,   1990,\n",
       "         1991,   1992,   1993,   1994,   1995,   1996,   1997,   1998,\n",
       "         1999,   2000,   2001,   2002,   2003,   2004,   2005,   2006,\n",
       "         2007,   2008,   2009,   2010,   2011,   2012,   2013,   2014,\n",
       "         2016,   2017,   2018,   2019, -10000,  -9000,  -8000,  -7000,\n",
       "        -6000,  -5000,  -4000,  -3000,  -2000,  -1000,      0,    100,\n",
       "          200,    300,    400,    500,    600,    700,    800,    900,\n",
       "         1000,   1100,   1200,   1300,   1400,   1500,   1600,   1700,\n",
       "         1710,   1720,   1730,   1740,   1750,   1760,   1770,   1780,\n",
       "         1790,      1])"
      ]
     },
     "execution_count": 9,
     "metadata": {
      "tags": []
     },
     "output_type": "execute_result"
    }
   ],
   "source": [
    "death_pm_df['Year'].unique()"
   ]
  },
  {
   "cell_type": "markdown",
   "metadata": {
    "id": "Pi-02MkwMZ29"
   },
   "source": [
    "**Nhận xét:** Nhận thấy dữ liệu được thu thập từ năm 1700 nên ta chỉ lấy lấy dữ liệu từ năm 1990 đến nay."
   ]
  },
  {
   "cell_type": "markdown",
   "metadata": {
    "id": "bDWxPchoEoKT"
   },
   "source": [
    "## Lấy dữ liệu từ năm 1990 đến nay"
   ]
  },
  {
   "cell_type": "code",
   "execution_count": 10,
   "metadata": {
    "executionInfo": {
     "elapsed": 36,
     "status": "ok",
     "timestamp": 1624624872042,
     "user": {
      "displayName": "BẢo Trần Hữu Chí",
      "photoUrl": "https://lh3.googleusercontent.com/a-/AOh14GjvC3RTar9FcVjUw5bsklXoIIHfc-pvtfYrLCX8=s64",
      "userId": "16173780980594326890"
     },
     "user_tz": -420
    },
    "id": "rS722wQjM7kE"
   },
   "outputs": [],
   "source": [
    "def get_year(year):\n",
    "  choice_year = np.arange(1990,2020)\n",
    "  return year if year in choice_year else np.nan"
   ]
  },
  {
   "cell_type": "code",
   "execution_count": 11,
   "metadata": {
    "colab": {
     "base_uri": "https://localhost:8080/",
     "height": 237
    },
    "executionInfo": {
     "elapsed": 35,
     "status": "ok",
     "timestamp": 1624624872043,
     "user": {
      "displayName": "BẢo Trần Hữu Chí",
      "photoUrl": "https://lh3.googleusercontent.com/a-/AOh14GjvC3RTar9FcVjUw5bsklXoIIHfc-pvtfYrLCX8=s64",
      "userId": "16173780980594326890"
     },
     "user_tz": -420
    },
    "id": "UmadV5L7NENk",
    "outputId": "66d8e511-5afc-4517-b498-0787d289c40f"
   },
   "outputs": [
    {
     "data": {
      "text/html": [
       "<div>\n",
       "<style scoped>\n",
       "    .dataframe tbody tr th:only-of-type {\n",
       "        vertical-align: middle;\n",
       "    }\n",
       "\n",
       "    .dataframe tbody tr th {\n",
       "        vertical-align: top;\n",
       "    }\n",
       "\n",
       "    .dataframe thead th {\n",
       "        text-align: right;\n",
       "    }\n",
       "</style>\n",
       "<table border=\"1\" class=\"dataframe\">\n",
       "  <thead>\n",
       "    <tr style=\"text-align: right;\">\n",
       "      <th></th>\n",
       "      <th>Entity</th>\n",
       "      <th>Code</th>\n",
       "      <th>Year</th>\n",
       "      <th>Total population (Gapminder, HYDE &amp; UN)</th>\n",
       "      <th>Continent</th>\n",
       "      <th>PM2.5 air pollution, mean annual exposure (micrograms per cubic meter)</th>\n",
       "      <th>Deaths - Ambient particulate matter pollution - Sex: Both - Age: Age-standardized (Rate)</th>\n",
       "    </tr>\n",
       "  </thead>\n",
       "  <tbody>\n",
       "    <tr>\n",
       "      <th>0</th>\n",
       "      <td>Abkhazia</td>\n",
       "      <td>OWID_ABK</td>\n",
       "      <td>2015.0</td>\n",
       "      <td>NaN</td>\n",
       "      <td>Asia</td>\n",
       "      <td>NaN</td>\n",
       "      <td>NaN</td>\n",
       "    </tr>\n",
       "    <tr>\n",
       "      <th>1</th>\n",
       "      <td>Afghanistan</td>\n",
       "      <td>AFG</td>\n",
       "      <td>1990.0</td>\n",
       "      <td>12412000.0</td>\n",
       "      <td>NaN</td>\n",
       "      <td>60.93669</td>\n",
       "      <td>46.446589</td>\n",
       "    </tr>\n",
       "    <tr>\n",
       "      <th>2</th>\n",
       "      <td>Afghanistan</td>\n",
       "      <td>AFG</td>\n",
       "      <td>1991.0</td>\n",
       "      <td>13299000.0</td>\n",
       "      <td>NaN</td>\n",
       "      <td>NaN</td>\n",
       "      <td>46.033841</td>\n",
       "    </tr>\n",
       "    <tr>\n",
       "      <th>3</th>\n",
       "      <td>Afghanistan</td>\n",
       "      <td>AFG</td>\n",
       "      <td>1992.0</td>\n",
       "      <td>14486000.0</td>\n",
       "      <td>NaN</td>\n",
       "      <td>NaN</td>\n",
       "      <td>44.243766</td>\n",
       "    </tr>\n",
       "    <tr>\n",
       "      <th>4</th>\n",
       "      <td>Afghanistan</td>\n",
       "      <td>AFG</td>\n",
       "      <td>1993.0</td>\n",
       "      <td>15817000.0</td>\n",
       "      <td>NaN</td>\n",
       "      <td>NaN</td>\n",
       "      <td>44.440148</td>\n",
       "    </tr>\n",
       "  </tbody>\n",
       "</table>\n",
       "</div>"
      ],
      "text/plain": [
       "        Entity  ... Deaths - Ambient particulate matter pollution - Sex: Both - Age: Age-standardized (Rate)\n",
       "0     Abkhazia  ...                                                NaN                                      \n",
       "1  Afghanistan  ...                                          46.446589                                      \n",
       "2  Afghanistan  ...                                          46.033841                                      \n",
       "3  Afghanistan  ...                                          44.243766                                      \n",
       "4  Afghanistan  ...                                          44.440148                                      \n",
       "\n",
       "[5 rows x 7 columns]"
      ]
     },
     "execution_count": 11,
     "metadata": {
      "tags": []
     },
     "output_type": "execute_result"
    }
   ],
   "source": [
    "death_pm_df['Year'] = death_pm_df['Year'].apply(get_year)\n",
    "death_pm_df = death_pm_df[~death_pm_df['Year'].isna()].reset_index(drop=True)\n",
    "death_pm_df.head()"
   ]
  },
  {
   "cell_type": "markdown",
   "metadata": {
    "id": "mDnEpCJa6cZd"
   },
   "source": [
    "## Đổi tên thuộc tính"
   ]
  },
  {
   "cell_type": "code",
   "execution_count": 12,
   "metadata": {
    "colab": {
     "base_uri": "https://localhost:8080/"
    },
    "executionInfo": {
     "elapsed": 33,
     "status": "ok",
     "timestamp": 1624624872044,
     "user": {
      "displayName": "BẢo Trần Hữu Chí",
      "photoUrl": "https://lh3.googleusercontent.com/a-/AOh14GjvC3RTar9FcVjUw5bsklXoIIHfc-pvtfYrLCX8=s64",
      "userId": "16173780980594326890"
     },
     "user_tz": -420
    },
    "id": "LGmSk684NSN8",
    "outputId": "26eacb17-9008-449d-ba76-cf0c940f770e"
   },
   "outputs": [
    {
     "data": {
      "text/plain": [
       "Index(['Entity', 'Code', 'Year', 'Total population (Gapminder, HYDE & UN)',\n",
       "       'Continent',\n",
       "       'PM2.5 air pollution, mean annual exposure (micrograms per cubic meter)',\n",
       "       'Deaths - Ambient particulate matter pollution - Sex: Both - Age: Age-standardized (Rate)'],\n",
       "      dtype='object')"
      ]
     },
     "execution_count": 12,
     "metadata": {
      "tags": []
     },
     "output_type": "execute_result"
    }
   ],
   "source": [
    "death_pm_df.columns"
   ]
  },
  {
   "cell_type": "markdown",
   "metadata": {
    "id": "6G45kmccNWrZ"
   },
   "source": [
    "**Nhận xét:** Nhiều thuộc tính có tên dài khiến việc truy xuất dữ liệu vào các thuộc tính đó dễ sai nên sẽ lấy tên thuộc tính ngắn lại."
   ]
  },
  {
   "cell_type": "code",
   "execution_count": 13,
   "metadata": {
    "executionInfo": {
     "elapsed": 29,
     "status": "ok",
     "timestamp": 1624624872044,
     "user": {
      "displayName": "BẢo Trần Hữu Chí",
      "photoUrl": "https://lh3.googleusercontent.com/a-/AOh14GjvC3RTar9FcVjUw5bsklXoIIHfc-pvtfYrLCX8=s64",
      "userId": "16173780980594326890"
     },
     "user_tz": -420
    },
    "id": "ox_x3JUp3TyL"
   },
   "outputs": [],
   "source": [
    "def handle_name_columns(name_columns):\n",
    "  list_name =[]\n",
    "  for column in name_columns.tolist():\n",
    "    index = column.find(' (')\n",
    "    if index !=-1:\n",
    "      list_name.append(column[:index])\n",
    "    else:\n",
    "      list_name.append(column)\n",
    "  return list_name"
   ]
  },
  {
   "cell_type": "code",
   "execution_count": 14,
   "metadata": {
    "executionInfo": {
     "elapsed": 30,
     "status": "ok",
     "timestamp": 1624624872045,
     "user": {
      "displayName": "BẢo Trần Hữu Chí",
      "photoUrl": "https://lh3.googleusercontent.com/a-/AOh14GjvC3RTar9FcVjUw5bsklXoIIHfc-pvtfYrLCX8=s64",
      "userId": "16173780980594326890"
     },
     "user_tz": -420
    },
    "id": "vJOambF84Aqu"
   },
   "outputs": [],
   "source": [
    "list_name_columns = handle_name_columns(death_pm_df.columns)\n",
    "death_pm_df = death_pm_df.rename(columns =dict(zip(death_pm_df.columns,list_name_columns)))"
   ]
  },
  {
   "cell_type": "code",
   "execution_count": 15,
   "metadata": {
    "colab": {
     "base_uri": "https://localhost:8080/"
    },
    "executionInfo": {
     "elapsed": 30,
     "status": "ok",
     "timestamp": 1624624872046,
     "user": {
      "displayName": "BẢo Trần Hữu Chí",
      "photoUrl": "https://lh3.googleusercontent.com/a-/AOh14GjvC3RTar9FcVjUw5bsklXoIIHfc-pvtfYrLCX8=s64",
      "userId": "16173780980594326890"
     },
     "user_tz": -420
    },
    "id": "j0n5nE_d4Uvg",
    "outputId": "f07fbefd-7f3e-4348-948e-2bd272007ce5"
   },
   "outputs": [
    {
     "data": {
      "text/plain": [
       "Index(['Entity', 'Code', 'Year', 'Total population', 'Continent',\n",
       "       'PM2.5 air pollution, mean annual exposure',\n",
       "       'Deaths - Ambient particulate matter pollution - Sex: Both - Age: Age-standardized'],\n",
       "      dtype='object')"
      ]
     },
     "execution_count": 15,
     "metadata": {
      "tags": []
     },
     "output_type": "execute_result"
    }
   ],
   "source": [
    "#sau khi đổi tên cột\n",
    "death_pm_df.columns"
   ]
  },
  {
   "cell_type": "markdown",
   "metadata": {
    "id": "c5vpHK7pOPI-"
   },
   "source": [
    "## Dữ liệu có bao nhiêu dòng và bao nhiêu cột?"
   ]
  },
  {
   "cell_type": "code",
   "execution_count": 16,
   "metadata": {
    "executionInfo": {
     "elapsed": 26,
     "status": "ok",
     "timestamp": 1624624872046,
     "user": {
      "displayName": "BẢo Trần Hữu Chí",
      "photoUrl": "https://lh3.googleusercontent.com/a-/AOh14GjvC3RTar9FcVjUw5bsklXoIIHfc-pvtfYrLCX8=s64",
      "userId": "16173780980594326890"
     },
     "user_tz": -420
    },
    "id": "nWUNwZ18OXZN"
   },
   "outputs": [],
   "source": [
    "num_rows, num_cols = death_pm_df.shape"
   ]
  },
  {
   "cell_type": "code",
   "execution_count": 17,
   "metadata": {
    "colab": {
     "base_uri": "https://localhost:8080/"
    },
    "executionInfo": {
     "elapsed": 27,
     "status": "ok",
     "timestamp": 1624624872047,
     "user": {
      "displayName": "BẢo Trần Hữu Chí",
      "photoUrl": "https://lh3.googleusercontent.com/a-/AOh14GjvC3RTar9FcVjUw5bsklXoIIHfc-pvtfYrLCX8=s64",
      "userId": "16173780980594326890"
     },
     "user_tz": -420
    },
    "id": "LIUJ0qflOdWD",
    "outputId": "e96a44f8-5033-4680-906f-7e4cf47bddec"
   },
   "outputs": [
    {
     "data": {
      "text/plain": [
       "(8708, 7)"
      ]
     },
     "execution_count": 17,
     "metadata": {
      "tags": []
     },
     "output_type": "execute_result"
    }
   ],
   "source": [
    "(num_rows, num_cols)"
   ]
  },
  {
   "cell_type": "markdown",
   "metadata": {
    "id": "FrRkty-YOie8"
   },
   "source": [
    "## Mỗi dòng có ý nghĩa gì? Có vấn đề các dòng có ý nghĩa khác nhau không?"
   ]
  },
  {
   "cell_type": "markdown",
   "metadata": {
    "id": "pbe8qeaQOons"
   },
   "source": [
    "### Dữ liệu có các dòng bị lặp không?"
   ]
  },
  {
   "cell_type": "code",
   "execution_count": 18,
   "metadata": {
    "colab": {
     "base_uri": "https://localhost:8080/"
    },
    "executionInfo": {
     "elapsed": 26,
     "status": "ok",
     "timestamp": 1624624872048,
     "user": {
      "displayName": "BẢo Trần Hữu Chí",
      "photoUrl": "https://lh3.googleusercontent.com/a-/AOh14GjvC3RTar9FcVjUw5bsklXoIIHfc-pvtfYrLCX8=s64",
      "userId": "16173780980594326890"
     },
     "user_tz": -420
    },
    "id": "PemQh6_WOqvr",
    "outputId": "df8d902d-f3c2-4836-b83b-565c0388dd95"
   },
   "outputs": [
    {
     "data": {
      "text/plain": [
       "0"
      ]
     },
     "execution_count": 18,
     "metadata": {
      "tags": []
     },
     "output_type": "execute_result"
    }
   ],
   "source": [
    "death_pm_df.duplicated().sum()"
   ]
  },
  {
   "cell_type": "markdown",
   "metadata": {
    "id": "hyM-V4_QPpyd"
   },
   "source": [
    "## Xem giá trị thiếu mỗi cột"
   ]
  },
  {
   "cell_type": "code",
   "execution_count": 19,
   "metadata": {
    "colab": {
     "base_uri": "https://localhost:8080/"
    },
    "executionInfo": {
     "elapsed": 24,
     "status": "ok",
     "timestamp": 1624624872048,
     "user": {
      "displayName": "BẢo Trần Hữu Chí",
      "photoUrl": "https://lh3.googleusercontent.com/a-/AOh14GjvC3RTar9FcVjUw5bsklXoIIHfc-pvtfYrLCX8=s64",
      "userId": "16173780980594326890"
     },
     "user_tz": -420
    },
    "id": "KqP0Yev2N3oE",
    "outputId": "d5e8b7d1-fe40-4e1d-cb73-37e95c1fc77d"
   },
   "outputs": [
    {
     "data": {
      "text/plain": [
       "Entity                                                                                  0\n",
       "Code                                                                                 1607\n",
       "Year                                                                                    0\n",
       "Total population                                                                     1448\n",
       "Continent                                                                            8423\n",
       "PM2.5 air pollution, mean annual exposure                                            6068\n",
       "Deaths - Ambient particulate matter pollution - Sex: Both - Age: Age-standardized    2240\n",
       "dtype: int64"
      ]
     },
     "execution_count": 19,
     "metadata": {
      "tags": []
     },
     "output_type": "execute_result"
    }
   ],
   "source": [
    "death_pm_df.isna().sum()"
   ]
  },
  {
   "cell_type": "markdown",
   "metadata": {
    "id": "i5Yq8SBu7ulH"
   },
   "source": [
    "### Xử lý giá trị thiếu thuộc tính continent"
   ]
  },
  {
   "cell_type": "code",
   "execution_count": 20,
   "metadata": {
    "colab": {
     "base_uri": "https://localhost:8080/",
     "height": 417
    },
    "executionInfo": {
     "elapsed": 23,
     "status": "ok",
     "timestamp": 1624624872049,
     "user": {
      "displayName": "BẢo Trần Hữu Chí",
      "photoUrl": "https://lh3.googleusercontent.com/a-/AOh14GjvC3RTar9FcVjUw5bsklXoIIHfc-pvtfYrLCX8=s64",
      "userId": "16173780980594326890"
     },
     "user_tz": -420
    },
    "id": "Yof6Xdbo8otz",
    "outputId": "92f7b455-5a09-4fb3-e2b3-b66c94d7f2a9"
   },
   "outputs": [
    {
     "data": {
      "text/html": [
       "<div>\n",
       "<style scoped>\n",
       "    .dataframe tbody tr th:only-of-type {\n",
       "        vertical-align: middle;\n",
       "    }\n",
       "\n",
       "    .dataframe tbody tr th {\n",
       "        vertical-align: top;\n",
       "    }\n",
       "\n",
       "    .dataframe thead th {\n",
       "        text-align: right;\n",
       "    }\n",
       "</style>\n",
       "<table border=\"1\" class=\"dataframe\">\n",
       "  <thead>\n",
       "    <tr style=\"text-align: right;\">\n",
       "      <th></th>\n",
       "      <th>Entity</th>\n",
       "      <th>Code</th>\n",
       "      <th>Continent</th>\n",
       "    </tr>\n",
       "  </thead>\n",
       "  <tbody>\n",
       "    <tr>\n",
       "      <th>0</th>\n",
       "      <td>Abkhazia</td>\n",
       "      <td>OWID_ABK</td>\n",
       "      <td>Asia</td>\n",
       "    </tr>\n",
       "    <tr>\n",
       "      <th>1</th>\n",
       "      <td>Afghanistan</td>\n",
       "      <td>AFG</td>\n",
       "      <td>Asia</td>\n",
       "    </tr>\n",
       "    <tr>\n",
       "      <th>2</th>\n",
       "      <td>Akrotiri and Dhekelia</td>\n",
       "      <td>OWID_AKD</td>\n",
       "      <td>Asia</td>\n",
       "    </tr>\n",
       "    <tr>\n",
       "      <th>3</th>\n",
       "      <td>Albania</td>\n",
       "      <td>ALB</td>\n",
       "      <td>Europe</td>\n",
       "    </tr>\n",
       "    <tr>\n",
       "      <th>4</th>\n",
       "      <td>Algeria</td>\n",
       "      <td>DZA</td>\n",
       "      <td>Africa</td>\n",
       "    </tr>\n",
       "    <tr>\n",
       "      <th>...</th>\n",
       "      <td>...</td>\n",
       "      <td>...</td>\n",
       "      <td>...</td>\n",
       "    </tr>\n",
       "    <tr>\n",
       "      <th>280</th>\n",
       "      <td>Yugoslavia</td>\n",
       "      <td>OWID_YGS</td>\n",
       "      <td>Europe</td>\n",
       "    </tr>\n",
       "    <tr>\n",
       "      <th>281</th>\n",
       "      <td>Zambia</td>\n",
       "      <td>ZMB</td>\n",
       "      <td>Africa</td>\n",
       "    </tr>\n",
       "    <tr>\n",
       "      <th>282</th>\n",
       "      <td>Zanzibar</td>\n",
       "      <td>OWID_ZAN</td>\n",
       "      <td>Africa</td>\n",
       "    </tr>\n",
       "    <tr>\n",
       "      <th>283</th>\n",
       "      <td>Zimbabwe</td>\n",
       "      <td>ZWE</td>\n",
       "      <td>Africa</td>\n",
       "    </tr>\n",
       "    <tr>\n",
       "      <th>284</th>\n",
       "      <td>Åland Islands</td>\n",
       "      <td>ALA</td>\n",
       "      <td>Europe</td>\n",
       "    </tr>\n",
       "  </tbody>\n",
       "</table>\n",
       "<p>285 rows × 3 columns</p>\n",
       "</div>"
      ],
      "text/plain": [
       "                    Entity      Code Continent\n",
       "0                 Abkhazia  OWID_ABK      Asia\n",
       "1              Afghanistan       AFG      Asia\n",
       "2    Akrotiri and Dhekelia  OWID_AKD      Asia\n",
       "3                  Albania       ALB    Europe\n",
       "4                  Algeria       DZA    Africa\n",
       "..                     ...       ...       ...\n",
       "280             Yugoslavia  OWID_YGS    Europe\n",
       "281                 Zambia       ZMB    Africa\n",
       "282               Zanzibar  OWID_ZAN    Africa\n",
       "283               Zimbabwe       ZWE    Africa\n",
       "284          Åland Islands       ALA    Europe\n",
       "\n",
       "[285 rows x 3 columns]"
      ]
     },
     "execution_count": 20,
     "metadata": {
      "tags": []
     },
     "output_type": "execute_result"
    }
   ],
   "source": [
    "code_continent_df = death_pm_df[['Entity','Code','Continent']]\n",
    "code_continent_df = code_continent_df.dropna(axis=0, how='any').reset_index(drop=True)\n",
    "code_continent_df"
   ]
  },
  {
   "cell_type": "code",
   "execution_count": 21,
   "metadata": {
    "colab": {
     "base_uri": "https://localhost:8080/",
     "height": 220
    },
    "executionInfo": {
     "elapsed": 22,
     "status": "ok",
     "timestamp": 1624624872049,
     "user": {
      "displayName": "BẢo Trần Hữu Chí",
      "photoUrl": "https://lh3.googleusercontent.com/a-/AOh14GjvC3RTar9FcVjUw5bsklXoIIHfc-pvtfYrLCX8=s64",
      "userId": "16173780980594326890"
     },
     "user_tz": -420
    },
    "id": "jl252W_V9o8J",
    "outputId": "00a82252-8510-4622-9b6e-5e407a579604"
   },
   "outputs": [
    {
     "data": {
      "text/html": [
       "<div>\n",
       "<style scoped>\n",
       "    .dataframe tbody tr th:only-of-type {\n",
       "        vertical-align: middle;\n",
       "    }\n",
       "\n",
       "    .dataframe tbody tr th {\n",
       "        vertical-align: top;\n",
       "    }\n",
       "\n",
       "    .dataframe thead th {\n",
       "        text-align: right;\n",
       "    }\n",
       "</style>\n",
       "<table border=\"1\" class=\"dataframe\">\n",
       "  <thead>\n",
       "    <tr style=\"text-align: right;\">\n",
       "      <th></th>\n",
       "      <th>Entity</th>\n",
       "      <th>Code</th>\n",
       "      <th>Year</th>\n",
       "      <th>Total population</th>\n",
       "      <th>PM2.5 air pollution, mean annual exposure</th>\n",
       "      <th>Deaths - Ambient particulate matter pollution - Sex: Both - Age: Age-standardized</th>\n",
       "      <th>Continent</th>\n",
       "    </tr>\n",
       "  </thead>\n",
       "  <tbody>\n",
       "    <tr>\n",
       "      <th>0</th>\n",
       "      <td>Abkhazia</td>\n",
       "      <td>OWID_ABK</td>\n",
       "      <td>2015.0</td>\n",
       "      <td>NaN</td>\n",
       "      <td>NaN</td>\n",
       "      <td>NaN</td>\n",
       "      <td>Asia</td>\n",
       "    </tr>\n",
       "    <tr>\n",
       "      <th>1</th>\n",
       "      <td>Afghanistan</td>\n",
       "      <td>AFG</td>\n",
       "      <td>1990.0</td>\n",
       "      <td>12412000.0</td>\n",
       "      <td>60.93669</td>\n",
       "      <td>46.446589</td>\n",
       "      <td>Asia</td>\n",
       "    </tr>\n",
       "    <tr>\n",
       "      <th>2</th>\n",
       "      <td>Afghanistan</td>\n",
       "      <td>AFG</td>\n",
       "      <td>1991.0</td>\n",
       "      <td>13299000.0</td>\n",
       "      <td>NaN</td>\n",
       "      <td>46.033841</td>\n",
       "      <td>Asia</td>\n",
       "    </tr>\n",
       "    <tr>\n",
       "      <th>3</th>\n",
       "      <td>Afghanistan</td>\n",
       "      <td>AFG</td>\n",
       "      <td>1992.0</td>\n",
       "      <td>14486000.0</td>\n",
       "      <td>NaN</td>\n",
       "      <td>44.243766</td>\n",
       "      <td>Asia</td>\n",
       "    </tr>\n",
       "    <tr>\n",
       "      <th>4</th>\n",
       "      <td>Afghanistan</td>\n",
       "      <td>AFG</td>\n",
       "      <td>1993.0</td>\n",
       "      <td>15817000.0</td>\n",
       "      <td>NaN</td>\n",
       "      <td>44.440148</td>\n",
       "      <td>Asia</td>\n",
       "    </tr>\n",
       "  </tbody>\n",
       "</table>\n",
       "</div>"
      ],
      "text/plain": [
       "        Entity  ... Continent\n",
       "0     Abkhazia  ...      Asia\n",
       "1  Afghanistan  ...      Asia\n",
       "2  Afghanistan  ...      Asia\n",
       "3  Afghanistan  ...      Asia\n",
       "4  Afghanistan  ...      Asia\n",
       "\n",
       "[5 rows x 7 columns]"
      ]
     },
     "execution_count": 21,
     "metadata": {
      "tags": []
     },
     "output_type": "execute_result"
    }
   ],
   "source": [
    "death_pm_df = death_pm_df.merge(code_continent_df,how='left',left_on=['Entity','Code'],right_on=['Entity','Code'])\n",
    "death_pm_df = death_pm_df.drop(columns='Continent_x',axis=1)\n",
    "death_pm_df.rename(columns={'Continent_y':'Continent'},inplace = True)\n",
    "death_pm_df.head()"
   ]
  },
  {
   "cell_type": "code",
   "execution_count": 22,
   "metadata": {
    "colab": {
     "base_uri": "https://localhost:8080/"
    },
    "executionInfo": {
     "elapsed": 609,
     "status": "ok",
     "timestamp": 1624624872636,
     "user": {
      "displayName": "BẢo Trần Hữu Chí",
      "photoUrl": "https://lh3.googleusercontent.com/a-/AOh14GjvC3RTar9FcVjUw5bsklXoIIHfc-pvtfYrLCX8=s64",
      "userId": "16173780980594326890"
     },
     "user_tz": -420
    },
    "id": "3FwLP3FMQRMs",
    "outputId": "41e4fbc1-9d92-4772-bd63-abb9ccf1bd47"
   },
   "outputs": [
    {
     "data": {
      "text/plain": [
       "Entity                                                                                  0\n",
       "Code                                                                                 1607\n",
       "Year                                                                                    0\n",
       "Total population                                                                     1448\n",
       "PM2.5 air pollution, mean annual exposure                                            6068\n",
       "Deaths - Ambient particulate matter pollution - Sex: Both - Age: Age-standardized    2240\n",
       "Continent                                                                            1637\n",
       "dtype: int64"
      ]
     },
     "execution_count": 22,
     "metadata": {
      "tags": []
     },
     "output_type": "execute_result"
    }
   ],
   "source": [
    "# Kiểm tra giá trị thiếu\n",
    "death_pm_df.isna().sum()"
   ]
  },
  {
   "cell_type": "code",
   "execution_count": 23,
   "metadata": {
    "colab": {
     "base_uri": "https://localhost:8080/",
     "height": 220
    },
    "executionInfo": {
     "elapsed": 61,
     "status": "ok",
     "timestamp": 1624624872637,
     "user": {
      "displayName": "BẢo Trần Hữu Chí",
      "photoUrl": "https://lh3.googleusercontent.com/a-/AOh14GjvC3RTar9FcVjUw5bsklXoIIHfc-pvtfYrLCX8=s64",
      "userId": "16173780980594326890"
     },
     "user_tz": -420
    },
    "id": "kmJh6vm_C8yL",
    "outputId": "439c5acf-bc1f-4007-bf95-f36d2a81481f"
   },
   "outputs": [
    {
     "data": {
      "text/html": [
       "<div>\n",
       "<style scoped>\n",
       "    .dataframe tbody tr th:only-of-type {\n",
       "        vertical-align: middle;\n",
       "    }\n",
       "\n",
       "    .dataframe tbody tr th {\n",
       "        vertical-align: top;\n",
       "    }\n",
       "\n",
       "    .dataframe thead th {\n",
       "        text-align: right;\n",
       "    }\n",
       "</style>\n",
       "<table border=\"1\" class=\"dataframe\">\n",
       "  <thead>\n",
       "    <tr style=\"text-align: right;\">\n",
       "      <th></th>\n",
       "      <th>Entity</th>\n",
       "      <th>Code</th>\n",
       "      <th>Year</th>\n",
       "      <th>Total population</th>\n",
       "      <th>PM2.5 air pollution, mean annual exposure</th>\n",
       "      <th>Deaths - Ambient particulate matter pollution - Sex: Both - Age: Age-standardized</th>\n",
       "      <th>Continent</th>\n",
       "    </tr>\n",
       "  </thead>\n",
       "  <tbody>\n",
       "    <tr>\n",
       "      <th>31</th>\n",
       "      <td>Africa</td>\n",
       "      <td>NaN</td>\n",
       "      <td>1990.0</td>\n",
       "      <td>630350016.0</td>\n",
       "      <td>NaN</td>\n",
       "      <td>NaN</td>\n",
       "      <td>NaN</td>\n",
       "    </tr>\n",
       "    <tr>\n",
       "      <th>32</th>\n",
       "      <td>Africa</td>\n",
       "      <td>NaN</td>\n",
       "      <td>1991.0</td>\n",
       "      <td>647344000.0</td>\n",
       "      <td>NaN</td>\n",
       "      <td>NaN</td>\n",
       "      <td>NaN</td>\n",
       "    </tr>\n",
       "    <tr>\n",
       "      <th>33</th>\n",
       "      <td>Africa</td>\n",
       "      <td>NaN</td>\n",
       "      <td>1992.0</td>\n",
       "      <td>664512000.0</td>\n",
       "      <td>NaN</td>\n",
       "      <td>NaN</td>\n",
       "      <td>NaN</td>\n",
       "    </tr>\n",
       "    <tr>\n",
       "      <th>34</th>\n",
       "      <td>Africa</td>\n",
       "      <td>NaN</td>\n",
       "      <td>1993.0</td>\n",
       "      <td>681868992.0</td>\n",
       "      <td>NaN</td>\n",
       "      <td>NaN</td>\n",
       "      <td>NaN</td>\n",
       "    </tr>\n",
       "    <tr>\n",
       "      <th>35</th>\n",
       "      <td>Africa</td>\n",
       "      <td>NaN</td>\n",
       "      <td>1994.0</td>\n",
       "      <td>699444992.0</td>\n",
       "      <td>NaN</td>\n",
       "      <td>NaN</td>\n",
       "      <td>NaN</td>\n",
       "    </tr>\n",
       "  </tbody>\n",
       "</table>\n",
       "</div>"
      ],
      "text/plain": [
       "    Entity  ... Continent\n",
       "31  Africa  ...       NaN\n",
       "32  Africa  ...       NaN\n",
       "33  Africa  ...       NaN\n",
       "34  Africa  ...       NaN\n",
       "35  Africa  ...       NaN\n",
       "\n",
       "[5 rows x 7 columns]"
      ]
     },
     "execution_count": 23,
     "metadata": {
      "tags": []
     },
     "output_type": "execute_result"
    }
   ],
   "source": [
    "# Sau khi điền giá trị nan cho cột continent thì vẫn còn các dòng bị nan\n",
    "continent_nan_df = death_pm_df[(death_pm_df['Continent'].isna()) | (death_pm_df['Code'].isna())]\n",
    "continent_nan_df.head()"
   ]
  },
  {
   "cell_type": "markdown",
   "metadata": {
    "id": "STkf1MoWTpTz"
   },
   "source": [
    "**Nhận xét:** Nhận thấy họ tính trên toàn bộ châu lục đó và thế giới nên continent bị nan đều dễ hiểu. Ta sẽ xóa bỏ những dòng này "
   ]
  },
  {
   "cell_type": "code",
   "execution_count": 24,
   "metadata": {
    "executionInfo": {
     "elapsed": 61,
     "status": "ok",
     "timestamp": 1624624872638,
     "user": {
      "displayName": "BẢo Trần Hữu Chí",
      "photoUrl": "https://lh3.googleusercontent.com/a-/AOh14GjvC3RTar9FcVjUw5bsklXoIIHfc-pvtfYrLCX8=s64",
      "userId": "16173780980594326890"
     },
     "user_tz": -420
    },
    "id": "PnY04aFQDju1"
   },
   "outputs": [],
   "source": [
    "# xóa các dòng thuộc tính continent bị nan\n",
    "death_pm_df = death_pm_df[(~death_pm_df['Continent'].isna()) & (~death_pm_df['Code'].isna())].reset_index(drop=True)"
   ]
  },
  {
   "cell_type": "code",
   "execution_count": 25,
   "metadata": {
    "colab": {
     "base_uri": "https://localhost:8080/"
    },
    "executionInfo": {
     "elapsed": 62,
     "status": "ok",
     "timestamp": 1624624872640,
     "user": {
      "displayName": "BẢo Trần Hữu Chí",
      "photoUrl": "https://lh3.googleusercontent.com/a-/AOh14GjvC3RTar9FcVjUw5bsklXoIIHfc-pvtfYrLCX8=s64",
      "userId": "16173780980594326890"
     },
     "user_tz": -420
    },
    "id": "bjko58w5Uo6G",
    "outputId": "5ea26184-7033-4e9c-ff39-ae30bc6d18dc"
   },
   "outputs": [
    {
     "data": {
      "text/plain": [
       "(7071, 7)"
      ]
     },
     "execution_count": 25,
     "metadata": {
      "tags": []
     },
     "output_type": "execute_result"
    }
   ],
   "source": [
    "death_pm_df.shape"
   ]
  },
  {
   "cell_type": "code",
   "execution_count": 26,
   "metadata": {
    "colab": {
     "base_uri": "https://localhost:8080/"
    },
    "executionInfo": {
     "elapsed": 56,
     "status": "ok",
     "timestamp": 1624624872641,
     "user": {
      "displayName": "BẢo Trần Hữu Chí",
      "photoUrl": "https://lh3.googleusercontent.com/a-/AOh14GjvC3RTar9FcVjUw5bsklXoIIHfc-pvtfYrLCX8=s64",
      "userId": "16173780980594326890"
     },
     "user_tz": -420
    },
    "id": "wZGVkI5hEZ80",
    "outputId": "40ca71e0-1d4d-48e5-e078-c73de12037c3"
   },
   "outputs": [
    {
     "data": {
      "text/plain": [
       "Entity                                                                                  0\n",
       "Code                                                                                    0\n",
       "Year                                                                                    0\n",
       "Total population                                                                       51\n",
       "PM2.5 air pollution, mean annual exposure                                            4948\n",
       "Deaths - Ambient particulate matter pollution - Sex: Both - Age: Age-standardized    1611\n",
       "Continent                                                                               0\n",
       "dtype: int64"
      ]
     },
     "execution_count": 26,
     "metadata": {
      "tags": []
     },
     "output_type": "execute_result"
    }
   ],
   "source": [
    "death_pm_df.isna().sum()"
   ]
  },
  {
   "cell_type": "markdown",
   "metadata": {
    "id": "OOyhA32DUPhK"
   },
   "source": [
    "**Nhận xét:** Các thuộc tính entity, code, continent không còn giá trị thiếu nữa."
   ]
  },
  {
   "cell_type": "markdown",
   "metadata": {
    "id": "Va_0bCl9VrQC"
   },
   "source": [
    "## Xử lý dữ liệu gdp_death_rate"
   ]
  },
  {
   "cell_type": "code",
   "execution_count": 27,
   "metadata": {
    "colab": {
     "base_uri": "https://localhost:8080/",
     "height": 220
    },
    "executionInfo": {
     "elapsed": 49,
     "status": "ok",
     "timestamp": 1624624872642,
     "user": {
      "displayName": "BẢo Trần Hữu Chí",
      "photoUrl": "https://lh3.googleusercontent.com/a-/AOh14GjvC3RTar9FcVjUw5bsklXoIIHfc-pvtfYrLCX8=s64",
      "userId": "16173780980594326890"
     },
     "user_tz": -420
    },
    "id": "WG5FPdX9Vli9",
    "outputId": "f42af9e3-b76f-4d39-8c8a-192536fb859d"
   },
   "outputs": [
    {
     "data": {
      "text/html": [
       "<div>\n",
       "<style scoped>\n",
       "    .dataframe tbody tr th:only-of-type {\n",
       "        vertical-align: middle;\n",
       "    }\n",
       "\n",
       "    .dataframe tbody tr th {\n",
       "        vertical-align: top;\n",
       "    }\n",
       "\n",
       "    .dataframe thead th {\n",
       "        text-align: right;\n",
       "    }\n",
       "</style>\n",
       "<table border=\"1\" class=\"dataframe\">\n",
       "  <thead>\n",
       "    <tr style=\"text-align: right;\">\n",
       "      <th></th>\n",
       "      <th>Entity</th>\n",
       "      <th>Code</th>\n",
       "      <th>Year</th>\n",
       "      <th>Total population (Gapminder, HYDE &amp; UN)</th>\n",
       "      <th>Continent</th>\n",
       "      <th>GDP per capita, PPP (constant 2011 international $)</th>\n",
       "      <th>Death rate – Outdoor air pollution (age-standardized) (IHME)</th>\n",
       "    </tr>\n",
       "  </thead>\n",
       "  <tbody>\n",
       "    <tr>\n",
       "      <th>0</th>\n",
       "      <td>Abkhazia</td>\n",
       "      <td>OWID_ABK</td>\n",
       "      <td>2015</td>\n",
       "      <td>NaN</td>\n",
       "      <td>Asia</td>\n",
       "      <td>NaN</td>\n",
       "      <td>NaN</td>\n",
       "    </tr>\n",
       "    <tr>\n",
       "      <th>1</th>\n",
       "      <td>Afghanistan</td>\n",
       "      <td>AFG</td>\n",
       "      <td>1800</td>\n",
       "      <td>3280000.0</td>\n",
       "      <td>NaN</td>\n",
       "      <td>NaN</td>\n",
       "      <td>NaN</td>\n",
       "    </tr>\n",
       "    <tr>\n",
       "      <th>2</th>\n",
       "      <td>Afghanistan</td>\n",
       "      <td>AFG</td>\n",
       "      <td>1801</td>\n",
       "      <td>3280000.0</td>\n",
       "      <td>NaN</td>\n",
       "      <td>NaN</td>\n",
       "      <td>NaN</td>\n",
       "    </tr>\n",
       "    <tr>\n",
       "      <th>3</th>\n",
       "      <td>Afghanistan</td>\n",
       "      <td>AFG</td>\n",
       "      <td>1802</td>\n",
       "      <td>3280000.0</td>\n",
       "      <td>NaN</td>\n",
       "      <td>NaN</td>\n",
       "      <td>NaN</td>\n",
       "    </tr>\n",
       "    <tr>\n",
       "      <th>4</th>\n",
       "      <td>Afghanistan</td>\n",
       "      <td>AFG</td>\n",
       "      <td>1803</td>\n",
       "      <td>3280000.0</td>\n",
       "      <td>NaN</td>\n",
       "      <td>NaN</td>\n",
       "      <td>NaN</td>\n",
       "    </tr>\n",
       "  </tbody>\n",
       "</table>\n",
       "</div>"
      ],
      "text/plain": [
       "        Entity  ... Death rate – Outdoor air pollution (age-standardized) (IHME)\n",
       "0     Abkhazia  ...                                                NaN          \n",
       "1  Afghanistan  ...                                                NaN          \n",
       "2  Afghanistan  ...                                                NaN          \n",
       "3  Afghanistan  ...                                                NaN          \n",
       "4  Afghanistan  ...                                                NaN          \n",
       "\n",
       "[5 rows x 7 columns]"
      ]
     },
     "execution_count": 27,
     "metadata": {
      "tags": []
     },
     "output_type": "execute_result"
    }
   ],
   "source": [
    "gdp_death_rate_df.head()"
   ]
  },
  {
   "cell_type": "code",
   "execution_count": 28,
   "metadata": {
    "colab": {
     "base_uri": "https://localhost:8080/",
     "height": 220
    },
    "executionInfo": {
     "elapsed": 46,
     "status": "ok",
     "timestamp": 1624624872642,
     "user": {
      "displayName": "BẢo Trần Hữu Chí",
      "photoUrl": "https://lh3.googleusercontent.com/a-/AOh14GjvC3RTar9FcVjUw5bsklXoIIHfc-pvtfYrLCX8=s64",
      "userId": "16173780980594326890"
     },
     "user_tz": -420
    },
    "id": "mKgD2JDfWU2q",
    "outputId": "76be4fd1-d348-4a82-85cf-2201b6db5e41"
   },
   "outputs": [
    {
     "data": {
      "text/html": [
       "<div>\n",
       "<style scoped>\n",
       "    .dataframe tbody tr th:only-of-type {\n",
       "        vertical-align: middle;\n",
       "    }\n",
       "\n",
       "    .dataframe tbody tr th {\n",
       "        vertical-align: top;\n",
       "    }\n",
       "\n",
       "    .dataframe thead th {\n",
       "        text-align: right;\n",
       "    }\n",
       "</style>\n",
       "<table border=\"1\" class=\"dataframe\">\n",
       "  <thead>\n",
       "    <tr style=\"text-align: right;\">\n",
       "      <th></th>\n",
       "      <th>Entity</th>\n",
       "      <th>Code</th>\n",
       "      <th>Year</th>\n",
       "      <th>Total population (Gapminder, HYDE &amp; UN)</th>\n",
       "      <th>Continent</th>\n",
       "      <th>GDP per capita, PPP (constant 2011 international $)</th>\n",
       "      <th>Death rate – Outdoor air pollution (age-standardized) (IHME)</th>\n",
       "    </tr>\n",
       "  </thead>\n",
       "  <tbody>\n",
       "    <tr>\n",
       "      <th>0</th>\n",
       "      <td>Abkhazia</td>\n",
       "      <td>OWID_ABK</td>\n",
       "      <td>2015.0</td>\n",
       "      <td>NaN</td>\n",
       "      <td>Asia</td>\n",
       "      <td>NaN</td>\n",
       "      <td>NaN</td>\n",
       "    </tr>\n",
       "    <tr>\n",
       "      <th>1</th>\n",
       "      <td>Afghanistan</td>\n",
       "      <td>AFG</td>\n",
       "      <td>1990.0</td>\n",
       "      <td>12412000.0</td>\n",
       "      <td>NaN</td>\n",
       "      <td>NaN</td>\n",
       "      <td>52.06</td>\n",
       "    </tr>\n",
       "    <tr>\n",
       "      <th>2</th>\n",
       "      <td>Afghanistan</td>\n",
       "      <td>AFG</td>\n",
       "      <td>1991.0</td>\n",
       "      <td>13299000.0</td>\n",
       "      <td>NaN</td>\n",
       "      <td>NaN</td>\n",
       "      <td>51.64</td>\n",
       "    </tr>\n",
       "    <tr>\n",
       "      <th>3</th>\n",
       "      <td>Afghanistan</td>\n",
       "      <td>AFG</td>\n",
       "      <td>1992.0</td>\n",
       "      <td>14486000.0</td>\n",
       "      <td>NaN</td>\n",
       "      <td>NaN</td>\n",
       "      <td>49.86</td>\n",
       "    </tr>\n",
       "    <tr>\n",
       "      <th>4</th>\n",
       "      <td>Afghanistan</td>\n",
       "      <td>AFG</td>\n",
       "      <td>1993.0</td>\n",
       "      <td>15817000.0</td>\n",
       "      <td>NaN</td>\n",
       "      <td>NaN</td>\n",
       "      <td>50.10</td>\n",
       "    </tr>\n",
       "  </tbody>\n",
       "</table>\n",
       "</div>"
      ],
      "text/plain": [
       "        Entity  ... Death rate – Outdoor air pollution (age-standardized) (IHME)\n",
       "0     Abkhazia  ...                                                NaN          \n",
       "1  Afghanistan  ...                                              52.06          \n",
       "2  Afghanistan  ...                                              51.64          \n",
       "3  Afghanistan  ...                                              49.86          \n",
       "4  Afghanistan  ...                                              50.10          \n",
       "\n",
       "[5 rows x 7 columns]"
      ]
     },
     "execution_count": 28,
     "metadata": {
      "tags": []
     },
     "output_type": "execute_result"
    }
   ],
   "source": [
    "#Lấy dữ liệu từ năm 1990 đến nay\n",
    "gdp_death_rate_df['Year'] =gdp_death_rate_df['Year'].apply(get_year)\n",
    "gdp_death_rate_df =gdp_death_rate_df[~gdp_death_rate_df['Year'].isna()].reset_index(drop=True)\n",
    "gdp_death_rate_df.head()"
   ]
  },
  {
   "cell_type": "code",
   "execution_count": 29,
   "metadata": {
    "executionInfo": {
     "elapsed": 43,
     "status": "ok",
     "timestamp": 1624624872643,
     "user": {
      "displayName": "BẢo Trần Hữu Chí",
      "photoUrl": "https://lh3.googleusercontent.com/a-/AOh14GjvC3RTar9FcVjUw5bsklXoIIHfc-pvtfYrLCX8=s64",
      "userId": "16173780980594326890"
     },
     "user_tz": -420
    },
    "id": "uVKaza2aVz5p"
   },
   "outputs": [],
   "source": [
    "# Đổi tên thuộc tính\n",
    "list_name_columns = handle_name_columns(gdp_death_rate_df.columns)\n",
    "gdp_death_rate_df = gdp_death_rate_df.rename(columns =dict(zip(gdp_death_rate_df.columns,list_name_columns)))"
   ]
  },
  {
   "cell_type": "code",
   "execution_count": 30,
   "metadata": {
    "colab": {
     "base_uri": "https://localhost:8080/",
     "height": 203
    },
    "executionInfo": {
     "elapsed": 43,
     "status": "ok",
     "timestamp": 1624624872644,
     "user": {
      "displayName": "BẢo Trần Hữu Chí",
      "photoUrl": "https://lh3.googleusercontent.com/a-/AOh14GjvC3RTar9FcVjUw5bsklXoIIHfc-pvtfYrLCX8=s64",
      "userId": "16173780980594326890"
     },
     "user_tz": -420
    },
    "id": "Gp3xMz83WnmC",
    "outputId": "c22eab88-13b9-4588-fe6c-d381670994e5"
   },
   "outputs": [
    {
     "data": {
      "text/html": [
       "<div>\n",
       "<style scoped>\n",
       "    .dataframe tbody tr th:only-of-type {\n",
       "        vertical-align: middle;\n",
       "    }\n",
       "\n",
       "    .dataframe tbody tr th {\n",
       "        vertical-align: top;\n",
       "    }\n",
       "\n",
       "    .dataframe thead th {\n",
       "        text-align: right;\n",
       "    }\n",
       "</style>\n",
       "<table border=\"1\" class=\"dataframe\">\n",
       "  <thead>\n",
       "    <tr style=\"text-align: right;\">\n",
       "      <th></th>\n",
       "      <th>Entity</th>\n",
       "      <th>Code</th>\n",
       "      <th>Year</th>\n",
       "      <th>Total population</th>\n",
       "      <th>GDP per capita, PPP</th>\n",
       "      <th>Death rate – Outdoor air pollution</th>\n",
       "      <th>Continent</th>\n",
       "    </tr>\n",
       "  </thead>\n",
       "  <tbody>\n",
       "    <tr>\n",
       "      <th>0</th>\n",
       "      <td>Abkhazia</td>\n",
       "      <td>OWID_ABK</td>\n",
       "      <td>2015.0</td>\n",
       "      <td>NaN</td>\n",
       "      <td>NaN</td>\n",
       "      <td>NaN</td>\n",
       "      <td>Asia</td>\n",
       "    </tr>\n",
       "    <tr>\n",
       "      <th>1</th>\n",
       "      <td>Afghanistan</td>\n",
       "      <td>AFG</td>\n",
       "      <td>1990.0</td>\n",
       "      <td>12412000.0</td>\n",
       "      <td>NaN</td>\n",
       "      <td>52.06</td>\n",
       "      <td>Asia</td>\n",
       "    </tr>\n",
       "    <tr>\n",
       "      <th>2</th>\n",
       "      <td>Afghanistan</td>\n",
       "      <td>AFG</td>\n",
       "      <td>1991.0</td>\n",
       "      <td>13299000.0</td>\n",
       "      <td>NaN</td>\n",
       "      <td>51.64</td>\n",
       "      <td>Asia</td>\n",
       "    </tr>\n",
       "    <tr>\n",
       "      <th>3</th>\n",
       "      <td>Afghanistan</td>\n",
       "      <td>AFG</td>\n",
       "      <td>1992.0</td>\n",
       "      <td>14486000.0</td>\n",
       "      <td>NaN</td>\n",
       "      <td>49.86</td>\n",
       "      <td>Asia</td>\n",
       "    </tr>\n",
       "    <tr>\n",
       "      <th>4</th>\n",
       "      <td>Afghanistan</td>\n",
       "      <td>AFG</td>\n",
       "      <td>1993.0</td>\n",
       "      <td>15817000.0</td>\n",
       "      <td>NaN</td>\n",
       "      <td>50.10</td>\n",
       "      <td>Asia</td>\n",
       "    </tr>\n",
       "  </tbody>\n",
       "</table>\n",
       "</div>"
      ],
      "text/plain": [
       "        Entity      Code  ...  Death rate – Outdoor air pollution  Continent\n",
       "0     Abkhazia  OWID_ABK  ...                                 NaN       Asia\n",
       "1  Afghanistan       AFG  ...                               52.06       Asia\n",
       "2  Afghanistan       AFG  ...                               51.64       Asia\n",
       "3  Afghanistan       AFG  ...                               49.86       Asia\n",
       "4  Afghanistan       AFG  ...                               50.10       Asia\n",
       "\n",
       "[5 rows x 7 columns]"
      ]
     },
     "execution_count": 30,
     "metadata": {
      "tags": []
     },
     "output_type": "execute_result"
    }
   ],
   "source": [
    "# Điền giá trị thiếu cho continent với code\n",
    "gdp_death_rate_df = gdp_death_rate_df.merge(code_continent_df,how='left',left_on=['Entity','Code'],right_on=['Entity','Code'])\n",
    "gdp_death_rate_df = gdp_death_rate_df.drop(columns='Continent_x',axis=1)\n",
    "gdp_death_rate_df.rename(columns={'Continent_y':'Continent'},inplace = True)\n",
    "gdp_death_rate_df.head()"
   ]
  },
  {
   "cell_type": "code",
   "execution_count": 31,
   "metadata": {
    "executionInfo": {
     "elapsed": 39,
     "status": "ok",
     "timestamp": 1624624872645,
     "user": {
      "displayName": "BẢo Trần Hữu Chí",
      "photoUrl": "https://lh3.googleusercontent.com/a-/AOh14GjvC3RTar9FcVjUw5bsklXoIIHfc-pvtfYrLCX8=s64",
      "userId": "16173780980594326890"
     },
     "user_tz": -420
    },
    "id": "b3UsD07JW3Pa"
   },
   "outputs": [],
   "source": [
    "# xóa các dòng thuộc tính continent bị nan\n",
    "gdp_death_rate_df = gdp_death_rate_df[(~gdp_death_rate_df['Continent'].isna())&(~gdp_death_rate_df['Code'].isna())].reset_index(drop=True)"
   ]
  },
  {
   "cell_type": "code",
   "execution_count": 32,
   "metadata": {
    "colab": {
     "base_uri": "https://localhost:8080/"
    },
    "executionInfo": {
     "elapsed": 37,
     "status": "ok",
     "timestamp": 1624624872645,
     "user": {
      "displayName": "BẢo Trần Hữu Chí",
      "photoUrl": "https://lh3.googleusercontent.com/a-/AOh14GjvC3RTar9FcVjUw5bsklXoIIHfc-pvtfYrLCX8=s64",
      "userId": "16173780980594326890"
     },
     "user_tz": -420
    },
    "id": "TBbZ5eJHXPAj",
    "outputId": "57600117-f9db-4d10-f97d-843fc16c85e9"
   },
   "outputs": [
    {
     "data": {
      "text/plain": [
       "(7088, 7)"
      ]
     },
     "execution_count": 32,
     "metadata": {
      "tags": []
     },
     "output_type": "execute_result"
    }
   ],
   "source": [
    "gdp_death_rate_df.shape"
   ]
  },
  {
   "cell_type": "code",
   "execution_count": 33,
   "metadata": {
    "colab": {
     "base_uri": "https://localhost:8080/"
    },
    "executionInfo": {
     "elapsed": 32,
     "status": "ok",
     "timestamp": 1624624872646,
     "user": {
      "displayName": "BẢo Trần Hữu Chí",
      "photoUrl": "https://lh3.googleusercontent.com/a-/AOh14GjvC3RTar9FcVjUw5bsklXoIIHfc-pvtfYrLCX8=s64",
      "userId": "16173780980594326890"
     },
     "user_tz": -420
    },
    "id": "RDKhIIhsXKPV",
    "outputId": "7f982c32-fba0-4f64-92d2-b2667d625491"
   },
   "outputs": [
    {
     "data": {
      "text/plain": [
       "Entity                                   0\n",
       "Code                                     0\n",
       "Year                                     0\n",
       "Total population                        68\n",
       "GDP per capita, PPP                   1949\n",
       "Death rate – Outdoor air pollution    1628\n",
       "Continent                                0\n",
       "dtype: int64"
      ]
     },
     "execution_count": 33,
     "metadata": {
      "tags": []
     },
     "output_type": "execute_result"
    }
   ],
   "source": [
    "#Kiểm tra lại giá trị thiếu\n",
    "gdp_death_rate_df.isna().sum()"
   ]
  },
  {
   "cell_type": "markdown",
   "metadata": {
    "id": "V6JYQwFRct4q"
   },
   "source": [
    "# Gộp data"
   ]
  },
  {
   "cell_type": "code",
   "execution_count": 34,
   "metadata": {
    "executionInfo": {
     "elapsed": 29,
     "status": "ok",
     "timestamp": 1624624872646,
     "user": {
      "displayName": "BẢo Trần Hữu Chí",
      "photoUrl": "https://lh3.googleusercontent.com/a-/AOh14GjvC3RTar9FcVjUw5bsklXoIIHfc-pvtfYrLCX8=s64",
      "userId": "16173780980594326890"
     },
     "user_tz": -420
    },
    "id": "RJc_0dupYHnr"
   },
   "outputs": [],
   "source": [
    "data_df = death_pm_df.merge(gdp_death_rate_df,how='left',left_on=['Entity','Code','Year','Continent','Total population'],\n",
    "                            right_on=['Entity','Code','Year','Continent','Total population'])"
   ]
  },
  {
   "cell_type": "code",
   "execution_count": 35,
   "metadata": {
    "colab": {
     "base_uri": "https://localhost:8080/",
     "height": 467
    },
    "executionInfo": {
     "elapsed": 29,
     "status": "ok",
     "timestamp": 1624624872647,
     "user": {
      "displayName": "BẢo Trần Hữu Chí",
      "photoUrl": "https://lh3.googleusercontent.com/a-/AOh14GjvC3RTar9FcVjUw5bsklXoIIHfc-pvtfYrLCX8=s64",
      "userId": "16173780980594326890"
     },
     "user_tz": -420
    },
    "id": "DERaxyJXYX0Q",
    "outputId": "570f43b6-b150-4c42-84bd-66629f46d81b"
   },
   "outputs": [
    {
     "data": {
      "text/html": [
       "<div>\n",
       "<style scoped>\n",
       "    .dataframe tbody tr th:only-of-type {\n",
       "        vertical-align: middle;\n",
       "    }\n",
       "\n",
       "    .dataframe tbody tr th {\n",
       "        vertical-align: top;\n",
       "    }\n",
       "\n",
       "    .dataframe thead th {\n",
       "        text-align: right;\n",
       "    }\n",
       "</style>\n",
       "<table border=\"1\" class=\"dataframe\">\n",
       "  <thead>\n",
       "    <tr style=\"text-align: right;\">\n",
       "      <th></th>\n",
       "      <th>Entity</th>\n",
       "      <th>Code</th>\n",
       "      <th>Year</th>\n",
       "      <th>Total population</th>\n",
       "      <th>PM2.5 air pollution, mean annual exposure</th>\n",
       "      <th>Deaths - Ambient particulate matter pollution - Sex: Both - Age: Age-standardized</th>\n",
       "      <th>Continent</th>\n",
       "      <th>GDP per capita, PPP</th>\n",
       "      <th>Death rate – Outdoor air pollution</th>\n",
       "    </tr>\n",
       "  </thead>\n",
       "  <tbody>\n",
       "    <tr>\n",
       "      <th>0</th>\n",
       "      <td>Abkhazia</td>\n",
       "      <td>OWID_ABK</td>\n",
       "      <td>2015.0</td>\n",
       "      <td>NaN</td>\n",
       "      <td>NaN</td>\n",
       "      <td>NaN</td>\n",
       "      <td>Asia</td>\n",
       "      <td>NaN</td>\n",
       "      <td>NaN</td>\n",
       "    </tr>\n",
       "    <tr>\n",
       "      <th>1</th>\n",
       "      <td>Afghanistan</td>\n",
       "      <td>AFG</td>\n",
       "      <td>1990.0</td>\n",
       "      <td>12412000.0</td>\n",
       "      <td>60.936690</td>\n",
       "      <td>46.446589</td>\n",
       "      <td>Asia</td>\n",
       "      <td>NaN</td>\n",
       "      <td>52.06</td>\n",
       "    </tr>\n",
       "    <tr>\n",
       "      <th>2</th>\n",
       "      <td>Afghanistan</td>\n",
       "      <td>AFG</td>\n",
       "      <td>1991.0</td>\n",
       "      <td>13299000.0</td>\n",
       "      <td>NaN</td>\n",
       "      <td>46.033841</td>\n",
       "      <td>Asia</td>\n",
       "      <td>NaN</td>\n",
       "      <td>51.64</td>\n",
       "    </tr>\n",
       "    <tr>\n",
       "      <th>3</th>\n",
       "      <td>Afghanistan</td>\n",
       "      <td>AFG</td>\n",
       "      <td>1992.0</td>\n",
       "      <td>14486000.0</td>\n",
       "      <td>NaN</td>\n",
       "      <td>44.243766</td>\n",
       "      <td>Asia</td>\n",
       "      <td>NaN</td>\n",
       "      <td>49.86</td>\n",
       "    </tr>\n",
       "    <tr>\n",
       "      <th>4</th>\n",
       "      <td>Afghanistan</td>\n",
       "      <td>AFG</td>\n",
       "      <td>1993.0</td>\n",
       "      <td>15817000.0</td>\n",
       "      <td>NaN</td>\n",
       "      <td>44.440148</td>\n",
       "      <td>Asia</td>\n",
       "      <td>NaN</td>\n",
       "      <td>50.10</td>\n",
       "    </tr>\n",
       "    <tr>\n",
       "      <th>...</th>\n",
       "      <td>...</td>\n",
       "      <td>...</td>\n",
       "      <td>...</td>\n",
       "      <td>...</td>\n",
       "      <td>...</td>\n",
       "      <td>...</td>\n",
       "      <td>...</td>\n",
       "      <td>...</td>\n",
       "      <td>...</td>\n",
       "    </tr>\n",
       "    <tr>\n",
       "      <th>7066</th>\n",
       "      <td>Zimbabwe</td>\n",
       "      <td>ZWE</td>\n",
       "      <td>2016.0</td>\n",
       "      <td>14030000.0</td>\n",
       "      <td>24.513035</td>\n",
       "      <td>25.643570</td>\n",
       "      <td>Africa</td>\n",
       "      <td>1879.628119</td>\n",
       "      <td>29.76</td>\n",
       "    </tr>\n",
       "    <tr>\n",
       "      <th>7067</th>\n",
       "      <td>Zimbabwe</td>\n",
       "      <td>ZWE</td>\n",
       "      <td>2017.0</td>\n",
       "      <td>14237000.0</td>\n",
       "      <td>NaN</td>\n",
       "      <td>26.166182</td>\n",
       "      <td>Africa</td>\n",
       "      <td>1899.774977</td>\n",
       "      <td>30.22</td>\n",
       "    </tr>\n",
       "    <tr>\n",
       "      <th>7068</th>\n",
       "      <td>Zimbabwe</td>\n",
       "      <td>ZWE</td>\n",
       "      <td>2018.0</td>\n",
       "      <td>14439000.0</td>\n",
       "      <td>NaN</td>\n",
       "      <td>NaN</td>\n",
       "      <td>Africa</td>\n",
       "      <td>NaN</td>\n",
       "      <td>NaN</td>\n",
       "    </tr>\n",
       "    <tr>\n",
       "      <th>7069</th>\n",
       "      <td>Zimbabwe</td>\n",
       "      <td>ZWE</td>\n",
       "      <td>2019.0</td>\n",
       "      <td>14645000.0</td>\n",
       "      <td>NaN</td>\n",
       "      <td>NaN</td>\n",
       "      <td>Africa</td>\n",
       "      <td>NaN</td>\n",
       "      <td>NaN</td>\n",
       "    </tr>\n",
       "    <tr>\n",
       "      <th>7070</th>\n",
       "      <td>Åland Islands</td>\n",
       "      <td>ALA</td>\n",
       "      <td>2015.0</td>\n",
       "      <td>NaN</td>\n",
       "      <td>NaN</td>\n",
       "      <td>NaN</td>\n",
       "      <td>Europe</td>\n",
       "      <td>NaN</td>\n",
       "      <td>NaN</td>\n",
       "    </tr>\n",
       "  </tbody>\n",
       "</table>\n",
       "<p>7071 rows × 9 columns</p>\n",
       "</div>"
      ],
      "text/plain": [
       "             Entity  ... Death rate – Outdoor air pollution\n",
       "0          Abkhazia  ...                                NaN\n",
       "1       Afghanistan  ...                              52.06\n",
       "2       Afghanistan  ...                              51.64\n",
       "3       Afghanistan  ...                              49.86\n",
       "4       Afghanistan  ...                              50.10\n",
       "...             ...  ...                                ...\n",
       "7066       Zimbabwe  ...                              29.76\n",
       "7067       Zimbabwe  ...                              30.22\n",
       "7068       Zimbabwe  ...                                NaN\n",
       "7069       Zimbabwe  ...                                NaN\n",
       "7070  Åland Islands  ...                                NaN\n",
       "\n",
       "[7071 rows x 9 columns]"
      ]
     },
     "execution_count": 35,
     "metadata": {
      "tags": []
     },
     "output_type": "execute_result"
    }
   ],
   "source": [
    "data_df"
   ]
  },
  {
   "cell_type": "markdown",
   "metadata": {
    "id": "DFTiXgkwczgo"
   },
   "source": [
    "#Xét tập dữ liệu GDP_Population_Rate"
   ]
  },
  {
   "cell_type": "code",
   "execution_count": 36,
   "metadata": {
    "executionInfo": {
     "elapsed": 38,
     "status": "ok",
     "timestamp": 1624624873321,
     "user": {
      "displayName": "BẢo Trần Hữu Chí",
      "photoUrl": "https://lh3.googleusercontent.com/a-/AOh14GjvC3RTar9FcVjUw5bsklXoIIHfc-pvtfYrLCX8=s64",
      "userId": "16173780980594326890"
     },
     "user_tz": -420
    },
    "id": "hXooiZuob-cL"
   },
   "outputs": [],
   "source": [
    "gdp_population_rate_df = pd.read_csv('GDP_Population_Rate.csv')"
   ]
  },
  {
   "cell_type": "code",
   "execution_count": 37,
   "metadata": {
    "colab": {
     "base_uri": "https://localhost:8080/",
     "height": 203
    },
    "executionInfo": {
     "elapsed": 38,
     "status": "ok",
     "timestamp": 1624624873322,
     "user": {
      "displayName": "BẢo Trần Hữu Chí",
      "photoUrl": "https://lh3.googleusercontent.com/a-/AOh14GjvC3RTar9FcVjUw5bsklXoIIHfc-pvtfYrLCX8=s64",
      "userId": "16173780980594326890"
     },
     "user_tz": -420
    },
    "id": "2qtCw6pxc9uS",
    "outputId": "76d5a9fa-d04d-4892-8ba7-06feb96d7b1b"
   },
   "outputs": [
    {
     "data": {
      "text/html": [
       "<div>\n",
       "<style scoped>\n",
       "    .dataframe tbody tr th:only-of-type {\n",
       "        vertical-align: middle;\n",
       "    }\n",
       "\n",
       "    .dataframe tbody tr th {\n",
       "        vertical-align: top;\n",
       "    }\n",
       "\n",
       "    .dataframe thead th {\n",
       "        text-align: right;\n",
       "    }\n",
       "</style>\n",
       "<table border=\"1\" class=\"dataframe\">\n",
       "  <thead>\n",
       "    <tr style=\"text-align: right;\">\n",
       "      <th></th>\n",
       "      <th>Entity</th>\n",
       "      <th>Code</th>\n",
       "      <th>Year</th>\n",
       "      <th>Air pollution (total) (IHME, 2019)</th>\n",
       "    </tr>\n",
       "  </thead>\n",
       "  <tbody>\n",
       "    <tr>\n",
       "      <th>0</th>\n",
       "      <td>Afghanistan</td>\n",
       "      <td>AFG</td>\n",
       "      <td>1990</td>\n",
       "      <td>13.56</td>\n",
       "    </tr>\n",
       "    <tr>\n",
       "      <th>1</th>\n",
       "      <td>Afghanistan</td>\n",
       "      <td>AFG</td>\n",
       "      <td>1991</td>\n",
       "      <td>13.19</td>\n",
       "    </tr>\n",
       "    <tr>\n",
       "      <th>2</th>\n",
       "      <td>Afghanistan</td>\n",
       "      <td>AFG</td>\n",
       "      <td>1992</td>\n",
       "      <td>13.05</td>\n",
       "    </tr>\n",
       "    <tr>\n",
       "      <th>3</th>\n",
       "      <td>Afghanistan</td>\n",
       "      <td>AFG</td>\n",
       "      <td>1993</td>\n",
       "      <td>12.88</td>\n",
       "    </tr>\n",
       "    <tr>\n",
       "      <th>4</th>\n",
       "      <td>Afghanistan</td>\n",
       "      <td>AFG</td>\n",
       "      <td>1994</td>\n",
       "      <td>12.80</td>\n",
       "    </tr>\n",
       "  </tbody>\n",
       "</table>\n",
       "</div>"
      ],
      "text/plain": [
       "        Entity Code  Year  Air pollution (total) (IHME, 2019)\n",
       "0  Afghanistan  AFG  1990                               13.56\n",
       "1  Afghanistan  AFG  1991                               13.19\n",
       "2  Afghanistan  AFG  1992                               13.05\n",
       "3  Afghanistan  AFG  1993                               12.88\n",
       "4  Afghanistan  AFG  1994                               12.80"
      ]
     },
     "execution_count": 37,
     "metadata": {
      "tags": []
     },
     "output_type": "execute_result"
    }
   ],
   "source": [
    "gdp_population_rate_df = gdp_population_rate_df[~gdp_population_rate_df['Code'].isna()].reset_index(drop=True)\n",
    "gdp_population_rate_df.head()"
   ]
  },
  {
   "cell_type": "code",
   "execution_count": 38,
   "metadata": {
    "colab": {
     "base_uri": "https://localhost:8080/"
    },
    "executionInfo": {
     "elapsed": 37,
     "status": "ok",
     "timestamp": 1624624873323,
     "user": {
      "displayName": "BẢo Trần Hữu Chí",
      "photoUrl": "https://lh3.googleusercontent.com/a-/AOh14GjvC3RTar9FcVjUw5bsklXoIIHfc-pvtfYrLCX8=s64",
      "userId": "16173780980594326890"
     },
     "user_tz": -420
    },
    "id": "acde_4vDdMmS",
    "outputId": "102366b1-9eb4-4710-d2f6-2427e5d8f1a1"
   },
   "outputs": [
    {
     "data": {
      "text/plain": [
       "array([1990, 1991, 1992, 1993, 1994, 1995, 1996, 1997, 1998, 1999, 2000,\n",
       "       2001, 2002, 2003, 2004, 2005, 2006, 2007, 2008, 2009, 2010, 2011,\n",
       "       2012, 2013, 2014, 2015, 2016, 2017])"
      ]
     },
     "execution_count": 38,
     "metadata": {
      "tags": []
     },
     "output_type": "execute_result"
    }
   ],
   "source": [
    "gdp_population_rate_df['Year'].unique()"
   ]
  },
  {
   "cell_type": "code",
   "execution_count": 39,
   "metadata": {
    "colab": {
     "base_uri": "https://localhost:8080/"
    },
    "executionInfo": {
     "elapsed": 33,
     "status": "ok",
     "timestamp": 1624624873323,
     "user": {
      "displayName": "BẢo Trần Hữu Chí",
      "photoUrl": "https://lh3.googleusercontent.com/a-/AOh14GjvC3RTar9FcVjUw5bsklXoIIHfc-pvtfYrLCX8=s64",
      "userId": "16173780980594326890"
     },
     "user_tz": -420
    },
    "id": "Xo6rCsk5dVYH",
    "outputId": "037aec11-f3a9-4d9c-a532-2fffb83dad6b"
   },
   "outputs": [
    {
     "data": {
      "text/plain": [
       "(5432, 4)"
      ]
     },
     "execution_count": 39,
     "metadata": {
      "tags": []
     },
     "output_type": "execute_result"
    }
   ],
   "source": [
    "gdp_population_rate_df.shape"
   ]
  },
  {
   "cell_type": "markdown",
   "metadata": {
    "id": "ZpgZPZulej1I"
   },
   "source": [
    "#Xét tập dữ liệu CO2_Emission"
   ]
  },
  {
   "cell_type": "code",
   "execution_count": 40,
   "metadata": {
    "colab": {
     "base_uri": "https://localhost:8080/",
     "height": 203
    },
    "executionInfo": {
     "elapsed": 30,
     "status": "ok",
     "timestamp": 1624624873324,
     "user": {
      "displayName": "BẢo Trần Hữu Chí",
      "photoUrl": "https://lh3.googleusercontent.com/a-/AOh14GjvC3RTar9FcVjUw5bsklXoIIHfc-pvtfYrLCX8=s64",
      "userId": "16173780980594326890"
     },
     "user_tz": -420
    },
    "id": "Q--HuWFXes2o",
    "outputId": "a6aa2967-5972-4c77-8c96-b57ee5e58ce9"
   },
   "outputs": [
    {
     "data": {
      "text/html": [
       "<div>\n",
       "<style scoped>\n",
       "    .dataframe tbody tr th:only-of-type {\n",
       "        vertical-align: middle;\n",
       "    }\n",
       "\n",
       "    .dataframe tbody tr th {\n",
       "        vertical-align: top;\n",
       "    }\n",
       "\n",
       "    .dataframe thead th {\n",
       "        text-align: right;\n",
       "    }\n",
       "</style>\n",
       "<table border=\"1\" class=\"dataframe\">\n",
       "  <thead>\n",
       "    <tr style=\"text-align: right;\">\n",
       "      <th></th>\n",
       "      <th>Entity</th>\n",
       "      <th>Code</th>\n",
       "      <th>Year</th>\n",
       "      <th>Annual CO2 emissions</th>\n",
       "    </tr>\n",
       "  </thead>\n",
       "  <tbody>\n",
       "    <tr>\n",
       "      <th>0</th>\n",
       "      <td>Afghanistan</td>\n",
       "      <td>AFG</td>\n",
       "      <td>1949</td>\n",
       "      <td>0.014656</td>\n",
       "    </tr>\n",
       "    <tr>\n",
       "      <th>1</th>\n",
       "      <td>Afghanistan</td>\n",
       "      <td>AFG</td>\n",
       "      <td>1950</td>\n",
       "      <td>0.084272</td>\n",
       "    </tr>\n",
       "    <tr>\n",
       "      <th>2</th>\n",
       "      <td>Afghanistan</td>\n",
       "      <td>AFG</td>\n",
       "      <td>1951</td>\n",
       "      <td>0.091600</td>\n",
       "    </tr>\n",
       "    <tr>\n",
       "      <th>3</th>\n",
       "      <td>Afghanistan</td>\n",
       "      <td>AFG</td>\n",
       "      <td>1952</td>\n",
       "      <td>0.091600</td>\n",
       "    </tr>\n",
       "    <tr>\n",
       "      <th>4</th>\n",
       "      <td>Afghanistan</td>\n",
       "      <td>AFG</td>\n",
       "      <td>1953</td>\n",
       "      <td>0.106256</td>\n",
       "    </tr>\n",
       "  </tbody>\n",
       "</table>\n",
       "</div>"
      ],
      "text/plain": [
       "        Entity Code  Year  Annual CO2 emissions\n",
       "0  Afghanistan  AFG  1949              0.014656\n",
       "1  Afghanistan  AFG  1950              0.084272\n",
       "2  Afghanistan  AFG  1951              0.091600\n",
       "3  Afghanistan  AFG  1952              0.091600\n",
       "4  Afghanistan  AFG  1953              0.106256"
      ]
     },
     "execution_count": 40,
     "metadata": {
      "tags": []
     },
     "output_type": "execute_result"
    }
   ],
   "source": [
    "c02_emission_df = pd.read_csv('CO2_emission.csv')\n",
    "c02_emission_df.head()"
   ]
  },
  {
   "cell_type": "code",
   "execution_count": 41,
   "metadata": {
    "colab": {
     "base_uri": "https://localhost:8080/",
     "height": 203
    },
    "executionInfo": {
     "elapsed": 28,
     "status": "ok",
     "timestamp": 1624624873324,
     "user": {
      "displayName": "BẢo Trần Hữu Chí",
      "photoUrl": "https://lh3.googleusercontent.com/a-/AOh14GjvC3RTar9FcVjUw5bsklXoIIHfc-pvtfYrLCX8=s64",
      "userId": "16173780980594326890"
     },
     "user_tz": -420
    },
    "id": "QbSsCLTQe0HE",
    "outputId": "9a5588f5-1ce3-4669-fb99-cfe9c7c098b7"
   },
   "outputs": [
    {
     "data": {
      "text/html": [
       "<div>\n",
       "<style scoped>\n",
       "    .dataframe tbody tr th:only-of-type {\n",
       "        vertical-align: middle;\n",
       "    }\n",
       "\n",
       "    .dataframe tbody tr th {\n",
       "        vertical-align: top;\n",
       "    }\n",
       "\n",
       "    .dataframe thead th {\n",
       "        text-align: right;\n",
       "    }\n",
       "</style>\n",
       "<table border=\"1\" class=\"dataframe\">\n",
       "  <thead>\n",
       "    <tr style=\"text-align: right;\">\n",
       "      <th></th>\n",
       "      <th>Entity</th>\n",
       "      <th>Code</th>\n",
       "      <th>Year</th>\n",
       "      <th>Annual CO2 emissions</th>\n",
       "    </tr>\n",
       "  </thead>\n",
       "  <tbody>\n",
       "    <tr>\n",
       "      <th>0</th>\n",
       "      <td>Afghanistan</td>\n",
       "      <td>AFG</td>\n",
       "      <td>1990.0</td>\n",
       "      <td>2.602408</td>\n",
       "    </tr>\n",
       "    <tr>\n",
       "      <th>1</th>\n",
       "      <td>Afghanistan</td>\n",
       "      <td>AFG</td>\n",
       "      <td>1991.0</td>\n",
       "      <td>2.426486</td>\n",
       "    </tr>\n",
       "    <tr>\n",
       "      <th>2</th>\n",
       "      <td>Afghanistan</td>\n",
       "      <td>AFG</td>\n",
       "      <td>1992.0</td>\n",
       "      <td>1.381522</td>\n",
       "    </tr>\n",
       "    <tr>\n",
       "      <th>3</th>\n",
       "      <td>Afghanistan</td>\n",
       "      <td>AFG</td>\n",
       "      <td>1993.0</td>\n",
       "      <td>1.333837</td>\n",
       "    </tr>\n",
       "    <tr>\n",
       "      <th>4</th>\n",
       "      <td>Afghanistan</td>\n",
       "      <td>AFG</td>\n",
       "      <td>1994.0</td>\n",
       "      <td>1.282457</td>\n",
       "    </tr>\n",
       "  </tbody>\n",
       "</table>\n",
       "</div>"
      ],
      "text/plain": [
       "        Entity Code    Year  Annual CO2 emissions\n",
       "0  Afghanistan  AFG  1990.0              2.602408\n",
       "1  Afghanistan  AFG  1991.0              2.426486\n",
       "2  Afghanistan  AFG  1992.0              1.381522\n",
       "3  Afghanistan  AFG  1993.0              1.333837\n",
       "4  Afghanistan  AFG  1994.0              1.282457"
      ]
     },
     "execution_count": 41,
     "metadata": {
      "tags": []
     },
     "output_type": "execute_result"
    }
   ],
   "source": [
    "# Lấy dữ liệu từ năm 1990\n",
    "c02_emission_df['Year'] = c02_emission_df['Year'].apply(get_year)\n",
    "c02_emission_df = c02_emission_df[~c02_emission_df['Year'].isna()].reset_index(drop=True)\n",
    "c02_emission_df.head()"
   ]
  },
  {
   "cell_type": "code",
   "execution_count": 47,
   "metadata": {
    "colab": {
     "base_uri": "https://localhost:8080/"
    },
    "executionInfo": {
     "elapsed": 6,
     "status": "ok",
     "timestamp": 1624624929203,
     "user": {
      "displayName": "BẢo Trần Hữu Chí",
      "photoUrl": "https://lh3.googleusercontent.com/a-/AOh14GjvC3RTar9FcVjUw5bsklXoIIHfc-pvtfYrLCX8=s64",
      "userId": "16173780980594326890"
     },
     "user_tz": -420
    },
    "id": "CHpDPZudMO0z",
    "outputId": "67bf7fdd-f246-4961-a8cf-1165c40f6a9d"
   },
   "outputs": [
    {
     "data": {
      "text/plain": [
       "(6950, 4)"
      ]
     },
     "execution_count": 47,
     "metadata": {
      "tags": []
     },
     "output_type": "execute_result"
    }
   ],
   "source": [
    "c02_emission_df.shape"
   ]
  },
  {
   "cell_type": "markdown",
   "metadata": {
    "id": "vz67QKjrqCQF"
   },
   "source": [
    "# Xét tập dữ liệu Enviroment Rish"
   ]
  },
  {
   "cell_type": "code",
   "execution_count": 42,
   "metadata": {
    "executionInfo": {
     "elapsed": 27,
     "status": "ok",
     "timestamp": 1624624873325,
     "user": {
      "displayName": "BẢo Trần Hữu Chí",
      "photoUrl": "https://lh3.googleusercontent.com/a-/AOh14GjvC3RTar9FcVjUw5bsklXoIIHfc-pvtfYrLCX8=s64",
      "userId": "16173780980594326890"
     },
     "user_tz": -420
    },
    "id": "H2L-E-SBqInN"
   },
   "outputs": [],
   "source": [
    "enviroment_risk_df = pd.read_csv('Enviroment_Risk.csv')"
   ]
  },
  {
   "cell_type": "code",
   "execution_count": 43,
   "metadata": {
    "colab": {
     "base_uri": "https://localhost:8080/",
     "height": 184
    },
    "executionInfo": {
     "elapsed": 26,
     "status": "ok",
     "timestamp": 1624624873325,
     "user": {
      "displayName": "BẢo Trần Hữu Chí",
      "photoUrl": "https://lh3.googleusercontent.com/a-/AOh14GjvC3RTar9FcVjUw5bsklXoIIHfc-pvtfYrLCX8=s64",
      "userId": "16173780980594326890"
     },
     "user_tz": -420
    },
    "id": "Au9CKi82qS01",
    "outputId": "c37d2b69-76cd-4017-b1d4-be661e93bd49"
   },
   "outputs": [
    {
     "data": {
      "text/html": [
       "<div>\n",
       "<style scoped>\n",
       "    .dataframe tbody tr th:only-of-type {\n",
       "        vertical-align: middle;\n",
       "    }\n",
       "\n",
       "    .dataframe tbody tr th {\n",
       "        vertical-align: top;\n",
       "    }\n",
       "\n",
       "    .dataframe thead th {\n",
       "        text-align: right;\n",
       "    }\n",
       "</style>\n",
       "<table border=\"1\" class=\"dataframe\">\n",
       "  <thead>\n",
       "    <tr style=\"text-align: right;\">\n",
       "      <th></th>\n",
       "      <th>&lt;!DOCTYPE html&gt;&lt;html&gt;&lt;head&gt;&lt;title&gt;Google Drive - Virus scan warning&lt;/title&gt;&lt;meta http-equiv=\"content-type\" content=\"text/html; charset=utf-8\"/&gt;&lt;link href=&amp;#47;static&amp;#47;doclist&amp;#47;client&amp;#47;css&amp;#47;2149812255&amp;#45;untrustedcontent.css rel=\"stylesheet\" nonce=\"wXF+0dIS9Vil2LDvloGxzw\"&gt;&lt;link rel=\"icon\" href=\"//ssl.gstatic.com/images/branding/product/1x/drive_2020q4_32dp.png\"/&gt;&lt;style nonce=\"wXF+0dIS9Vil2LDvloGxzw\"&gt;#gbar</th>\n",
       "      <th>#guser{font-size:13px;padding-top:0px !important;}#gbar{height:22px}#guser{padding-bottom:7px !important;text-align:right}.gbh</th>\n",
       "      <th>.gbd{border-top:1px solid #c9d7f1;font-size:1px}.gbh{height:0;position:absolute;top:24px;width:100%}@media all{.gb1{height:22px;margin-right:.5em;vertical-align:top}#gbar{float:left}}a.gb1</th>\n",
       "      <th>a.gb4{text-decoration:underline !important}a.gb1</th>\n",
       "      <th>a.gb4{color:#00c !important}.gbi .gb4{color:#dd8e27 !important}.gbf .gb4{color:#900 !important}</th>\n",
       "    </tr>\n",
       "  </thead>\n",
       "  <tbody>\n",
       "    <tr>\n",
       "      <th>0</th>\n",
       "      <td>&lt;/style&gt;&lt;script nonce=\"t+74qmOf63gaZJnrk2DZhg\"...</td>\n",
       "      <td>NaN</td>\n",
       "      <td>NaN</td>\n",
       "      <td>NaN</td>\n",
       "      <td>NaN</td>\n",
       "    </tr>\n",
       "  </tbody>\n",
       "</table>\n",
       "</div>"
      ],
      "text/plain": [
       "  <!DOCTYPE html><html><head><title>Google Drive - Virus scan warning</title><meta http-equiv=\"content-type\" content=\"text/html; charset=utf-8\"/><link href=&#47;static&#47;doclist&#47;client&#47;css&#47;2149812255&#45;untrustedcontent.css rel=\"stylesheet\" nonce=\"wXF+0dIS9Vil2LDvloGxzw\"><link rel=\"icon\" href=\"//ssl.gstatic.com/images/branding/product/1x/drive_2020q4_32dp.png\"/><style nonce=\"wXF+0dIS9Vil2LDvloGxzw\">#gbar  ...  a.gb4{color:#00c !important}.gbi .gb4{color:#dd8e27 !important}.gbf .gb4{color:#900 !important}\n",
       "0  </style><script nonce=\"t+74qmOf63gaZJnrk2DZhg\"...                                                                                                                                                                                                                                                                                                                                                                                    ...                                                NaN                                              \n",
       "\n",
       "[1 rows x 5 columns]"
      ]
     },
     "execution_count": 43,
     "metadata": {
      "tags": []
     },
     "output_type": "execute_result"
    }
   ],
   "source": [
    "enviroment_risk_df"
   ]
  },
  {
   "cell_type": "code",
   "execution_count": 44,
   "metadata": {
    "colab": {
     "base_uri": "https://localhost:8080/"
    },
    "executionInfo": {
     "elapsed": 25,
     "status": "ok",
     "timestamp": 1624624873326,
     "user": {
      "displayName": "BẢo Trần Hữu Chí",
      "photoUrl": "https://lh3.googleusercontent.com/a-/AOh14GjvC3RTar9FcVjUw5bsklXoIIHfc-pvtfYrLCX8=s64",
      "userId": "16173780980594326890"
     },
     "user_tz": -420
    },
    "id": "274EhRFffzXp",
    "outputId": "e42a5bfd-ccf0-4924-ef61-1fd704cb83af"
   },
   "outputs": [
    {
     "data": {
      "text/plain": [
       "array(['Abkhazia', 'Afghanistan', 'Akrotiri and Dhekelia', 'Armenia',\n",
       "       'Azerbaijan', 'Bahrain', 'Bangladesh', 'Bhutan',\n",
       "       'British Indian Ocean Territory', 'Brunei', 'Cambodia', 'China',\n",
       "       'Christmas Island', 'Cocos Islands', 'Georgia', 'Hong Kong',\n",
       "       'India', 'Indonesia', 'Iran', 'Iraq', 'Israel', 'Japan', 'Jordan',\n",
       "       'Kazakhstan', 'Kuwait', 'Kyrgyzstan', 'Laos', 'Lebanon', 'Macao',\n",
       "       'Malaysia', 'Maldives', 'Mongolia', 'Myanmar', 'Nagorno-Karabakh',\n",
       "       'Nepal', 'North Korea', 'Northern Cyprus', 'Oman', 'Pakistan',\n",
       "       'Palestine', 'Philippines', 'Qatar', 'Republic of Vietnam',\n",
       "       'Saudi Arabia', 'Singapore', 'South Korea', 'South Ossetia',\n",
       "       'Sri Lanka', 'Syria', 'Taiwan', 'Tajikistan', 'Thailand', 'Timor',\n",
       "       'Turkey', 'Turkmenistan', 'United Arab Emirates', 'United Korea',\n",
       "       'Uzbekistan', 'Vietnam', 'Yemen', 'Yemen Arab Republic',\n",
       "       \"Yemen People's Republic\"], dtype=object)"
      ]
     },
     "execution_count": 44,
     "metadata": {
      "tags": []
     },
     "output_type": "execute_result"
    }
   ],
   "source": [
    "data_df[data_df['Continent'] == 'Asia']['Entity'].unique()"
   ]
  },
  {
   "cell_type": "code",
   "execution_count": 45,
   "metadata": {
    "colab": {
     "base_uri": "https://localhost:8080/"
    },
    "executionInfo": {
     "elapsed": 20,
     "status": "ok",
     "timestamp": 1624624873326,
     "user": {
      "displayName": "BẢo Trần Hữu Chí",
      "photoUrl": "https://lh3.googleusercontent.com/a-/AOh14GjvC3RTar9FcVjUw5bsklXoIIHfc-pvtfYrLCX8=s64",
      "userId": "16173780980594326890"
     },
     "user_tz": -420
    },
    "id": "k_vKuPs-gjm8",
    "outputId": "4234eeb5-6640-4813-ae51-e7aa26415be8"
   },
   "outputs": [
    {
     "data": {
      "text/plain": [
       "285"
      ]
     },
     "execution_count": 45,
     "metadata": {
      "tags": []
     },
     "output_type": "execute_result"
    }
   ],
   "source": [
    "data_df['Code'].nunique()"
   ]
  },
  {
   "cell_type": "code",
   "execution_count": 46,
   "metadata": {
    "colab": {
     "base_uri": "https://localhost:8080/"
    },
    "executionInfo": {
     "elapsed": 19,
     "status": "ok",
     "timestamp": 1624624873327,
     "user": {
      "displayName": "BẢo Trần Hữu Chí",
      "photoUrl": "https://lh3.googleusercontent.com/a-/AOh14GjvC3RTar9FcVjUw5bsklXoIIHfc-pvtfYrLCX8=s64",
      "userId": "16173780980594326890"
     },
     "user_tz": -420
    },
    "id": "LJ6qC_axhzSL",
    "outputId": "0e56ade5-7ecf-4565-f58f-f5075be46f5a"
   },
   "outputs": [
    {
     "data": {
      "text/plain": [
       "223"
      ]
     },
     "execution_count": 46,
     "metadata": {
      "tags": []
     },
     "output_type": "execute_result"
    }
   ],
   "source": [
    "c02_emission_df['Code'].nunique()"
   ]
  },
  {
   "cell_type": "code",
   "execution_count": 46,
   "metadata": {
    "executionInfo": {
     "elapsed": 17,
     "status": "ok",
     "timestamp": 1624624873327,
     "user": {
      "displayName": "BẢo Trần Hữu Chí",
      "photoUrl": "https://lh3.googleusercontent.com/a-/AOh14GjvC3RTar9FcVjUw5bsklXoIIHfc-pvtfYrLCX8=s64",
      "userId": "16173780980594326890"
     },
     "user_tz": -420
    },
    "id": "WsQq2f3Xh96i"
   },
   "outputs": [],
   "source": [
    "\n"
   ]
  }
 ],
 "metadata": {
  "colab": {
   "authorship_tag": "ABX9TyNjyoCmflFjFEiBS4OJL9qZ",
   "collapsed_sections": [],
   "name": "Untitled0.ipynb",
   "provenance": [],
   "toc_visible": true
  },
  "kernelspec": {
   "display_name": "Python 3",
   "language": "python",
   "name": "python3"
  },
  "language_info": {
   "codemirror_mode": {
    "name": "ipython",
    "version": 3
   },
   "file_extension": ".py",
   "mimetype": "text/x-python",
   "name": "python",
   "nbconvert_exporter": "python",
   "pygments_lexer": "ipython3",
   "version": "3.8.8"
  }
 },
 "nbformat": 4,
 "nbformat_minor": 4
}
