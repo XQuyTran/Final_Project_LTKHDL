{
 "cells": [
  {
   "cell_type": "markdown",
   "metadata": {},
   "source": [
    "# Môn: Lập trình cho Khoa học dữ liệu - 18_21\n",
    "# Đồ án cuối kỳ\n",
    "\n",
    "**Nhóm 17 - Thông tin thành viên:**\n",
    "- Trần Hữu Chí Bảo - 18120288\n",
    "- Trần Xuân Quý - 18120231"
   ]
  },
  {
   "cell_type": "markdown",
   "metadata": {
    "id": "S0_3-Jk9sHnE"
   },
   "source": [
    "# 1. Thu thập dữ liệu\n",
    "\n"
   ]
  },
  {
   "cell_type": "markdown",
   "metadata": {},
   "source": [
    "Tập dữ liệu được sử dụng trong đồ án của nhóm có chủ đề về các yếu tố liên quan và/hoặc có thể gây ảnh hưởng đếntuổi thọ trung bình của người dân ở các quốc gia trên thế giới. Tập dữ liệu này được thu thập và [đăng tải trên Kaggle](https://www.kaggle.com/mmattson/who-national-life-expectancy?fbclid=IwAR0eTr_kf9ivkOLZmJvJ5ULfjFIqAPGPKVsacqXq1TbR1yWxUTZEShQVTnQ) bởi người dùng MMattson với giấy phép `Creative Common Public Domain - CC0` cho phép sử dụng tập dữ liệu tùy ý mà không cần xin phép. \n",
    "\n",
    "Theo mô tả, tập dữ liệu trên được thu thập từ 2 nguồn là `GHO - Global Health Observatory` và `UNESCO`, với các số liệu trong khoảng thời gian từ năm 2000 - 2016. Về phần dữ liệu từ UNESCO tác giả đã truy cập vào trang web về dữ liệu Thống kê về Giáo dục các Quốc gia của Viện thống kê UNESCO và thu thập dữ liệu thủ công. Dữ liệu từ GHO được thu thập sử dụng thư viện request thông qua GHO OData API portal."
   ]
  },
  {
   "cell_type": "markdown",
   "metadata": {},
   "source": [
    "# 2. Import các thư viện cần thiết"
   ]
  },
  {
   "cell_type": "code",
   "execution_count": 1,
   "metadata": {
    "id": "jv9u1QG1sB9_"
   },
   "outputs": [],
   "source": [
    "import pandas as pd\n",
    "import numpy as np\n",
    "import re\n",
    "import matplotlib.pyplot as plt\n",
    "import seaborn as sns\n",
    "# import warnings\n",
    "# warnings.filterwarnings(\"ignore\")"
   ]
  },
  {
   "cell_type": "markdown",
   "metadata": {
    "id": "EmW4I8ZEtq35"
   },
   "source": [
    "# 3. Khám phá dữ liệu"
   ]
  },
  {
   "cell_type": "code",
   "execution_count": 2,
   "metadata": {},
   "outputs": [
    {
     "data": {
      "text/html": [
       "<div>\n",
       "<style scoped>\n",
       "    .dataframe tbody tr th:only-of-type {\n",
       "        vertical-align: middle;\n",
       "    }\n",
       "\n",
       "    .dataframe tbody tr th {\n",
       "        vertical-align: top;\n",
       "    }\n",
       "\n",
       "    .dataframe thead th {\n",
       "        text-align: right;\n",
       "    }\n",
       "</style>\n",
       "<table border=\"1\" class=\"dataframe\">\n",
       "  <thead>\n",
       "    <tr style=\"text-align: right;\">\n",
       "      <th></th>\n",
       "      <th>country</th>\n",
       "      <th>country_code</th>\n",
       "      <th>region</th>\n",
       "      <th>year</th>\n",
       "      <th>life_expect</th>\n",
       "      <th>life_exp60</th>\n",
       "      <th>adult_mortality</th>\n",
       "      <th>infant_mort</th>\n",
       "      <th>age1-4mort</th>\n",
       "      <th>alcohol</th>\n",
       "      <th>...</th>\n",
       "      <th>che_gdp</th>\n",
       "      <th>une_pop</th>\n",
       "      <th>une_infant</th>\n",
       "      <th>une_life</th>\n",
       "      <th>une_hiv</th>\n",
       "      <th>une_gni</th>\n",
       "      <th>une_poverty</th>\n",
       "      <th>une_edu_spend</th>\n",
       "      <th>une_literacy</th>\n",
       "      <th>une_school</th>\n",
       "    </tr>\n",
       "  </thead>\n",
       "  <tbody>\n",
       "    <tr>\n",
       "      <th>0</th>\n",
       "      <td>Angola</td>\n",
       "      <td>AGO</td>\n",
       "      <td>Africa</td>\n",
       "      <td>2000</td>\n",
       "      <td>47.33730</td>\n",
       "      <td>14.73400</td>\n",
       "      <td>383.5583</td>\n",
       "      <td>0.137985</td>\n",
       "      <td>0.025695</td>\n",
       "      <td>1.47439</td>\n",
       "      <td>...</td>\n",
       "      <td>1.90860</td>\n",
       "      <td>16395.473</td>\n",
       "      <td>122.2</td>\n",
       "      <td>46.522</td>\n",
       "      <td>1.0</td>\n",
       "      <td>2530.0</td>\n",
       "      <td>32.3</td>\n",
       "      <td>2.60753</td>\n",
       "      <td>NaN</td>\n",
       "      <td>NaN</td>\n",
       "    </tr>\n",
       "    <tr>\n",
       "      <th>1</th>\n",
       "      <td>Angola</td>\n",
       "      <td>AGO</td>\n",
       "      <td>Africa</td>\n",
       "      <td>2001</td>\n",
       "      <td>48.19789</td>\n",
       "      <td>14.95963</td>\n",
       "      <td>372.3876</td>\n",
       "      <td>0.133675</td>\n",
       "      <td>0.024500</td>\n",
       "      <td>1.94025</td>\n",
       "      <td>...</td>\n",
       "      <td>4.48352</td>\n",
       "      <td>16945.753</td>\n",
       "      <td>118.9</td>\n",
       "      <td>47.059</td>\n",
       "      <td>1.1</td>\n",
       "      <td>2630.0</td>\n",
       "      <td>NaN</td>\n",
       "      <td>NaN</td>\n",
       "      <td>67.40542</td>\n",
       "      <td>NaN</td>\n",
       "    </tr>\n",
       "    <tr>\n",
       "      <th>2</th>\n",
       "      <td>Angola</td>\n",
       "      <td>AGO</td>\n",
       "      <td>Africa</td>\n",
       "      <td>2002</td>\n",
       "      <td>49.42569</td>\n",
       "      <td>15.20010</td>\n",
       "      <td>354.5147</td>\n",
       "      <td>0.128320</td>\n",
       "      <td>0.023260</td>\n",
       "      <td>2.07512</td>\n",
       "      <td>...</td>\n",
       "      <td>3.32946</td>\n",
       "      <td>17519.417</td>\n",
       "      <td>115.1</td>\n",
       "      <td>47.702</td>\n",
       "      <td>1.2</td>\n",
       "      <td>3180.0</td>\n",
       "      <td>NaN</td>\n",
       "      <td>NaN</td>\n",
       "      <td>NaN</td>\n",
       "      <td>NaN</td>\n",
       "    </tr>\n",
       "    <tr>\n",
       "      <th>3</th>\n",
       "      <td>Angola</td>\n",
       "      <td>AGO</td>\n",
       "      <td>Africa</td>\n",
       "      <td>2003</td>\n",
       "      <td>50.50266</td>\n",
       "      <td>15.39144</td>\n",
       "      <td>343.2169</td>\n",
       "      <td>0.122040</td>\n",
       "      <td>0.021925</td>\n",
       "      <td>2.20275</td>\n",
       "      <td>...</td>\n",
       "      <td>3.54797</td>\n",
       "      <td>18121.479</td>\n",
       "      <td>110.8</td>\n",
       "      <td>48.440</td>\n",
       "      <td>1.3</td>\n",
       "      <td>3260.0</td>\n",
       "      <td>NaN</td>\n",
       "      <td>NaN</td>\n",
       "      <td>NaN</td>\n",
       "      <td>NaN</td>\n",
       "    </tr>\n",
       "    <tr>\n",
       "      <th>4</th>\n",
       "      <td>Angola</td>\n",
       "      <td>AGO</td>\n",
       "      <td>Africa</td>\n",
       "      <td>2004</td>\n",
       "      <td>51.52863</td>\n",
       "      <td>15.56860</td>\n",
       "      <td>333.8711</td>\n",
       "      <td>0.115700</td>\n",
       "      <td>0.020545</td>\n",
       "      <td>2.41274</td>\n",
       "      <td>...</td>\n",
       "      <td>3.96720</td>\n",
       "      <td>18758.145</td>\n",
       "      <td>106.2</td>\n",
       "      <td>49.263</td>\n",
       "      <td>1.3</td>\n",
       "      <td>3560.0</td>\n",
       "      <td>NaN</td>\n",
       "      <td>NaN</td>\n",
       "      <td>NaN</td>\n",
       "      <td>NaN</td>\n",
       "    </tr>\n",
       "    <tr>\n",
       "      <th>...</th>\n",
       "      <td>...</td>\n",
       "      <td>...</td>\n",
       "      <td>...</td>\n",
       "      <td>...</td>\n",
       "      <td>...</td>\n",
       "      <td>...</td>\n",
       "      <td>...</td>\n",
       "      <td>...</td>\n",
       "      <td>...</td>\n",
       "      <td>...</td>\n",
       "      <td>...</td>\n",
       "      <td>...</td>\n",
       "      <td>...</td>\n",
       "      <td>...</td>\n",
       "      <td>...</td>\n",
       "      <td>...</td>\n",
       "      <td>...</td>\n",
       "      <td>...</td>\n",
       "      <td>...</td>\n",
       "      <td>...</td>\n",
       "      <td>...</td>\n",
       "    </tr>\n",
       "    <tr>\n",
       "      <th>3106</th>\n",
       "      <td>Lao People's Democratic Republic</td>\n",
       "      <td>LAO</td>\n",
       "      <td>Western Pacific</td>\n",
       "      <td>2012</td>\n",
       "      <td>64.49448</td>\n",
       "      <td>16.57977</td>\n",
       "      <td>209.2666</td>\n",
       "      <td>0.055840</td>\n",
       "      <td>0.004845</td>\n",
       "      <td>6.29833</td>\n",
       "      <td>...</td>\n",
       "      <td>2.07638</td>\n",
       "      <td>6444.530</td>\n",
       "      <td>47.5</td>\n",
       "      <td>65.267</td>\n",
       "      <td>0.3</td>\n",
       "      <td>4570.0</td>\n",
       "      <td>22.7</td>\n",
       "      <td>1.82147</td>\n",
       "      <td>NaN</td>\n",
       "      <td>NaN</td>\n",
       "    </tr>\n",
       "    <tr>\n",
       "      <th>3107</th>\n",
       "      <td>Lao People's Democratic Republic</td>\n",
       "      <td>LAO</td>\n",
       "      <td>Western Pacific</td>\n",
       "      <td>2013</td>\n",
       "      <td>64.79716</td>\n",
       "      <td>16.64219</td>\n",
       "      <td>205.1459</td>\n",
       "      <td>0.055350</td>\n",
       "      <td>0.004600</td>\n",
       "      <td>6.42186</td>\n",
       "      <td>...</td>\n",
       "      <td>2.39985</td>\n",
       "      <td>6541.304</td>\n",
       "      <td>45.6</td>\n",
       "      <td>65.717</td>\n",
       "      <td>0.3</td>\n",
       "      <td>4980.0</td>\n",
       "      <td>NaN</td>\n",
       "      <td>3.23381</td>\n",
       "      <td>NaN</td>\n",
       "      <td>NaN</td>\n",
       "    </tr>\n",
       "    <tr>\n",
       "      <th>3108</th>\n",
       "      <td>Lao People's Democratic Republic</td>\n",
       "      <td>LAO</td>\n",
       "      <td>Western Pacific</td>\n",
       "      <td>2014</td>\n",
       "      <td>65.10757</td>\n",
       "      <td>16.70787</td>\n",
       "      <td>200.8204</td>\n",
       "      <td>0.054585</td>\n",
       "      <td>0.004405</td>\n",
       "      <td>6.64447</td>\n",
       "      <td>...</td>\n",
       "      <td>2.29846</td>\n",
       "      <td>6639.756</td>\n",
       "      <td>43.7</td>\n",
       "      <td>66.144</td>\n",
       "      <td>0.3</td>\n",
       "      <td>5440.0</td>\n",
       "      <td>NaN</td>\n",
       "      <td>2.93781</td>\n",
       "      <td>NaN</td>\n",
       "      <td>NaN</td>\n",
       "    </tr>\n",
       "    <tr>\n",
       "      <th>3109</th>\n",
       "      <td>Lao People's Democratic Republic</td>\n",
       "      <td>LAO</td>\n",
       "      <td>Western Pacific</td>\n",
       "      <td>2015</td>\n",
       "      <td>65.45008</td>\n",
       "      <td>16.77074</td>\n",
       "      <td>196.6613</td>\n",
       "      <td>0.053465</td>\n",
       "      <td>0.004160</td>\n",
       "      <td>6.83826</td>\n",
       "      <td>...</td>\n",
       "      <td>2.45366</td>\n",
       "      <td>6741.164</td>\n",
       "      <td>42.0</td>\n",
       "      <td>66.546</td>\n",
       "      <td>0.3</td>\n",
       "      <td>5810.0</td>\n",
       "      <td>NaN</td>\n",
       "      <td>NaN</td>\n",
       "      <td>84.66104</td>\n",
       "      <td>NaN</td>\n",
       "    </tr>\n",
       "    <tr>\n",
       "      <th>3110</th>\n",
       "      <td>Lao People's Democratic Republic</td>\n",
       "      <td>LAO</td>\n",
       "      <td>Western Pacific</td>\n",
       "      <td>2016</td>\n",
       "      <td>65.79089</td>\n",
       "      <td>16.83024</td>\n",
       "      <td>192.7939</td>\n",
       "      <td>0.051895</td>\n",
       "      <td>0.003990</td>\n",
       "      <td>7.11148</td>\n",
       "      <td>...</td>\n",
       "      <td>2.36087</td>\n",
       "      <td>6845.846</td>\n",
       "      <td>40.4</td>\n",
       "      <td>66.924</td>\n",
       "      <td>0.3</td>\n",
       "      <td>6190.0</td>\n",
       "      <td>NaN</td>\n",
       "      <td>NaN</td>\n",
       "      <td>NaN</td>\n",
       "      <td>NaN</td>\n",
       "    </tr>\n",
       "  </tbody>\n",
       "</table>\n",
       "<p>3111 rows × 32 columns</p>\n",
       "</div>"
      ],
      "text/plain": [
       "                               country country_code           region  year  \\\n",
       "0                               Angola          AGO           Africa  2000   \n",
       "1                               Angola          AGO           Africa  2001   \n",
       "2                               Angola          AGO           Africa  2002   \n",
       "3                               Angola          AGO           Africa  2003   \n",
       "4                               Angola          AGO           Africa  2004   \n",
       "...                                ...          ...              ...   ...   \n",
       "3106  Lao People's Democratic Republic          LAO  Western Pacific  2012   \n",
       "3107  Lao People's Democratic Republic          LAO  Western Pacific  2013   \n",
       "3108  Lao People's Democratic Republic          LAO  Western Pacific  2014   \n",
       "3109  Lao People's Democratic Republic          LAO  Western Pacific  2015   \n",
       "3110  Lao People's Democratic Republic          LAO  Western Pacific  2016   \n",
       "\n",
       "      life_expect  life_exp60  adult_mortality  infant_mort  age1-4mort  \\\n",
       "0        47.33730    14.73400         383.5583     0.137985    0.025695   \n",
       "1        48.19789    14.95963         372.3876     0.133675    0.024500   \n",
       "2        49.42569    15.20010         354.5147     0.128320    0.023260   \n",
       "3        50.50266    15.39144         343.2169     0.122040    0.021925   \n",
       "4        51.52863    15.56860         333.8711     0.115700    0.020545   \n",
       "...           ...         ...              ...          ...         ...   \n",
       "3106     64.49448    16.57977         209.2666     0.055840    0.004845   \n",
       "3107     64.79716    16.64219         205.1459     0.055350    0.004600   \n",
       "3108     65.10757    16.70787         200.8204     0.054585    0.004405   \n",
       "3109     65.45008    16.77074         196.6613     0.053465    0.004160   \n",
       "3110     65.79089    16.83024         192.7939     0.051895    0.003990   \n",
       "\n",
       "      alcohol  ...  che_gdp    une_pop  une_infant  une_life  une_hiv  \\\n",
       "0     1.47439  ...  1.90860  16395.473       122.2    46.522      1.0   \n",
       "1     1.94025  ...  4.48352  16945.753       118.9    47.059      1.1   \n",
       "2     2.07512  ...  3.32946  17519.417       115.1    47.702      1.2   \n",
       "3     2.20275  ...  3.54797  18121.479       110.8    48.440      1.3   \n",
       "4     2.41274  ...  3.96720  18758.145       106.2    49.263      1.3   \n",
       "...       ...  ...      ...        ...         ...       ...      ...   \n",
       "3106  6.29833  ...  2.07638   6444.530        47.5    65.267      0.3   \n",
       "3107  6.42186  ...  2.39985   6541.304        45.6    65.717      0.3   \n",
       "3108  6.64447  ...  2.29846   6639.756        43.7    66.144      0.3   \n",
       "3109  6.83826  ...  2.45366   6741.164        42.0    66.546      0.3   \n",
       "3110  7.11148  ...  2.36087   6845.846        40.4    66.924      0.3   \n",
       "\n",
       "      une_gni  une_poverty  une_edu_spend  une_literacy  une_school  \n",
       "0      2530.0         32.3        2.60753           NaN         NaN  \n",
       "1      2630.0          NaN            NaN      67.40542         NaN  \n",
       "2      3180.0          NaN            NaN           NaN         NaN  \n",
       "3      3260.0          NaN            NaN           NaN         NaN  \n",
       "4      3560.0          NaN            NaN           NaN         NaN  \n",
       "...       ...          ...            ...           ...         ...  \n",
       "3106   4570.0         22.7        1.82147           NaN         NaN  \n",
       "3107   4980.0          NaN        3.23381           NaN         NaN  \n",
       "3108   5440.0          NaN        2.93781           NaN         NaN  \n",
       "3109   5810.0          NaN            NaN      84.66104         NaN  \n",
       "3110   6190.0          NaN            NaN           NaN         NaN  \n",
       "\n",
       "[3111 rows x 32 columns]"
      ]
     },
     "execution_count": 2,
     "metadata": {},
     "output_type": "execute_result"
    }
   ],
   "source": [
    "life_df = pd.read_csv('who_life_exp.csv')\n",
    "life_df"
   ]
  },
  {
   "cell_type": "markdown",
   "metadata": {
    "id": "CjI189XgtzVN"
   },
   "source": [
    "## Dữ liệu có bao nhiêu dòng và bao nhiêu cột?\n",
    "\n",
    "Dữ liệu có 3111 dòng và 32 cột"
   ]
  },
  {
   "cell_type": "markdown",
   "metadata": {
    "id": "_BAlBpuyuUFC"
   },
   "source": [
    "## Mỗi dòng có ý nghĩa gì? Có vấn đề các dòng có ý nghĩa khác nhau không?\n",
    "\n",
    "Mỗi dòng mang thông tin về tuổi thọ trung bình của người dân một quốc gia trong một năm và các yếu tố khác liên quan như là chỉ số khối cơ thể, lượng cồn tiêu thụ trung bình, tỷ lệ người dân có nước sạch cơ bản, đạt miễn dịch một số loại bệnh, một số thông tin về nền kinh tế quốc gia, ...\n",
    "Có vẻ không có dòng nào có ý nghĩa khác so với các dòng còn lại."
   ]
  },
  {
   "cell_type": "markdown",
   "metadata": {
    "id": "F8GMDUuowAcw"
   },
   "source": [
    "## Dữ liệu có các dòng bị lặp không?"
   ]
  },
  {
   "cell_type": "code",
   "execution_count": 5,
   "metadata": {},
   "outputs": [
    {
     "data": {
      "text/plain": [
       "0"
      ]
     },
     "execution_count": 5,
     "metadata": {},
     "output_type": "execute_result"
    }
   ],
   "source": [
    "have_duplicate = life_df.duplicated()\n",
    "have_duplicate.sum()"
   ]
  },
  {
   "cell_type": "markdown",
   "metadata": {},
   "source": [
    "Vậy là không có dòng nào trong tập dữ liệu bị trùng."
   ]
  },
  {
   "cell_type": "markdown",
   "metadata": {
    "id": "mEpknXpPvtXH"
   },
   "source": [
    "## Mỗi cột có ý nghĩa gì?\n",
    "\n",
    "Theo mô tả trên trang web tập dữ liệu, mỗi cột có ý nghĩa:\n",
    "- **country**: tên quốc gia.\n",
    "- **country_code**: mã quốc gia 3 chữ cái.\n",
    "- **region**: châu lục.\n",
    "- **year**: năm của số liệu.\n",
    "- **life_expect**, **une_life**: tuổi thọ trung bình của một người tính từ khi mới ra đời.\n",
    "- **life_exp60**: thời gian trung bình theo năm một người từ 60 tuổi có thể sống.\n",
    "- **adult_mortality**: tỷ lệ tử vong ở người trưởng thành (số người chết trong khoảng 15 - 60 tuổi/1000 người)\n",
    "- **infant_mort**: tỷ lệ tử vong ở trẻ sơ sinh dưới 1 tuổi.\n",
    "- **age1-4mort**: tỷ lệ tử vong ở trẻ sơ sinh từ 1 - 4 tuổi.\n",
    "- **alcohol**: lượng cồn nguyên chất tiêu thụ ở người $\\geq 15$ tuổi(lít).\n",
    "- **bmi**: chỉ số khối cơ thể trung bình với người $\\geq 18$ tuổi.\n",
    "- **age5-19thinness**: tỷ lệ % số người 5 - 19 tuổi có cơ thể gầy, (BMI < median - 2s.d)\n",
    "- **age5-19obesity**: tỷ lệ % số người 5 - 19 tuổi có cơ thể béo phì, (BMI > median + 2s.d)\n",
    "- **hepatitis**: tỷ lệ tiêm phòng viêm gan B cho trẻ em trong khoảng 1 tuổi.\n",
    "- **measles**: tỷ lệ tiêm phòng sởi liều đầu tiên cho trẻ em trong khoảng 1 tuổi.\n",
    "- **polio**: tỷ lệ tiêm phòng bại liệt cho trẻ em trong khoảng 1 tuổi.\n",
    "- **diphtheria**: \n",
    "- **basic_water**: tỷ lệ người dân được sử dụng nước sạch.\n",
    "- **doctors**: số lượng bác sĩ/10000 dân.\n",
    "- **hospitals**: số bệnh viện trên 100000 người dân.\n",
    "- **gni_capita**, **une_gni**: thu nhập quốc dân \n",
    "- **gghe-d**: đầu tư công vào lĩnh vực y tế (%GDP)\n",
    "- **che_gdp**: tổng dau9629 tư vào lĩnh vực y tế (%GDP)\n",
    "- **une_pop**: dân số (1000 người)\n",
    "- **une_infant**: số ca tử vong/1000 ca sinh.\n",
    "- **une_hiv**: tỷ lệ người từ 15 - 49 tuổi nhiễm HIV.\n",
    "- **une_poverty**: % dân số có thu nhập $\\leq \\$1.90$/ngày\n",
    "- **une_edu_spend**: %GDP đầu tư công vào giáo dục.\n",
    "- **une_literacy**: % dân số $\\geq 15$ tuổi biết chữ.\n",
    "- **une_school**: thời gian đi học trung bình (năm) của người dân $\\geq 25$ tuổi.\n",
    "\n",
    "Các cột có tên bắt đầu là `une` là cột có dữ liệu từ UNESCO, các cột khác được thu thập từ GHO."
   ]
  },
  {
   "cell_type": "markdown",
   "metadata": {
    "id": "A3mB0sFs0psw"
   },
   "source": [
    "## Mỗi cột hiện đang có kiểu dữ liệu gì?"
   ]
  },
  {
   "cell_type": "code",
   "execution_count": 3,
   "metadata": {},
   "outputs": [
    {
     "data": {
      "text/plain": [
       "country             object\n",
       "country_code        object\n",
       "region              object\n",
       "year                 int64\n",
       "life_expect        float64\n",
       "life_exp60         float64\n",
       "adult_mortality    float64\n",
       "infant_mort        float64\n",
       "age1-4mort         float64\n",
       "alcohol            float64\n",
       "bmi                float64\n",
       "age5-19thinness    float64\n",
       "age5-19obesity     float64\n",
       "hepatitis          float64\n",
       "measles            float64\n",
       "polio              float64\n",
       "diphtheria         float64\n",
       "basic_water        float64\n",
       "doctors            float64\n",
       "hospitals          float64\n",
       "gni_capita         float64\n",
       "gghe-d             float64\n",
       "che_gdp            float64\n",
       "une_pop            float64\n",
       "une_infant         float64\n",
       "une_life           float64\n",
       "une_hiv            float64\n",
       "une_gni            float64\n",
       "une_poverty        float64\n",
       "une_edu_spend      float64\n",
       "une_literacy       float64\n",
       "une_school         float64\n",
       "dtype: object"
      ]
     },
     "execution_count": 3,
     "metadata": {},
     "output_type": "execute_result"
    }
   ],
   "source": [
    "life_df.dtypes"
   ]
  },
  {
   "cell_type": "markdown",
   "metadata": {},
   "source": [
    "Các cột đều có kiểu dữ liệu đúng với ý nghĩa, không có cột nào có kiểu dữ liệu không hợp lệ."
   ]
  },
  {
   "cell_type": "code",
   "execution_count": 4,
   "metadata": {},
   "outputs": [],
   "source": [
    "def missing_ratio(df):\n",
    "    return df.isna().mean() * 100"
   ]
  },
  {
   "cell_type": "markdown",
   "metadata": {
    "id": "GeRfU7Fg-orZ"
   },
   "source": [
    "### Với mỗi cột có kiểu dữ liệu dạng categorical, các giá trị được phân bố như thế nào?"
   ]
  },
  {
   "cell_type": "code",
   "execution_count": 14,
   "metadata": {},
   "outputs": [
    {
     "data": {
      "text/html": [
       "<div>\n",
       "<style scoped>\n",
       "    .dataframe tbody tr th:only-of-type {\n",
       "        vertical-align: middle;\n",
       "    }\n",
       "\n",
       "    .dataframe tbody tr th {\n",
       "        vertical-align: top;\n",
       "    }\n",
       "\n",
       "    .dataframe thead th {\n",
       "        text-align: right;\n",
       "    }\n",
       "</style>\n",
       "<table border=\"1\" class=\"dataframe\">\n",
       "  <thead>\n",
       "    <tr style=\"text-align: right;\">\n",
       "      <th></th>\n",
       "      <th>country</th>\n",
       "      <th>country_code</th>\n",
       "      <th>region</th>\n",
       "    </tr>\n",
       "  </thead>\n",
       "  <tbody>\n",
       "    <tr>\n",
       "      <th>missing_ratio</th>\n",
       "      <td>0.0</td>\n",
       "      <td>0.0</td>\n",
       "      <td>0.0</td>\n",
       "    </tr>\n",
       "    <tr>\n",
       "      <th>count</th>\n",
       "      <td>3111</td>\n",
       "      <td>3111</td>\n",
       "      <td>3111</td>\n",
       "    </tr>\n",
       "    <tr>\n",
       "      <th>unique</th>\n",
       "      <td>183</td>\n",
       "      <td>183</td>\n",
       "      <td>6</td>\n",
       "    </tr>\n",
       "    <tr>\n",
       "      <th>top</th>\n",
       "      <td>Senegal</td>\n",
       "      <td>ATG</td>\n",
       "      <td>Europe</td>\n",
       "    </tr>\n",
       "    <tr>\n",
       "      <th>freq</th>\n",
       "      <td>17</td>\n",
       "      <td>17</td>\n",
       "      <td>850</td>\n",
       "    </tr>\n",
       "  </tbody>\n",
       "</table>\n",
       "</div>"
      ],
      "text/plain": [
       "               country country_code  region\n",
       "missing_ratio      0.0          0.0     0.0\n",
       "count             3111         3111    3111\n",
       "unique             183          183       6\n",
       "top            Senegal          ATG  Europe\n",
       "freq                17           17     850"
      ]
     },
     "execution_count": 14,
     "metadata": {},
     "output_type": "execute_result"
    }
   ],
   "source": [
    "cate_df = life_df.select_dtypes('object')\n",
    "cate_info = pd.concat([cate_df.agg([missing_ratio]), cate_df.describe()])\n",
    "cate_info"
   ]
  },
  {
   "cell_type": "markdown",
   "metadata": {
    "id": "W-DjNIKN8kEg"
   },
   "source": [
    "### Với mỗi cột có kiểu dữ liệu dạng numeric, các giá trị được phân bố như thế nào?\n",
    "\n",
    "Như tìm hiểu ở trên, chĩ có 3 cột country, country_code và region là có kiểu dữ liệu object, cùng với cột year có kiểu dữ liệu số nhưng mang ý nghĩa định danh, các cột còn lại đều mang ý nghĩa về số liệu, tỷ lệ"
   ]
  },
  {
   "cell_type": "code",
   "execution_count": 16,
   "metadata": {
    "colab": {
     "base_uri": "https://localhost:8080/",
     "height": 397
    },
    "id": "9PEzFHNB_Foi",
    "outputId": "1f995b1e-4772-4fd3-f0ee-4be1a980fb5f"
   },
   "outputs": [
    {
     "data": {
      "text/html": [
       "<div>\n",
       "<style scoped>\n",
       "    .dataframe tbody tr th:only-of-type {\n",
       "        vertical-align: middle;\n",
       "    }\n",
       "\n",
       "    .dataframe tbody tr th {\n",
       "        vertical-align: top;\n",
       "    }\n",
       "\n",
       "    .dataframe thead th {\n",
       "        text-align: right;\n",
       "    }\n",
       "</style>\n",
       "<table border=\"1\" class=\"dataframe\">\n",
       "  <thead>\n",
       "    <tr style=\"text-align: right;\">\n",
       "      <th></th>\n",
       "      <th>life_expect</th>\n",
       "      <th>life_exp60</th>\n",
       "      <th>adult_mortality</th>\n",
       "      <th>infant_mort</th>\n",
       "      <th>age1-4mort</th>\n",
       "      <th>alcohol</th>\n",
       "      <th>bmi</th>\n",
       "      <th>age5-19thinness</th>\n",
       "      <th>age5-19obesity</th>\n",
       "      <th>hepatitis</th>\n",
       "      <th>measles</th>\n",
       "      <th>polio</th>\n",
       "      <th>diphtheria</th>\n",
       "      <th>basic_water</th>\n",
       "      <th>doctors</th>\n",
       "      <th>hospitals</th>\n",
       "      <th>gni_capita</th>\n",
       "      <th>gghe-d</th>\n",
       "      <th>che_gdp</th>\n",
       "      <th>une_pop</th>\n",
       "      <th>une_infant</th>\n",
       "      <th>une_life</th>\n",
       "      <th>une_hiv</th>\n",
       "      <th>une_gni</th>\n",
       "      <th>une_poverty</th>\n",
       "      <th>une_edu_spend</th>\n",
       "      <th>une_literacy</th>\n",
       "      <th>une_school</th>\n",
       "    </tr>\n",
       "  </thead>\n",
       "  <tbody>\n",
       "    <tr>\n",
       "      <th>missing_ratio</th>\n",
       "      <td>0.000000</td>\n",
       "      <td>0.000000</td>\n",
       "      <td>0.000000</td>\n",
       "      <td>0.000000</td>\n",
       "      <td>0.000000</td>\n",
       "      <td>1.607200</td>\n",
       "      <td>1.092896</td>\n",
       "      <td>1.092896</td>\n",
       "      <td>1.092896</td>\n",
       "      <td>18.289939</td>\n",
       "      <td>0.610736</td>\n",
       "      <td>0.610736</td>\n",
       "      <td>0.610736</td>\n",
       "      <td>1.028608</td>\n",
       "      <td>42.783671</td>\n",
       "      <td>95.821279</td>\n",
       "      <td>21.922212</td>\n",
       "      <td>3.214401</td>\n",
       "      <td>3.760849</td>\n",
       "      <td>1.189328e+00</td>\n",
       "      <td>0.000000</td>\n",
       "      <td>0.000000</td>\n",
       "      <td>23.818708</td>\n",
       "      <td>3.760849</td>\n",
       "      <td>70.652523</td>\n",
       "      <td>41.337191</td>\n",
       "      <td>81.645773</td>\n",
       "      <td>74.124076</td>\n",
       "    </tr>\n",
       "    <tr>\n",
       "      <th>count</th>\n",
       "      <td>3111.000000</td>\n",
       "      <td>3111.000000</td>\n",
       "      <td>3111.000000</td>\n",
       "      <td>3111.000000</td>\n",
       "      <td>3111.000000</td>\n",
       "      <td>3061.000000</td>\n",
       "      <td>3077.000000</td>\n",
       "      <td>3077.000000</td>\n",
       "      <td>3077.000000</td>\n",
       "      <td>2542.000000</td>\n",
       "      <td>3092.000000</td>\n",
       "      <td>3092.000000</td>\n",
       "      <td>3092.000000</td>\n",
       "      <td>3079.000000</td>\n",
       "      <td>1780.000000</td>\n",
       "      <td>130.000000</td>\n",
       "      <td>2429.000000</td>\n",
       "      <td>3011.000000</td>\n",
       "      <td>2994.000000</td>\n",
       "      <td>3.074000e+03</td>\n",
       "      <td>3111.000000</td>\n",
       "      <td>3111.000000</td>\n",
       "      <td>2370.000000</td>\n",
       "      <td>2994.000000</td>\n",
       "      <td>913.000000</td>\n",
       "      <td>1825.000000</td>\n",
       "      <td>571.000000</td>\n",
       "      <td>805.000000</td>\n",
       "    </tr>\n",
       "    <tr>\n",
       "      <th>mean</th>\n",
       "      <td>69.146384</td>\n",
       "      <td>18.912060</td>\n",
       "      <td>193.527786</td>\n",
       "      <td>0.032496</td>\n",
       "      <td>0.003489</td>\n",
       "      <td>4.834781</td>\n",
       "      <td>25.052714</td>\n",
       "      <td>5.312447</td>\n",
       "      <td>5.972278</td>\n",
       "      <td>85.436271</td>\n",
       "      <td>85.540427</td>\n",
       "      <td>86.608991</td>\n",
       "      <td>86.420116</td>\n",
       "      <td>83.332011</td>\n",
       "      <td>19.866038</td>\n",
       "      <td>2.044878</td>\n",
       "      <td>13397.146974</td>\n",
       "      <td>3.122935</td>\n",
       "      <td>6.110353</td>\n",
       "      <td>3.707550e+04</td>\n",
       "      <td>30.488428</td>\n",
       "      <td>68.957352</td>\n",
       "      <td>2.038397</td>\n",
       "      <td>14964.832999</td>\n",
       "      <td>10.845893</td>\n",
       "      <td>4.532930</td>\n",
       "      <td>81.984472</td>\n",
       "      <td>9.712214</td>\n",
       "    </tr>\n",
       "    <tr>\n",
       "      <th>std</th>\n",
       "      <td>9.129761</td>\n",
       "      <td>2.885412</td>\n",
       "      <td>114.007447</td>\n",
       "      <td>0.030361</td>\n",
       "      <td>0.005146</td>\n",
       "      <td>3.998741</td>\n",
       "      <td>2.193445</td>\n",
       "      <td>4.652408</td>\n",
       "      <td>4.530812</td>\n",
       "      <td>17.099786</td>\n",
       "      <td>15.282246</td>\n",
       "      <td>14.943226</td>\n",
       "      <td>15.332160</td>\n",
       "      <td>19.255119</td>\n",
       "      <td>14.071207</td>\n",
       "      <td>5.059339</td>\n",
       "      <td>16258.593973</td>\n",
       "      <td>2.091720</td>\n",
       "      <td>2.505267</td>\n",
       "      <td>1.378377e+05</td>\n",
       "      <td>27.756930</td>\n",
       "      <td>9.359194</td>\n",
       "      <td>4.593804</td>\n",
       "      <td>17495.137508</td>\n",
       "      <td>17.168798</td>\n",
       "      <td>1.754280</td>\n",
       "      <td>19.665588</td>\n",
       "      <td>2.854723</td>\n",
       "    </tr>\n",
       "    <tr>\n",
       "      <th>min</th>\n",
       "      <td>36.227360</td>\n",
       "      <td>10.728000</td>\n",
       "      <td>49.201850</td>\n",
       "      <td>0.001470</td>\n",
       "      <td>0.000065</td>\n",
       "      <td>0.000000</td>\n",
       "      <td>19.800000</td>\n",
       "      <td>0.100000</td>\n",
       "      <td>0.100000</td>\n",
       "      <td>2.000000</td>\n",
       "      <td>16.000000</td>\n",
       "      <td>8.000000</td>\n",
       "      <td>19.000000</td>\n",
       "      <td>18.695210</td>\n",
       "      <td>0.128000</td>\n",
       "      <td>0.000000</td>\n",
       "      <td>250.000000</td>\n",
       "      <td>0.062360</td>\n",
       "      <td>1.025160</td>\n",
       "      <td>7.601600e+01</td>\n",
       "      <td>1.600000</td>\n",
       "      <td>39.441000</td>\n",
       "      <td>0.100000</td>\n",
       "      <td>420.000000</td>\n",
       "      <td>0.100000</td>\n",
       "      <td>0.787440</td>\n",
       "      <td>14.376040</td>\n",
       "      <td>0.559340</td>\n",
       "    </tr>\n",
       "    <tr>\n",
       "      <th>25%</th>\n",
       "      <td>63.200095</td>\n",
       "      <td>16.619485</td>\n",
       "      <td>108.269750</td>\n",
       "      <td>0.008255</td>\n",
       "      <td>0.000355</td>\n",
       "      <td>1.198030</td>\n",
       "      <td>23.300000</td>\n",
       "      <td>1.800000</td>\n",
       "      <td>2.000000</td>\n",
       "      <td>81.000000</td>\n",
       "      <td>79.000000</td>\n",
       "      <td>81.000000</td>\n",
       "      <td>82.000000</td>\n",
       "      <td>71.658310</td>\n",
       "      <td>6.391250</td>\n",
       "      <td>0.535162</td>\n",
       "      <td>2540.000000</td>\n",
       "      <td>1.533445</td>\n",
       "      <td>4.238798</td>\n",
       "      <td>2.195105e+03</td>\n",
       "      <td>8.000000</td>\n",
       "      <td>62.844500</td>\n",
       "      <td>0.100000</td>\n",
       "      <td>2970.000000</td>\n",
       "      <td>0.600000</td>\n",
       "      <td>3.262830</td>\n",
       "      <td>72.701130</td>\n",
       "      <td>7.735940</td>\n",
       "    </tr>\n",
       "    <tr>\n",
       "      <th>50%</th>\n",
       "      <td>71.597200</td>\n",
       "      <td>18.508260</td>\n",
       "      <td>164.822200</td>\n",
       "      <td>0.019995</td>\n",
       "      <td>0.000895</td>\n",
       "      <td>3.993560</td>\n",
       "      <td>25.500000</td>\n",
       "      <td>3.800000</td>\n",
       "      <td>5.200000</td>\n",
       "      <td>92.000000</td>\n",
       "      <td>92.000000</td>\n",
       "      <td>93.000000</td>\n",
       "      <td>93.000000</td>\n",
       "      <td>91.994080</td>\n",
       "      <td>20.523500</td>\n",
       "      <td>1.072725</td>\n",
       "      <td>7460.000000</td>\n",
       "      <td>2.601300</td>\n",
       "      <td>5.758030</td>\n",
       "      <td>8.544297e+03</td>\n",
       "      <td>19.500000</td>\n",
       "      <td>71.409000</td>\n",
       "      <td>0.400000</td>\n",
       "      <td>8340.000000</td>\n",
       "      <td>3.100000</td>\n",
       "      <td>4.425410</td>\n",
       "      <td>90.953740</td>\n",
       "      <td>10.270400</td>\n",
       "    </tr>\n",
       "    <tr>\n",
       "      <th>75%</th>\n",
       "      <td>75.537030</td>\n",
       "      <td>21.099175</td>\n",
       "      <td>250.832300</td>\n",
       "      <td>0.051720</td>\n",
       "      <td>0.004877</td>\n",
       "      <td>7.723420</td>\n",
       "      <td>26.500000</td>\n",
       "      <td>7.800000</td>\n",
       "      <td>8.900000</td>\n",
       "      <td>97.000000</td>\n",
       "      <td>96.000000</td>\n",
       "      <td>97.000000</td>\n",
       "      <td>97.000000</td>\n",
       "      <td>98.552870</td>\n",
       "      <td>30.981750</td>\n",
       "      <td>2.104830</td>\n",
       "      <td>18250.000000</td>\n",
       "      <td>4.278110</td>\n",
       "      <td>7.850327</td>\n",
       "      <td>2.509552e+04</td>\n",
       "      <td>48.050000</td>\n",
       "      <td>75.570645</td>\n",
       "      <td>1.500000</td>\n",
       "      <td>20482.500000</td>\n",
       "      <td>12.400000</td>\n",
       "      <td>5.494980</td>\n",
       "      <td>95.786975</td>\n",
       "      <td>12.070610</td>\n",
       "    </tr>\n",
       "    <tr>\n",
       "      <th>max</th>\n",
       "      <td>84.166160</td>\n",
       "      <td>26.394020</td>\n",
       "      <td>696.874200</td>\n",
       "      <td>0.164515</td>\n",
       "      <td>0.039095</td>\n",
       "      <td>20.182460</td>\n",
       "      <td>32.200000</td>\n",
       "      <td>28.100000</td>\n",
       "      <td>26.700000</td>\n",
       "      <td>99.000000</td>\n",
       "      <td>99.000000</td>\n",
       "      <td>99.000000</td>\n",
       "      <td>99.000000</td>\n",
       "      <td>100.000010</td>\n",
       "      <td>79.541000</td>\n",
       "      <td>56.446950</td>\n",
       "      <td>123860.000000</td>\n",
       "      <td>12.062730</td>\n",
       "      <td>20.413410</td>\n",
       "      <td>1.414049e+06</td>\n",
       "      <td>142.400000</td>\n",
       "      <td>83.984880</td>\n",
       "      <td>28.200000</td>\n",
       "      <td>122670.000000</td>\n",
       "      <td>94.100000</td>\n",
       "      <td>14.059080</td>\n",
       "      <td>99.998190</td>\n",
       "      <td>14.378800</td>\n",
       "    </tr>\n",
       "  </tbody>\n",
       "</table>\n",
       "</div>"
      ],
      "text/plain": [
       "               life_expect   life_exp60  adult_mortality  infant_mort  \\\n",
       "missing_ratio     0.000000     0.000000         0.000000     0.000000   \n",
       "count          3111.000000  3111.000000      3111.000000  3111.000000   \n",
       "mean             69.146384    18.912060       193.527786     0.032496   \n",
       "std               9.129761     2.885412       114.007447     0.030361   \n",
       "min              36.227360    10.728000        49.201850     0.001470   \n",
       "25%              63.200095    16.619485       108.269750     0.008255   \n",
       "50%              71.597200    18.508260       164.822200     0.019995   \n",
       "75%              75.537030    21.099175       250.832300     0.051720   \n",
       "max              84.166160    26.394020       696.874200     0.164515   \n",
       "\n",
       "                age1-4mort      alcohol          bmi  age5-19thinness  \\\n",
       "missing_ratio     0.000000     1.607200     1.092896         1.092896   \n",
       "count          3111.000000  3061.000000  3077.000000      3077.000000   \n",
       "mean              0.003489     4.834781    25.052714         5.312447   \n",
       "std               0.005146     3.998741     2.193445         4.652408   \n",
       "min               0.000065     0.000000    19.800000         0.100000   \n",
       "25%               0.000355     1.198030    23.300000         1.800000   \n",
       "50%               0.000895     3.993560    25.500000         3.800000   \n",
       "75%               0.004877     7.723420    26.500000         7.800000   \n",
       "max               0.039095    20.182460    32.200000        28.100000   \n",
       "\n",
       "               age5-19obesity    hepatitis      measles        polio  \\\n",
       "missing_ratio        1.092896    18.289939     0.610736     0.610736   \n",
       "count             3077.000000  2542.000000  3092.000000  3092.000000   \n",
       "mean                 5.972278    85.436271    85.540427    86.608991   \n",
       "std                  4.530812    17.099786    15.282246    14.943226   \n",
       "min                  0.100000     2.000000    16.000000     8.000000   \n",
       "25%                  2.000000    81.000000    79.000000    81.000000   \n",
       "50%                  5.200000    92.000000    92.000000    93.000000   \n",
       "75%                  8.900000    97.000000    96.000000    97.000000   \n",
       "max                 26.700000    99.000000    99.000000    99.000000   \n",
       "\n",
       "                diphtheria  basic_water      doctors   hospitals  \\\n",
       "missing_ratio     0.610736     1.028608    42.783671   95.821279   \n",
       "count          3092.000000  3079.000000  1780.000000  130.000000   \n",
       "mean             86.420116    83.332011    19.866038    2.044878   \n",
       "std              15.332160    19.255119    14.071207    5.059339   \n",
       "min              19.000000    18.695210     0.128000    0.000000   \n",
       "25%              82.000000    71.658310     6.391250    0.535162   \n",
       "50%              93.000000    91.994080    20.523500    1.072725   \n",
       "75%              97.000000    98.552870    30.981750    2.104830   \n",
       "max              99.000000   100.000010    79.541000   56.446950   \n",
       "\n",
       "                  gni_capita       gghe-d      che_gdp       une_pop  \\\n",
       "missing_ratio      21.922212     3.214401     3.760849  1.189328e+00   \n",
       "count            2429.000000  3011.000000  2994.000000  3.074000e+03   \n",
       "mean            13397.146974     3.122935     6.110353  3.707550e+04   \n",
       "std             16258.593973     2.091720     2.505267  1.378377e+05   \n",
       "min               250.000000     0.062360     1.025160  7.601600e+01   \n",
       "25%              2540.000000     1.533445     4.238798  2.195105e+03   \n",
       "50%              7460.000000     2.601300     5.758030  8.544297e+03   \n",
       "75%             18250.000000     4.278110     7.850327  2.509552e+04   \n",
       "max            123860.000000    12.062730    20.413410  1.414049e+06   \n",
       "\n",
       "                une_infant     une_life      une_hiv        une_gni  \\\n",
       "missing_ratio     0.000000     0.000000    23.818708       3.760849   \n",
       "count          3111.000000  3111.000000  2370.000000    2994.000000   \n",
       "mean             30.488428    68.957352     2.038397   14964.832999   \n",
       "std              27.756930     9.359194     4.593804   17495.137508   \n",
       "min               1.600000    39.441000     0.100000     420.000000   \n",
       "25%               8.000000    62.844500     0.100000    2970.000000   \n",
       "50%              19.500000    71.409000     0.400000    8340.000000   \n",
       "75%              48.050000    75.570645     1.500000   20482.500000   \n",
       "max             142.400000    83.984880    28.200000  122670.000000   \n",
       "\n",
       "               une_poverty  une_edu_spend  une_literacy  une_school  \n",
       "missing_ratio    70.652523      41.337191     81.645773   74.124076  \n",
       "count           913.000000    1825.000000    571.000000  805.000000  \n",
       "mean             10.845893       4.532930     81.984472    9.712214  \n",
       "std              17.168798       1.754280     19.665588    2.854723  \n",
       "min               0.100000       0.787440     14.376040    0.559340  \n",
       "25%               0.600000       3.262830     72.701130    7.735940  \n",
       "50%               3.100000       4.425410     90.953740   10.270400  \n",
       "75%              12.400000       5.494980     95.786975   12.070610  \n",
       "max              94.100000      14.059080     99.998190   14.378800  "
      ]
     },
     "execution_count": 16,
     "metadata": {},
     "output_type": "execute_result"
    }
   ],
   "source": [
    "pd.set_option(\"display.max_columns\", None)\n",
    "num_df = life_df.select_dtypes(exclude='object').drop(columns='year')\n",
    "num_describe = pd.concat([num_df.agg([missing_ratio]), num_df.describe()])\n",
    "num_describe"
   ]
  },
  {
   "cell_type": "markdown",
   "metadata": {
    "id": "reV9pZPOGvbY"
   },
   "source": [
    "# Tìm các insight"
   ]
  },
  {
   "cell_type": "markdown",
   "metadata": {
    "id": "3IlLWjPhDsMi"
   },
   "source": [
    "## Mối tương quan giữa các thuộc tính"
   ]
  },
  {
   "cell_type": "code",
   "execution_count": null,
   "metadata": {
    "colab": {
     "base_uri": "https://localhost:8080/",
     "height": 746
    },
    "id": "u5oBrIjiCZnQ",
    "outputId": "1700aadc-88e5-43cc-e954-cda528411d0d"
   },
   "outputs": [
    {
     "data": {
      "image/png": "[encoded data removed]",
      "text/plain": [
       "<Figure size 1296x720 with 2 Axes>"
      ]
     },
     "metadata": {
      "needs_background": "light",
      "tags": []
     },
     "output_type": "display_data"
    }
   ],
   "source": [
    "mask = np.triu(np.ones_like(life_expectancy_df.corr()))\n",
    "plt.subplots(figsize=(18,10))\n",
    "dataplot = sns.heatmap(life_expectancy_df.corr(), cmap=\"coolwarm\", annot=True, mask=mask)"
   ]
  },
  {
   "cell_type": "markdown",
   "metadata": {
    "id": "MkZQkLinD3Pb"
   },
   "source": [
    "**Nhận xét:**\n",
    "Từ biểu đồ trên, ta có thể dự đoán rằng có nhiều thuộc tính \"schooling\", \"income composition of resources\", ... có ảnh hưởng mạnh tới tuổi thọ."
   ]
  },
  {
   "cell_type": "markdown",
   "metadata": {
    "id": "Yeeg-mKTFvMd"
   },
   "source": [
    "## Mức độ biến động tuổi thọ trung bình của toàn thế giới là như thế nào?"
   ]
  },
  {
   "cell_type": "code",
   "execution_count": null,
   "metadata": {
    "colab": {
     "base_uri": "https://localhost:8080/"
    },
    "id": "RaBO4fjUF8VA",
    "outputId": "56d322be-1c79-4ef2-a5ae-60946c662162"
   },
   "outputs": [
    {
     "data": {
      "text/plain": [
       "Year\n",
       "2000    66.750273\n",
       "2001    67.128962\n",
       "2002    67.351366\n",
       "2003    67.433333\n",
       "2004    67.646448\n",
       "2005    68.209290\n",
       "2006    68.667760\n",
       "2007    69.036066\n",
       "2008    69.427869\n",
       "2009    69.938251\n",
       "2010    70.048634\n",
       "2011    70.654098\n",
       "2012    70.916940\n",
       "2013    71.236066\n",
       "2014    71.536612\n",
       "2015    71.616940\n",
       "Name: Life expectancy, dtype: float64"
      ]
     },
     "execution_count": 16,
     "metadata": {
      "tags": []
     },
     "output_type": "execute_result"
    }
   ],
   "source": [
    "mean_life_expectancy_sr = life_expectancy_df.groupby('Year')['Life expectancy'].mean()\n",
    "mean_life_expectancy_sr"
   ]
  },
  {
   "cell_type": "code",
   "execution_count": null,
   "metadata": {
    "colab": {
     "base_uri": "https://localhost:8080/",
     "height": 414
    },
    "id": "9JdVqVqZH3ct",
    "outputId": "58fc11a8-1a30-4571-c501-11064bc6f370"
   },
   "outputs": [
    {
     "data": {
      "image/png": "[encoded data removed]",
      "text/plain": [
       "<Figure size 720x432 with 1 Axes>"
      ]
     },
     "metadata": {
      "needs_background": "light",
      "tags": []
     },
     "output_type": "display_data"
    }
   ],
   "source": [
    "mean_life_expectancy_sr.plot.line(marker='o',figsize=(10,6))\n",
    "plt.xlabel('Year',size=15)\n",
    "plt.ylabel('Life expectancy',size=15)\n",
    "plt.title('Average life expectancy of the whole world',size=20)\n",
    "plt.show()"
   ]
  },
  {
   "cell_type": "markdown",
   "metadata": {
    "id": "-Z5i2rj1ImZu"
   },
   "source": [
    "**Nhận xét:** Tuổi thọ trung bình của toàn thế giới tăng qua từng năm và đạt giá trị cao nhất vào năm 2015 với tuổi thọ trung bình là 71.6 tuổi."
   ]
  },
  {
   "cell_type": "markdown",
   "metadata": {
    "id": "znvWC8t1IOaQ"
   },
   "source": [
    "## Với mỗi quốc gia, Tuổi thọ trung bình các quốc gia là như thế nào?"
   ]
  },
  {
   "cell_type": "code",
   "execution_count": null,
   "metadata": {
    "id": "D-naYnqtChgI"
   },
   "outputs": [],
   "source": [
    "life_expectancy_country = life_expectancy_df.groupby('Country').agg({'Life expectancy':'mean'})\n",
    "mean_expectancy_df = life_expectancy_country.rename(columns={'Life expectancy':'Mean life expectancy'})\n",
    "mean_expectancy_df.sort_values(by=['Mean life expectancy'], ascending=False, inplace = True)"
   ]
  },
  {
   "cell_type": "code",
   "execution_count": null,
   "metadata": {
    "colab": {
     "base_uri": "https://localhost:8080/",
     "height": 357
    },
    "id": "PkCkVl8QX6c9",
    "outputId": "b843d3f9-7a82-4d95-aaf4-0329ece26967"
   },
   "outputs": [
    {
     "data": {
      "text/html": [
       "<div>\n",
       "<style scoped>\n",
       "    .dataframe tbody tr th:only-of-type {\n",
       "        vertical-align: middle;\n",
       "    }\n",
       "\n",
       "    .dataframe tbody tr th {\n",
       "        vertical-align: top;\n",
       "    }\n",
       "\n",
       "    .dataframe thead th {\n",
       "        text-align: right;\n",
       "    }\n",
       "</style>\n",
       "<table border=\"1\" class=\"dataframe\">\n",
       "  <thead>\n",
       "    <tr style=\"text-align: right;\">\n",
       "      <th></th>\n",
       "      <th>Country</th>\n",
       "      <th>Mean life expectancy</th>\n",
       "      <th>Status</th>\n",
       "    </tr>\n",
       "  </thead>\n",
       "  <tbody>\n",
       "    <tr>\n",
       "      <th>0</th>\n",
       "      <td>Japan</td>\n",
       "      <td>82.53750</td>\n",
       "      <td>Developed</td>\n",
       "    </tr>\n",
       "    <tr>\n",
       "      <th>1</th>\n",
       "      <td>Sweden</td>\n",
       "      <td>82.51875</td>\n",
       "      <td>Developed</td>\n",
       "    </tr>\n",
       "    <tr>\n",
       "      <th>2</th>\n",
       "      <td>Iceland</td>\n",
       "      <td>82.44375</td>\n",
       "      <td>Developed</td>\n",
       "    </tr>\n",
       "    <tr>\n",
       "      <th>3</th>\n",
       "      <td>Switzerland</td>\n",
       "      <td>82.33125</td>\n",
       "      <td>Developed</td>\n",
       "    </tr>\n",
       "    <tr>\n",
       "      <th>4</th>\n",
       "      <td>France</td>\n",
       "      <td>82.21875</td>\n",
       "      <td>Developing</td>\n",
       "    </tr>\n",
       "    <tr>\n",
       "      <th>5</th>\n",
       "      <td>Italy</td>\n",
       "      <td>82.18750</td>\n",
       "      <td>Developed</td>\n",
       "    </tr>\n",
       "    <tr>\n",
       "      <th>6</th>\n",
       "      <td>Spain</td>\n",
       "      <td>82.06875</td>\n",
       "      <td>Developed</td>\n",
       "    </tr>\n",
       "    <tr>\n",
       "      <th>7</th>\n",
       "      <td>Australia</td>\n",
       "      <td>81.81250</td>\n",
       "      <td>Developed</td>\n",
       "    </tr>\n",
       "    <tr>\n",
       "      <th>8</th>\n",
       "      <td>Norway</td>\n",
       "      <td>81.79375</td>\n",
       "      <td>Developed</td>\n",
       "    </tr>\n",
       "    <tr>\n",
       "      <th>9</th>\n",
       "      <td>Canada</td>\n",
       "      <td>81.68750</td>\n",
       "      <td>Developing</td>\n",
       "    </tr>\n",
       "  </tbody>\n",
       "</table>\n",
       "</div>"
      ],
      "text/plain": [
       "       Country  Mean life expectancy      Status\n",
       "0        Japan              82.53750   Developed\n",
       "1       Sweden              82.51875   Developed\n",
       "2      Iceland              82.44375   Developed\n",
       "3  Switzerland              82.33125   Developed\n",
       "4       France              82.21875  Developing\n",
       "5        Italy              82.18750   Developed\n",
       "6        Spain              82.06875   Developed\n",
       "7    Australia              81.81250   Developed\n",
       "8       Norway              81.79375   Developed\n",
       "9       Canada              81.68750  Developing"
      ]
     },
     "execution_count": 19,
     "metadata": {
      "tags": []
     },
     "output_type": "execute_result"
    }
   ],
   "source": [
    "country_status = life_expectancy_df[['Country','Status']]\n",
    "country_status = country_status[~country_status.duplicated()]\n",
    "country_expectancy_df = mean_expectancy_df.merge(country_status, left_on='Country', right_on='Country')\n",
    "top_10_expectancy = country_expectancy_df[:10]\n",
    "top_10_expectancy"
   ]
  },
  {
   "cell_type": "code",
   "execution_count": null,
   "metadata": {
    "colab": {
     "base_uri": "https://localhost:8080/"
    },
    "id": "5elYFUugWM4j",
    "outputId": "f7271510-a160-41f8-907a-f8a8776e635f"
   },
   "outputs": [
    {
     "data": {
      "text/plain": [
       "Developed     80.0\n",
       "Developing    20.0\n",
       "Name: Status, dtype: float64"
      ]
     },
     "execution_count": 20,
     "metadata": {
      "tags": []
     },
     "output_type": "execute_result"
    }
   ],
   "source": [
    "top_10_expectancy['Status'].value_counts(normalize = True) *100"
   ]
  },
  {
   "cell_type": "markdown",
   "metadata": {
    "id": "5D0IIIryqdwq"
   },
   "source": [
    "**Nhận xét:**\n",
    "Nhận thấy trong top 10 các quốc gia tuổi thọ trung bình cao nhất thế giới thì hầu hết tập trung ở các nước phát triển (cụ thể 80%). Tuy nhiên, số liệu ở đây là tính trong khoảng thời gian từ năm 2000->2015 nên sự so sánh ở đây còn khá khập khiễng, chưa phản ánh đúng sự chú ý đến tuổi thọ của chính phủ các quốc gia trong những năm gần đây."
   ]
  },
  {
   "cell_type": "markdown",
   "metadata": {
    "id": "0ZZZYo-y3N7A"
   },
   "source": [
    "##Tốc độ tăng trưởng tuổi thọ của các quốc gia trên thế giới"
   ]
  },
  {
   "cell_type": "markdown",
   "metadata": {
    "id": "XTP6mF1ra326"
   },
   "source": [
    "- Để có cái nhìn chính xác hơn, ta chỉ lấy số liệu trong 3 năm gần đây nhất. Phần này, nhóm sẽ có cái nhìn tổng quát hơn về số liệu như đưa ra tốc độ tăng trưởng trung bình trong 3 năm và từ đó có thể dự đoán tuổi thọ trung bình các quốc gia đó trong các năm tiếp theo."
   ]
  },
  {
   "cell_type": "code",
   "execution_count": null,
   "metadata": {
    "colab": {
     "base_uri": "https://localhost:8080/",
     "height": 388
    },
    "id": "QmSzlRrLdOWn",
    "outputId": "defe92c9-693e-48e2-a09e-b5e45a670363"
   },
   "outputs": [
    {
     "data": {
      "image/png": "[encoded data removed]",
      "text/plain": [
       "<Figure size 864x432 with 1 Axes>"
      ]
     },
     "metadata": {
      "needs_background": "light",
      "tags": []
     },
     "output_type": "display_data"
    }
   ],
   "source": [
    "plt.figure(figsize=(12,6))\n",
    "sns.scatterplot(x=life_expectancy_df['Year'],y=life_expectancy_df['Life expectancy'],hue=life_expectancy_df['Status'])\n",
    "plt.legend()\n",
    "plt.show()"
   ]
  },
  {
   "cell_type": "markdown",
   "metadata": {
    "id": "9jyYNiGKJe5U"
   },
   "source": [
    "**Nhận xét:** Hầu hết các quốc gia có nền kinh tế đều có tuổi thọ trung bình cao hơn so với các nước có nền kinh tế đang phát triển."
   ]
  },
  {
   "cell_type": "code",
   "execution_count": null,
   "metadata": {
    "id": "wbgzKrcN4qJW"
   },
   "outputs": [],
   "source": [
    "def life_expectancy_growth_rate(country,expectancy_df):\n",
    "  sort_year_expectancy_df = expectancy_df[expectancy_df['Country'] == country].sort_values(by = 'Year')[-3:]\n",
    "  expectancy_values = sort_year_expectancy_df['Life expectancy'].values\n",
    "  mean_growth_rate_year = (np.diff(expectancy_values) / expectancy_values[:-1])*100\n",
    "  return country, mean_growth_rate_year.mean()"
   ]
  },
  {
   "cell_type": "code",
   "execution_count": null,
   "metadata": {
    "id": "YJEjerjljihK"
   },
   "outputs": [],
   "source": [
    "country_rate_growth = [life_expectancy_growth_rate(country,life_expectancy_df) for country in life_expectancy_df['Country'].unique()]\n",
    "country_rate_growth = dict(country_rate_growth)\n",
    "country_rate_growth_df = pd.Series(country_rate_growth).to_frame().reset_index()\n",
    "country_rate_growth_df.columns=['Country','Rate growth life expectancy']"
   ]
  },
  {
   "cell_type": "code",
   "execution_count": null,
   "metadata": {
    "colab": {
     "base_uri": "https://localhost:8080/",
     "height": 357
    },
    "id": "7LYN7N05jtDe",
    "outputId": "7568e5c5-2a01-408a-bc4a-0141bbb8a3f4"
   },
   "outputs": [
    {
     "data": {
      "text/html": [
       "<div>\n",
       "<style scoped>\n",
       "    .dataframe tbody tr th:only-of-type {\n",
       "        vertical-align: middle;\n",
       "    }\n",
       "\n",
       "    .dataframe tbody tr th {\n",
       "        vertical-align: top;\n",
       "    }\n",
       "\n",
       "    .dataframe thead th {\n",
       "        text-align: right;\n",
       "    }\n",
       "</style>\n",
       "<table border=\"1\" class=\"dataframe\">\n",
       "  <thead>\n",
       "    <tr style=\"text-align: right;\">\n",
       "      <th></th>\n",
       "      <th>Country</th>\n",
       "      <th>Rate growth life expectancy</th>\n",
       "      <th>Year</th>\n",
       "      <th>Life expectancy</th>\n",
       "      <th>Status</th>\n",
       "    </tr>\n",
       "  </thead>\n",
       "  <tbody>\n",
       "    <tr>\n",
       "      <th>0</th>\n",
       "      <td>Slovenia</td>\n",
       "      <td>1.751183</td>\n",
       "      <td>2015</td>\n",
       "      <td>88.0</td>\n",
       "      <td>Developed</td>\n",
       "    </tr>\n",
       "    <tr>\n",
       "      <th>1</th>\n",
       "      <td>Denmark</td>\n",
       "      <td>3.042328</td>\n",
       "      <td>2015</td>\n",
       "      <td>86.0</td>\n",
       "      <td>Developed</td>\n",
       "    </tr>\n",
       "    <tr>\n",
       "      <th>2</th>\n",
       "      <td>Cyprus</td>\n",
       "      <td>2.439387</td>\n",
       "      <td>2015</td>\n",
       "      <td>85.0</td>\n",
       "      <td>Developed</td>\n",
       "    </tr>\n",
       "    <tr>\n",
       "      <th>3</th>\n",
       "      <td>Chile</td>\n",
       "      <td>2.439387</td>\n",
       "      <td>2015</td>\n",
       "      <td>85.0</td>\n",
       "      <td>Developing</td>\n",
       "    </tr>\n",
       "    <tr>\n",
       "      <th>4</th>\n",
       "      <td>Japan</td>\n",
       "      <td>0.119760</td>\n",
       "      <td>2015</td>\n",
       "      <td>83.7</td>\n",
       "      <td>Developed</td>\n",
       "    </tr>\n",
       "    <tr>\n",
       "      <th>5</th>\n",
       "      <td>Switzerland</td>\n",
       "      <td>0.240674</td>\n",
       "      <td>2015</td>\n",
       "      <td>83.4</td>\n",
       "      <td>Developed</td>\n",
       "    </tr>\n",
       "    <tr>\n",
       "      <th>6</th>\n",
       "      <td>Singapore</td>\n",
       "      <td>0.241546</td>\n",
       "      <td>2015</td>\n",
       "      <td>83.1</td>\n",
       "      <td>Developed</td>\n",
       "    </tr>\n",
       "    <tr>\n",
       "      <th>7</th>\n",
       "      <td>Spain</td>\n",
       "      <td>0.242425</td>\n",
       "      <td>2015</td>\n",
       "      <td>82.8</td>\n",
       "      <td>Developed</td>\n",
       "    </tr>\n",
       "    <tr>\n",
       "      <th>8</th>\n",
       "      <td>Australia</td>\n",
       "      <td>0.181672</td>\n",
       "      <td>2015</td>\n",
       "      <td>82.8</td>\n",
       "      <td>Developed</td>\n",
       "    </tr>\n",
       "    <tr>\n",
       "      <th>9</th>\n",
       "      <td>Italy</td>\n",
       "      <td>0.242719</td>\n",
       "      <td>2015</td>\n",
       "      <td>82.7</td>\n",
       "      <td>Developed</td>\n",
       "    </tr>\n",
       "  </tbody>\n",
       "</table>\n",
       "</div>"
      ],
      "text/plain": [
       "       Country  Rate growth life expectancy  Year  Life expectancy      Status\n",
       "0     Slovenia                     1.751183  2015             88.0   Developed\n",
       "1      Denmark                     3.042328  2015             86.0   Developed\n",
       "2       Cyprus                     2.439387  2015             85.0   Developed\n",
       "3        Chile                     2.439387  2015             85.0  Developing\n",
       "4        Japan                     0.119760  2015             83.7   Developed\n",
       "5  Switzerland                     0.240674  2015             83.4   Developed\n",
       "6    Singapore                     0.241546  2015             83.1   Developed\n",
       "7        Spain                     0.242425  2015             82.8   Developed\n",
       "8    Australia                     0.181672  2015             82.8   Developed\n",
       "9        Italy                     0.242719  2015             82.7   Developed"
      ]
     },
     "execution_count": 24,
     "metadata": {
      "tags": []
     },
     "output_type": "execute_result"
    }
   ],
   "source": [
    "max_year = life_expectancy_df[life_expectancy_df['Year'] == life_expectancy_df['Year'].max()]\n",
    "country_rate_growth_df = country_rate_growth_df.merge(max_year[['Country','Year','Life expectancy','Status']],left_on='Country',right_on='Country')\n",
    "country_rate_growth_df = country_rate_growth_df.sort_values(by='Life expectancy',ascending=False).reset_index(drop=True)\n",
    "country_rate_growth_df.head(10)"
   ]
  },
  {
   "cell_type": "markdown",
   "metadata": {
    "id": "oHRwZh5ZxhUQ"
   },
   "source": [
    "### Với các quốc gia phát triển"
   ]
  },
  {
   "cell_type": "code",
   "execution_count": null,
   "metadata": {
    "colab": {
     "base_uri": "https://localhost:8080/",
     "height": 203
    },
    "id": "hzCMC-0bT4J4",
    "outputId": "4b2c9a4b-a6ac-4993-8d1f-59e195e6a0ae"
   },
   "outputs": [
    {
     "data": {
      "text/html": [
       "<div>\n",
       "<style scoped>\n",
       "    .dataframe tbody tr th:only-of-type {\n",
       "        vertical-align: middle;\n",
       "    }\n",
       "\n",
       "    .dataframe tbody tr th {\n",
       "        vertical-align: top;\n",
       "    }\n",
       "\n",
       "    .dataframe thead th {\n",
       "        text-align: right;\n",
       "    }\n",
       "</style>\n",
       "<table border=\"1\" class=\"dataframe\">\n",
       "  <thead>\n",
       "    <tr style=\"text-align: right;\">\n",
       "      <th></th>\n",
       "      <th>Country</th>\n",
       "      <th>Rate growth life expectancy</th>\n",
       "      <th>Year</th>\n",
       "      <th>Life expectancy</th>\n",
       "      <th>Status</th>\n",
       "    </tr>\n",
       "  </thead>\n",
       "  <tbody>\n",
       "    <tr>\n",
       "      <th>0</th>\n",
       "      <td>Slovenia</td>\n",
       "      <td>1.751183</td>\n",
       "      <td>2015</td>\n",
       "      <td>88.0</td>\n",
       "      <td>Developed</td>\n",
       "    </tr>\n",
       "    <tr>\n",
       "      <th>1</th>\n",
       "      <td>Denmark</td>\n",
       "      <td>3.042328</td>\n",
       "      <td>2015</td>\n",
       "      <td>86.0</td>\n",
       "      <td>Developed</td>\n",
       "    </tr>\n",
       "    <tr>\n",
       "      <th>2</th>\n",
       "      <td>Cyprus</td>\n",
       "      <td>2.439387</td>\n",
       "      <td>2015</td>\n",
       "      <td>85.0</td>\n",
       "      <td>Developed</td>\n",
       "    </tr>\n",
       "    <tr>\n",
       "      <th>4</th>\n",
       "      <td>Japan</td>\n",
       "      <td>0.119760</td>\n",
       "      <td>2015</td>\n",
       "      <td>83.7</td>\n",
       "      <td>Developed</td>\n",
       "    </tr>\n",
       "    <tr>\n",
       "      <th>5</th>\n",
       "      <td>Switzerland</td>\n",
       "      <td>0.240674</td>\n",
       "      <td>2015</td>\n",
       "      <td>83.4</td>\n",
       "      <td>Developed</td>\n",
       "    </tr>\n",
       "  </tbody>\n",
       "</table>\n",
       "</div>"
      ],
      "text/plain": [
       "       Country  Rate growth life expectancy  Year  Life expectancy     Status\n",
       "0     Slovenia                     1.751183  2015             88.0  Developed\n",
       "1      Denmark                     3.042328  2015             86.0  Developed\n",
       "2       Cyprus                     2.439387  2015             85.0  Developed\n",
       "4        Japan                     0.119760  2015             83.7  Developed\n",
       "5  Switzerland                     0.240674  2015             83.4  Developed"
      ]
     },
     "execution_count": 25,
     "metadata": {
      "tags": []
     },
     "output_type": "execute_result"
    }
   ],
   "source": [
    "developed_country = country_rate_growth_df[country_rate_growth_df['Status'] == 'Developed']\n",
    "developed_country.head()"
   ]
  },
  {
   "cell_type": "code",
   "execution_count": null,
   "metadata": {
    "colab": {
     "base_uri": "https://localhost:8080/",
     "height": 295
    },
    "id": "yzlueVodT7Ke",
    "outputId": "679f9b5e-f1ec-4dda-fbd5-2621ae6489b8"
   },
   "outputs": [
    {
     "data": {
      "text/html": [
       "<div>\n",
       "<style scoped>\n",
       "    .dataframe tbody tr th:only-of-type {\n",
       "        vertical-align: middle;\n",
       "    }\n",
       "\n",
       "    .dataframe tbody tr th {\n",
       "        vertical-align: top;\n",
       "    }\n",
       "\n",
       "    .dataframe thead th {\n",
       "        text-align: right;\n",
       "    }\n",
       "</style>\n",
       "<table border=\"1\" class=\"dataframe\">\n",
       "  <thead>\n",
       "    <tr style=\"text-align: right;\">\n",
       "      <th></th>\n",
       "      <th>Life expectancy</th>\n",
       "      <th>Rate growth life expectancy</th>\n",
       "    </tr>\n",
       "  </thead>\n",
       "  <tbody>\n",
       "    <tr>\n",
       "      <th>count</th>\n",
       "      <td>32.000000</td>\n",
       "      <td>32.000000</td>\n",
       "    </tr>\n",
       "    <tr>\n",
       "      <th>mean</th>\n",
       "      <td>80.709375</td>\n",
       "      <td>0.056254</td>\n",
       "    </tr>\n",
       "    <tr>\n",
       "      <th>std</th>\n",
       "      <td>3.460501</td>\n",
       "      <td>1.353148</td>\n",
       "    </tr>\n",
       "    <tr>\n",
       "      <th>min</th>\n",
       "      <td>73.600000</td>\n",
       "      <td>-3.324819</td>\n",
       "    </tr>\n",
       "    <tr>\n",
       "      <th>25%</th>\n",
       "      <td>78.600000</td>\n",
       "      <td>0.184238</td>\n",
       "    </tr>\n",
       "    <tr>\n",
       "      <th>50%</th>\n",
       "      <td>81.550000</td>\n",
       "      <td>0.246496</td>\n",
       "    </tr>\n",
       "    <tr>\n",
       "      <th>75%</th>\n",
       "      <td>82.725000</td>\n",
       "      <td>0.344597</td>\n",
       "    </tr>\n",
       "    <tr>\n",
       "      <th>max</th>\n",
       "      <td>88.000000</td>\n",
       "      <td>3.042328</td>\n",
       "    </tr>\n",
       "  </tbody>\n",
       "</table>\n",
       "</div>"
      ],
      "text/plain": [
       "       Life expectancy  Rate growth life expectancy\n",
       "count        32.000000                    32.000000\n",
       "mean         80.709375                     0.056254\n",
       "std           3.460501                     1.353148\n",
       "min          73.600000                    -3.324819\n",
       "25%          78.600000                     0.184238\n",
       "50%          81.550000                     0.246496\n",
       "75%          82.725000                     0.344597\n",
       "max          88.000000                     3.042328"
      ]
     },
     "execution_count": 26,
     "metadata": {
      "tags": []
     },
     "output_type": "execute_result"
    }
   ],
   "source": [
    "developed_country[['Life expectancy','Rate growth life expectancy']].describe()"
   ]
  },
  {
   "cell_type": "markdown",
   "metadata": {
    "id": "bB1WQjyBVgHx"
   },
   "source": [
    "**Nhận xét:** Hầu hết các các quốc gia phát triển có tuổi thọ trung bình tương đối cao (khoảng 81 tuổi) và tốc độ tăng tuổi thọ mỗi năm ở mức độ vừa phải (khoảng 0.25%). Bởi vì tuổi thọ con người có mức hạn nhất định, nên khi đến độ tuổi trên 80, hiện tượng lão hóa ở người lớn bắt đầu có dấu hiệu thì tốc độ tăng tuổi thọ sẽ không còn được cao so với các độ tuổi thấp hơn."
   ]
  },
  {
   "cell_type": "code",
   "execution_count": null,
   "metadata": {
    "colab": {
     "base_uri": "https://localhost:8080/",
     "height": 142
    },
    "id": "5frqaImUUlt2",
    "outputId": "39848b76-bf67-4925-9315-a2aa3d3290f0"
   },
   "outputs": [
    {
     "data": {
      "text/html": [
       "<div>\n",
       "<style scoped>\n",
       "    .dataframe tbody tr th:only-of-type {\n",
       "        vertical-align: middle;\n",
       "    }\n",
       "\n",
       "    .dataframe tbody tr th {\n",
       "        vertical-align: top;\n",
       "    }\n",
       "\n",
       "    .dataframe thead th {\n",
       "        text-align: right;\n",
       "    }\n",
       "</style>\n",
       "<table border=\"1\" class=\"dataframe\">\n",
       "  <thead>\n",
       "    <tr style=\"text-align: right;\">\n",
       "      <th></th>\n",
       "      <th>Country</th>\n",
       "      <th>Rate growth life expectancy</th>\n",
       "      <th>Year</th>\n",
       "      <th>Life expectancy</th>\n",
       "      <th>Status</th>\n",
       "    </tr>\n",
       "  </thead>\n",
       "  <tbody>\n",
       "    <tr>\n",
       "      <th>0</th>\n",
       "      <td>Slovenia</td>\n",
       "      <td>1.751183</td>\n",
       "      <td>2015</td>\n",
       "      <td>88.0</td>\n",
       "      <td>Developed</td>\n",
       "    </tr>\n",
       "    <tr>\n",
       "      <th>1</th>\n",
       "      <td>Denmark</td>\n",
       "      <td>3.042328</td>\n",
       "      <td>2015</td>\n",
       "      <td>86.0</td>\n",
       "      <td>Developed</td>\n",
       "    </tr>\n",
       "    <tr>\n",
       "      <th>2</th>\n",
       "      <td>Cyprus</td>\n",
       "      <td>2.439387</td>\n",
       "      <td>2015</td>\n",
       "      <td>85.0</td>\n",
       "      <td>Developed</td>\n",
       "    </tr>\n",
       "  </tbody>\n",
       "</table>\n",
       "</div>"
      ],
      "text/plain": [
       "    Country  Rate growth life expectancy  Year  Life expectancy     Status\n",
       "0  Slovenia                     1.751183  2015             88.0  Developed\n",
       "1   Denmark                     3.042328  2015             86.0  Developed\n",
       "2    Cyprus                     2.439387  2015             85.0  Developed"
      ]
     },
     "execution_count": 27,
     "metadata": {
      "tags": []
     },
     "output_type": "execute_result"
    }
   ],
   "source": [
    "developed_country[developed_country['Rate growth life expectancy'] > 1]"
   ]
  },
  {
   "cell_type": "markdown",
   "metadata": {
    "id": "Z_1Hqo3BXRU4"
   },
   "source": [
    "**Nhận xét:** Có 1 số nước tốc độ tăng tuổi thọ rất cao điển hình như Slovenia, Đan Mạch (các nước Bắc Âu) và điều đáng chú ý là tuổi thọ trung bình của các nước đó là 88 tuổi - sống rất thọ. Nguyên nhân cả hai quốc gia đều đặt chính sách chăm sóc sức khỏe của mình dựa trên mô hình nhà nước phúc lợi toàn dân, với khả năng tiếp cận chăm sóc sức khỏe miễn phí và bình đẳng.\n",
    "\n",
    "Nguồn: https://www.ncbi.nlm.nih.gov/books/NBK62583/"
   ]
  },
  {
   "cell_type": "code",
   "execution_count": null,
   "metadata": {
    "colab": {
     "base_uri": "https://localhost:8080/",
     "height": 172
    },
    "id": "QnLd6oY8XJus",
    "outputId": "fc7ee03b-9129-4f57-b724-2eb274e79309"
   },
   "outputs": [
    {
     "data": {
      "text/html": [
       "<div>\n",
       "<style scoped>\n",
       "    .dataframe tbody tr th:only-of-type {\n",
       "        vertical-align: middle;\n",
       "    }\n",
       "\n",
       "    .dataframe tbody tr th {\n",
       "        vertical-align: top;\n",
       "    }\n",
       "\n",
       "    .dataframe thead th {\n",
       "        text-align: right;\n",
       "    }\n",
       "</style>\n",
       "<table border=\"1\" class=\"dataframe\">\n",
       "  <thead>\n",
       "    <tr style=\"text-align: right;\">\n",
       "      <th></th>\n",
       "      <th>Country</th>\n",
       "      <th>Rate growth life expectancy</th>\n",
       "      <th>Year</th>\n",
       "      <th>Life expectancy</th>\n",
       "      <th>Status</th>\n",
       "    </tr>\n",
       "  </thead>\n",
       "  <tbody>\n",
       "    <tr>\n",
       "      <th>23</th>\n",
       "      <td>United Kingdom of Great Britain and Northern I...</td>\n",
       "      <td>-3.324819</td>\n",
       "      <td>2015</td>\n",
       "      <td>81.2</td>\n",
       "      <td>Developed</td>\n",
       "    </tr>\n",
       "    <tr>\n",
       "      <th>24</th>\n",
       "      <td>Portugal</td>\n",
       "      <td>-2.694016</td>\n",
       "      <td>2015</td>\n",
       "      <td>81.1</td>\n",
       "      <td>Developed</td>\n",
       "    </tr>\n",
       "    <tr>\n",
       "      <th>26</th>\n",
       "      <td>Belgium</td>\n",
       "      <td>-3.288777</td>\n",
       "      <td>2015</td>\n",
       "      <td>81.1</td>\n",
       "      <td>Developed</td>\n",
       "    </tr>\n",
       "    <tr>\n",
       "      <th>27</th>\n",
       "      <td>Germany</td>\n",
       "      <td>-2.750196</td>\n",
       "      <td>2015</td>\n",
       "      <td>81.0</td>\n",
       "      <td>Developed</td>\n",
       "    </tr>\n",
       "  </tbody>\n",
       "</table>\n",
       "</div>"
      ],
      "text/plain": [
       "                                              Country  ...     Status\n",
       "23  United Kingdom of Great Britain and Northern I...  ...  Developed\n",
       "24                                           Portugal  ...  Developed\n",
       "26                                            Belgium  ...  Developed\n",
       "27                                            Germany  ...  Developed\n",
       "\n",
       "[4 rows x 5 columns]"
      ]
     },
     "execution_count": 28,
     "metadata": {
      "tags": []
     },
     "output_type": "execute_result"
    }
   ],
   "source": [
    "developed_country[developed_country['Rate growth life expectancy'] < -2]"
   ]
  },
  {
   "cell_type": "markdown",
   "metadata": {
    "id": "kxC4fjXxYHe5"
   },
   "source": [
    "**Nhận xét:** Có 1 số nước bị giảm tuổi thọ tương đối lớn như Bồ Đào Nha, Bỉ, Đức, Anh (tập trung ở Đông Âu). Nguyên nhân trong khoảng thời gian 2012-2015, các nước này bị một số nguồn lây nhiễm Non-Communicable Diseases, nên tỉ lệ tử vong ngày càng nhiều và dẫn đến tuổi thọ trung bình bị giảm xuống."
   ]
  },
  {
   "cell_type": "markdown",
   "metadata": {
    "id": "Ds2CM36KY9YA"
   },
   "source": [
    "### Với các quốc gia đang phát triển phát triển"
   ]
  },
  {
   "cell_type": "code",
   "execution_count": null,
   "metadata": {
    "colab": {
     "base_uri": "https://localhost:8080/",
     "height": 203
    },
    "id": "U5l6E0ChYB-o",
    "outputId": "5bc0a422-3761-412f-d5ba-896682457dc1"
   },
   "outputs": [
    {
     "data": {
      "text/html": [
       "<div>\n",
       "<style scoped>\n",
       "    .dataframe tbody tr th:only-of-type {\n",
       "        vertical-align: middle;\n",
       "    }\n",
       "\n",
       "    .dataframe tbody tr th {\n",
       "        vertical-align: top;\n",
       "    }\n",
       "\n",
       "    .dataframe thead th {\n",
       "        text-align: right;\n",
       "    }\n",
       "</style>\n",
       "<table border=\"1\" class=\"dataframe\">\n",
       "  <thead>\n",
       "    <tr style=\"text-align: right;\">\n",
       "      <th></th>\n",
       "      <th>Country</th>\n",
       "      <th>Rate growth life expectancy</th>\n",
       "      <th>Year</th>\n",
       "      <th>Life expectancy</th>\n",
       "      <th>Status</th>\n",
       "    </tr>\n",
       "  </thead>\n",
       "  <tbody>\n",
       "    <tr>\n",
       "      <th>3</th>\n",
       "      <td>Chile</td>\n",
       "      <td>2.439387</td>\n",
       "      <td>2015</td>\n",
       "      <td>85.0</td>\n",
       "      <td>Developing</td>\n",
       "    </tr>\n",
       "    <tr>\n",
       "      <th>11</th>\n",
       "      <td>Israel</td>\n",
       "      <td>0.243383</td>\n",
       "      <td>2015</td>\n",
       "      <td>82.5</td>\n",
       "      <td>Developing</td>\n",
       "    </tr>\n",
       "    <tr>\n",
       "      <th>12</th>\n",
       "      <td>France</td>\n",
       "      <td>0.243606</td>\n",
       "      <td>2015</td>\n",
       "      <td>82.4</td>\n",
       "      <td>Developing</td>\n",
       "    </tr>\n",
       "    <tr>\n",
       "      <th>14</th>\n",
       "      <td>Republic of Korea</td>\n",
       "      <td>0.366525</td>\n",
       "      <td>2015</td>\n",
       "      <td>82.3</td>\n",
       "      <td>Developing</td>\n",
       "    </tr>\n",
       "    <tr>\n",
       "      <th>15</th>\n",
       "      <td>Canada</td>\n",
       "      <td>0.244201</td>\n",
       "      <td>2015</td>\n",
       "      <td>82.2</td>\n",
       "      <td>Developing</td>\n",
       "    </tr>\n",
       "  </tbody>\n",
       "</table>\n",
       "</div>"
      ],
      "text/plain": [
       "              Country  Rate growth life expectancy  ...  Life expectancy      Status\n",
       "3               Chile                     2.439387  ...             85.0  Developing\n",
       "11             Israel                     0.243383  ...             82.5  Developing\n",
       "12             France                     0.243606  ...             82.4  Developing\n",
       "14  Republic of Korea                     0.366525  ...             82.3  Developing\n",
       "15             Canada                     0.244201  ...             82.2  Developing\n",
       "\n",
       "[5 rows x 5 columns]"
      ]
     },
     "execution_count": 29,
     "metadata": {
      "tags": []
     },
     "output_type": "execute_result"
    }
   ],
   "source": [
    "developing_country = country_rate_growth_df[country_rate_growth_df['Status'] == 'Developing']\n",
    "developing_country.head()"
   ]
  },
  {
   "cell_type": "code",
   "execution_count": null,
   "metadata": {
    "colab": {
     "base_uri": "https://localhost:8080/",
     "height": 295
    },
    "id": "fdKZlJ58ZD8M",
    "outputId": "c28d1f97-f5cc-4a7a-88de-fe302551d2d9"
   },
   "outputs": [
    {
     "data": {
      "text/html": [
       "<div>\n",
       "<style scoped>\n",
       "    .dataframe tbody tr th:only-of-type {\n",
       "        vertical-align: middle;\n",
       "    }\n",
       "\n",
       "    .dataframe tbody tr th {\n",
       "        vertical-align: top;\n",
       "    }\n",
       "\n",
       "    .dataframe thead th {\n",
       "        text-align: right;\n",
       "    }\n",
       "</style>\n",
       "<table border=\"1\" class=\"dataframe\">\n",
       "  <thead>\n",
       "    <tr style=\"text-align: right;\">\n",
       "      <th></th>\n",
       "      <th>Life expectancy</th>\n",
       "      <th>Rate growth life expectancy</th>\n",
       "    </tr>\n",
       "  </thead>\n",
       "  <tbody>\n",
       "    <tr>\n",
       "      <th>count</th>\n",
       "      <td>151.000000</td>\n",
       "      <td>151.000000</td>\n",
       "    </tr>\n",
       "    <tr>\n",
       "      <th>mean</th>\n",
       "      <td>69.690066</td>\n",
       "      <td>0.385948</td>\n",
       "    </tr>\n",
       "    <tr>\n",
       "      <th>std</th>\n",
       "      <td>7.498282</td>\n",
       "      <td>1.340330</td>\n",
       "    </tr>\n",
       "    <tr>\n",
       "      <th>min</th>\n",
       "      <td>51.000000</td>\n",
       "      <td>-5.181513</td>\n",
       "    </tr>\n",
       "    <tr>\n",
       "      <th>25%</th>\n",
       "      <td>64.600000</td>\n",
       "      <td>0.199159</td>\n",
       "    </tr>\n",
       "    <tr>\n",
       "      <th>50%</th>\n",
       "      <td>71.600000</td>\n",
       "      <td>0.302573</td>\n",
       "    </tr>\n",
       "    <tr>\n",
       "      <th>75%</th>\n",
       "      <td>75.500000</td>\n",
       "      <td>0.635321</td>\n",
       "    </tr>\n",
       "    <tr>\n",
       "      <th>max</th>\n",
       "      <td>85.000000</td>\n",
       "      <td>7.622321</td>\n",
       "    </tr>\n",
       "  </tbody>\n",
       "</table>\n",
       "</div>"
      ],
      "text/plain": [
       "       Life expectancy  Rate growth life expectancy\n",
       "count       151.000000                   151.000000\n",
       "mean         69.690066                     0.385948\n",
       "std           7.498282                     1.340330\n",
       "min          51.000000                    -5.181513\n",
       "25%          64.600000                     0.199159\n",
       "50%          71.600000                     0.302573\n",
       "75%          75.500000                     0.635321\n",
       "max          85.000000                     7.622321"
      ]
     },
     "execution_count": 30,
     "metadata": {
      "tags": []
     },
     "output_type": "execute_result"
    }
   ],
   "source": [
    "developing_country[['Life expectancy','Rate growth life expectancy']].describe()"
   ]
  },
  {
   "cell_type": "markdown",
   "metadata": {
    "id": "BAcJDeQfZiSY"
   },
   "source": [
    "**Nhận xét:** \n",
    "- Các các quốc gia đang phát triển có tuổi thọ trung bình ở mức độ trung bình (khoảng 71 tuổi) và tốc độ tăng tuổi thọ mỗi năm ở mức độ vừa phải (khoảng 0.3%).\n",
    "- Tuổi thọ trung bình có 1 số nước chỉ có 51 tuổi - tuổi thọ rất đáng báo động. \n",
    "\n",
    "==> Chắc chắn có nhiều nguyên nhân tuổi thọ trung bình không được cao như các nước phát triển bao gồm điều kiện ăn uống, chế độ sinh hoạt, nghỉ ngơi chưa được khoa học và hợp lý"
   ]
  },
  {
   "cell_type": "code",
   "execution_count": null,
   "metadata": {
    "colab": {
     "base_uri": "https://localhost:8080/",
     "height": 234
    },
    "id": "RiAJgwB_Z_pK",
    "outputId": "fe22405d-511b-4efd-e0ca-a1e3ec6218a5"
   },
   "outputs": [
    {
     "data": {
      "text/html": [
       "<div>\n",
       "<style scoped>\n",
       "    .dataframe tbody tr th:only-of-type {\n",
       "        vertical-align: middle;\n",
       "    }\n",
       "\n",
       "    .dataframe tbody tr th {\n",
       "        vertical-align: top;\n",
       "    }\n",
       "\n",
       "    .dataframe thead th {\n",
       "        text-align: right;\n",
       "    }\n",
       "</style>\n",
       "<table border=\"1\" class=\"dataframe\">\n",
       "  <thead>\n",
       "    <tr style=\"text-align: right;\">\n",
       "      <th></th>\n",
       "      <th>Country</th>\n",
       "      <th>Rate growth life expectancy</th>\n",
       "      <th>Year</th>\n",
       "      <th>Life expectancy</th>\n",
       "      <th>Status</th>\n",
       "    </tr>\n",
       "  </thead>\n",
       "  <tbody>\n",
       "    <tr>\n",
       "      <th>44</th>\n",
       "      <td>Bolivia (Plurinational State of)</td>\n",
       "      <td>4.139703</td>\n",
       "      <td>2015</td>\n",
       "      <td>77.0</td>\n",
       "      <td>Developing</td>\n",
       "    </tr>\n",
       "    <tr>\n",
       "      <th>57</th>\n",
       "      <td>Democratic People's Republic of Korea</td>\n",
       "      <td>3.463245</td>\n",
       "      <td>2015</td>\n",
       "      <td>76.0</td>\n",
       "      <td>Developing</td>\n",
       "    </tr>\n",
       "    <tr>\n",
       "      <th>71</th>\n",
       "      <td>Russian Federation</td>\n",
       "      <td>3.512720</td>\n",
       "      <td>2015</td>\n",
       "      <td>75.0</td>\n",
       "      <td>Developing</td>\n",
       "    </tr>\n",
       "    <tr>\n",
       "      <th>127</th>\n",
       "      <td>Zimbabwe</td>\n",
       "      <td>7.622321</td>\n",
       "      <td>2015</td>\n",
       "      <td>67.0</td>\n",
       "      <td>Developing</td>\n",
       "    </tr>\n",
       "    <tr>\n",
       "      <th>141</th>\n",
       "      <td>Afghanistan</td>\n",
       "      <td>4.257095</td>\n",
       "      <td>2015</td>\n",
       "      <td>65.0</td>\n",
       "      <td>Developing</td>\n",
       "    </tr>\n",
       "    <tr>\n",
       "      <th>180</th>\n",
       "      <td>Central African Republic</td>\n",
       "      <td>3.374853</td>\n",
       "      <td>2015</td>\n",
       "      <td>52.5</td>\n",
       "      <td>Developing</td>\n",
       "    </tr>\n",
       "  </tbody>\n",
       "</table>\n",
       "</div>"
      ],
      "text/plain": [
       "                                   Country  ...      Status\n",
       "44        Bolivia (Plurinational State of)  ...  Developing\n",
       "57   Democratic People's Republic of Korea  ...  Developing\n",
       "71                      Russian Federation  ...  Developing\n",
       "127                               Zimbabwe  ...  Developing\n",
       "141                            Afghanistan  ...  Developing\n",
       "180               Central African Republic  ...  Developing\n",
       "\n",
       "[6 rows x 5 columns]"
      ]
     },
     "execution_count": 31,
     "metadata": {
      "tags": []
     },
     "output_type": "execute_result"
    }
   ],
   "source": [
    "developing_country[developing_country['Rate growth life expectancy'] > 3]"
   ]
  },
  {
   "cell_type": "markdown",
   "metadata": {
    "id": "hEyHDK-la8VP"
   },
   "source": [
    "**Nhận xét:** Có 1 số quốc gia bắt đầu chú trọng hơn đối với việc chăm sóc sức khỏe như Bolivia, Triều Tiên, Nga, ... Thậm chí, còn có 1 số nước tốc độ tăng tuổi thọ lớn hơn 4% mỗi năm. Đó là 1 điều cực kì tốt và cần phải phát huy hơn nữa. "
   ]
  },
  {
   "cell_type": "code",
   "execution_count": null,
   "metadata": {
    "colab": {
     "base_uri": "https://localhost:8080/",
     "height": 295
    },
    "id": "OKY1rIU4a7gP",
    "outputId": "9b5123c2-2849-4a8f-a6a5-41c933cd0c9b"
   },
   "outputs": [
    {
     "data": {
      "text/html": [
       "<div>\n",
       "<style scoped>\n",
       "    .dataframe tbody tr th:only-of-type {\n",
       "        vertical-align: middle;\n",
       "    }\n",
       "\n",
       "    .dataframe tbody tr th {\n",
       "        vertical-align: top;\n",
       "    }\n",
       "\n",
       "    .dataframe thead th {\n",
       "        text-align: right;\n",
       "    }\n",
       "</style>\n",
       "<table border=\"1\" class=\"dataframe\">\n",
       "  <thead>\n",
       "    <tr style=\"text-align: right;\">\n",
       "      <th></th>\n",
       "      <th>Country</th>\n",
       "      <th>Rate growth life expectancy</th>\n",
       "      <th>Year</th>\n",
       "      <th>Life expectancy</th>\n",
       "      <th>Status</th>\n",
       "    </tr>\n",
       "  </thead>\n",
       "  <tbody>\n",
       "    <tr>\n",
       "      <th>25</th>\n",
       "      <td>Finland</td>\n",
       "      <td>-3.288777</td>\n",
       "      <td>2015</td>\n",
       "      <td>81.1</td>\n",
       "      <td>Developing</td>\n",
       "    </tr>\n",
       "    <tr>\n",
       "      <th>28</th>\n",
       "      <td>Greece</td>\n",
       "      <td>-2.814482</td>\n",
       "      <td>2015</td>\n",
       "      <td>81.0</td>\n",
       "      <td>Developing</td>\n",
       "    </tr>\n",
       "    <tr>\n",
       "      <th>110</th>\n",
       "      <td>Kyrgyzstan</td>\n",
       "      <td>-3.773726</td>\n",
       "      <td>2015</td>\n",
       "      <td>71.1</td>\n",
       "      <td>Developing</td>\n",
       "    </tr>\n",
       "    <tr>\n",
       "      <th>153</th>\n",
       "      <td>South Africa</td>\n",
       "      <td>-4.346657</td>\n",
       "      <td>2015</td>\n",
       "      <td>62.9</td>\n",
       "      <td>Developing</td>\n",
       "    </tr>\n",
       "    <tr>\n",
       "      <th>155</th>\n",
       "      <td>Uganda</td>\n",
       "      <td>-3.454071</td>\n",
       "      <td>2015</td>\n",
       "      <td>62.3</td>\n",
       "      <td>Developing</td>\n",
       "    </tr>\n",
       "    <tr>\n",
       "      <th>157</th>\n",
       "      <td>Niger</td>\n",
       "      <td>-5.181513</td>\n",
       "      <td>2015</td>\n",
       "      <td>61.8</td>\n",
       "      <td>Developing</td>\n",
       "    </tr>\n",
       "    <tr>\n",
       "      <th>160</th>\n",
       "      <td>Gambia</td>\n",
       "      <td>-3.558378</td>\n",
       "      <td>2015</td>\n",
       "      <td>61.1</td>\n",
       "      <td>Developing</td>\n",
       "    </tr>\n",
       "    <tr>\n",
       "      <th>182</th>\n",
       "      <td>Sierra Leone</td>\n",
       "      <td>-2.448410</td>\n",
       "      <td>2015</td>\n",
       "      <td>51.0</td>\n",
       "      <td>Developing</td>\n",
       "    </tr>\n",
       "  </tbody>\n",
       "</table>\n",
       "</div>"
      ],
      "text/plain": [
       "          Country  Rate growth life expectancy  ...  Life expectancy      Status\n",
       "25        Finland                    -3.288777  ...             81.1  Developing\n",
       "28         Greece                    -2.814482  ...             81.0  Developing\n",
       "110    Kyrgyzstan                    -3.773726  ...             71.1  Developing\n",
       "153  South Africa                    -4.346657  ...             62.9  Developing\n",
       "155        Uganda                    -3.454071  ...             62.3  Developing\n",
       "157         Niger                    -5.181513  ...             61.8  Developing\n",
       "160        Gambia                    -3.558378  ...             61.1  Developing\n",
       "182  Sierra Leone                    -2.448410  ...             51.0  Developing\n",
       "\n",
       "[8 rows x 5 columns]"
      ]
     },
     "execution_count": 32,
     "metadata": {
      "tags": []
     },
     "output_type": "execute_result"
    }
   ],
   "source": [
    "developing_country[developing_country['Rate growth life expectancy'] < -2]"
   ]
  },
  {
   "cell_type": "markdown",
   "metadata": {
    "id": "i02ANCvRb0oY"
   },
   "source": [
    "**Nhận xét:** Ngược lại, 1 số quốc gia đang có mức độ giảm tuổi thọ đáng báo động như Niger, Gambia, Nam Phi, (đa số tập trung hầu hết ở các nước Nam Phi). Một trong những vấn đề sức khỏe lớn nhất mà châu Phi phải đối mặt là đại dịch HIV / AIDS. HIV / AIDS đã cướp đi sinh mạng của nhiều người ở châu Phi, đó là lý do chính khiến tuổi thọ trung bình thấp đến vậy. Việc chữa trị những căn bệnh này rất khó khăn vào thời kỳ cao điểm của dịch bệnh, rất nhiều người châu Phi đã không may qua đời.\n",
    "\n",
    "Nguồn: https://borgenproject.org/life-expectancy-in-africa-improves/"
   ]
  },
  {
   "cell_type": "markdown",
   "metadata": {
    "id": "QwiigX5LcS1P"
   },
   "source": [
    "### Tìm hiểu đất nước thân yêu của chúng ta \"Việt Nam\""
   ]
  },
  {
   "cell_type": "code",
   "execution_count": null,
   "metadata": {
    "colab": {
     "base_uri": "https://localhost:8080/",
     "height": 80
    },
    "id": "5AQzGY18ZPEr",
    "outputId": "0f1f3135-5ce3-49ac-c483-2b45134177b1"
   },
   "outputs": [
    {
     "data": {
      "text/html": [
       "<div>\n",
       "<style scoped>\n",
       "    .dataframe tbody tr th:only-of-type {\n",
       "        vertical-align: middle;\n",
       "    }\n",
       "\n",
       "    .dataframe tbody tr th {\n",
       "        vertical-align: top;\n",
       "    }\n",
       "\n",
       "    .dataframe thead th {\n",
       "        text-align: right;\n",
       "    }\n",
       "</style>\n",
       "<table border=\"1\" class=\"dataframe\">\n",
       "  <thead>\n",
       "    <tr style=\"text-align: right;\">\n",
       "      <th></th>\n",
       "      <th>Country</th>\n",
       "      <th>Rate growth life expectancy</th>\n",
       "      <th>Year</th>\n",
       "      <th>Life expectancy</th>\n",
       "      <th>Status</th>\n",
       "    </tr>\n",
       "  </thead>\n",
       "  <tbody>\n",
       "    <tr>\n",
       "      <th>58</th>\n",
       "      <td>Viet Nam</td>\n",
       "      <td>0.197977</td>\n",
       "      <td>2015</td>\n",
       "      <td>76.0</td>\n",
       "      <td>Developing</td>\n",
       "    </tr>\n",
       "  </tbody>\n",
       "</table>\n",
       "</div>"
      ],
      "text/plain": [
       "     Country  Rate growth life expectancy  Year  Life expectancy      Status\n",
       "58  Viet Nam                     0.197977  2015             76.0  Developing"
      ]
     },
     "execution_count": 33,
     "metadata": {
      "tags": []
     },
     "output_type": "execute_result"
    }
   ],
   "source": [
    "developing_country[developing_country['Country'] == 'Viet Nam']"
   ]
  },
  {
   "cell_type": "markdown",
   "metadata": {
    "id": "Nyt7EW7UcyYx"
   },
   "source": [
    "**Nhận xét:** Đất nước chúng ta có tuổi thọ trung bình cao trong các đất nước đang phát triển và cao hơn so với tuổi thọ trung bình của toàn thế thế. Ngoài ra, tốc độ tăng trưởng mỗi năm khá tương đồng so với các quốc gia phát triển. Điều đó cho thấy nhà nước đã có những chính sách, giải pháp quan tâm đến sức khỏe của người dân.\n",
    "\n",
    "`Thật tuyệt vời :)`"
   ]
  },
  {
   "cell_type": "markdown",
   "metadata": {
    "id": "jX2DLolugrfe"
   },
   "source": [
    "### Dự báo tuổi thọ trung bình của các nước trong năm tiếp theo"
   ]
  },
  {
   "cell_type": "code",
   "execution_count": null,
   "metadata": {
    "id": "wea_F7_Lef1j"
   },
   "outputs": [],
   "source": [
    "forecast_life_expectancy = country_rate_growth_df.copy()\n",
    "a = forecast_life_expectancy['Rate growth life expectancy'] * forecast_life_expectancy['Life expectancy'] / 100\n",
    "forecast_life_expectancy['Forecaste life expectancy 2016'] = a + forecast_life_expectancy['Life expectancy']"
   ]
  },
  {
   "cell_type": "code",
   "execution_count": null,
   "metadata": {
    "colab": {
     "base_uri": "https://localhost:8080/",
     "height": 417
    },
    "id": "iZatLnn5gTiP",
    "outputId": "45b0ba23-8dc8-440f-9475-9519f0dec6a2"
   },
   "outputs": [
    {
     "data": {
      "text/html": [
       "<div>\n",
       "<style scoped>\n",
       "    .dataframe tbody tr th:only-of-type {\n",
       "        vertical-align: middle;\n",
       "    }\n",
       "\n",
       "    .dataframe tbody tr th {\n",
       "        vertical-align: top;\n",
       "    }\n",
       "\n",
       "    .dataframe thead th {\n",
       "        text-align: right;\n",
       "    }\n",
       "</style>\n",
       "<table border=\"1\" class=\"dataframe\">\n",
       "  <thead>\n",
       "    <tr style=\"text-align: right;\">\n",
       "      <th></th>\n",
       "      <th>Country</th>\n",
       "      <th>Rate growth life expectancy</th>\n",
       "      <th>Year</th>\n",
       "      <th>Life expectancy</th>\n",
       "      <th>Status</th>\n",
       "      <th>Forecaste life expectancy 2016</th>\n",
       "    </tr>\n",
       "  </thead>\n",
       "  <tbody>\n",
       "    <tr>\n",
       "      <th>0</th>\n",
       "      <td>Slovenia</td>\n",
       "      <td>1.751183</td>\n",
       "      <td>2015</td>\n",
       "      <td>88.0</td>\n",
       "      <td>Developed</td>\n",
       "      <td>89.541041</td>\n",
       "    </tr>\n",
       "    <tr>\n",
       "      <th>1</th>\n",
       "      <td>Denmark</td>\n",
       "      <td>3.042328</td>\n",
       "      <td>2015</td>\n",
       "      <td>86.0</td>\n",
       "      <td>Developed</td>\n",
       "      <td>88.616402</td>\n",
       "    </tr>\n",
       "    <tr>\n",
       "      <th>2</th>\n",
       "      <td>Cyprus</td>\n",
       "      <td>2.439387</td>\n",
       "      <td>2015</td>\n",
       "      <td>85.0</td>\n",
       "      <td>Developed</td>\n",
       "      <td>87.073479</td>\n",
       "    </tr>\n",
       "    <tr>\n",
       "      <th>3</th>\n",
       "      <td>Chile</td>\n",
       "      <td>2.439387</td>\n",
       "      <td>2015</td>\n",
       "      <td>85.0</td>\n",
       "      <td>Developing</td>\n",
       "      <td>87.073479</td>\n",
       "    </tr>\n",
       "    <tr>\n",
       "      <th>4</th>\n",
       "      <td>Japan</td>\n",
       "      <td>0.119760</td>\n",
       "      <td>2015</td>\n",
       "      <td>83.7</td>\n",
       "      <td>Developed</td>\n",
       "      <td>83.800240</td>\n",
       "    </tr>\n",
       "    <tr>\n",
       "      <th>...</th>\n",
       "      <td>...</td>\n",
       "      <td>...</td>\n",
       "      <td>...</td>\n",
       "      <td>...</td>\n",
       "      <td>...</td>\n",
       "      <td>...</td>\n",
       "    </tr>\n",
       "    <tr>\n",
       "      <th>178</th>\n",
       "      <td>Côte d'Ivoire</td>\n",
       "      <td>0.951496</td>\n",
       "      <td>2015</td>\n",
       "      <td>53.3</td>\n",
       "      <td>Developing</td>\n",
       "      <td>53.807148</td>\n",
       "    </tr>\n",
       "    <tr>\n",
       "      <th>179</th>\n",
       "      <td>Chad</td>\n",
       "      <td>0.858427</td>\n",
       "      <td>2015</td>\n",
       "      <td>53.1</td>\n",
       "      <td>Developing</td>\n",
       "      <td>53.555825</td>\n",
       "    </tr>\n",
       "    <tr>\n",
       "      <th>180</th>\n",
       "      <td>Central African Republic</td>\n",
       "      <td>3.374853</td>\n",
       "      <td>2015</td>\n",
       "      <td>52.5</td>\n",
       "      <td>Developing</td>\n",
       "      <td>54.271798</td>\n",
       "    </tr>\n",
       "    <tr>\n",
       "      <th>181</th>\n",
       "      <td>Angola</td>\n",
       "      <td>1.264067</td>\n",
       "      <td>2015</td>\n",
       "      <td>52.4</td>\n",
       "      <td>Developing</td>\n",
       "      <td>53.062371</td>\n",
       "    </tr>\n",
       "    <tr>\n",
       "      <th>182</th>\n",
       "      <td>Sierra Leone</td>\n",
       "      <td>-2.448410</td>\n",
       "      <td>2015</td>\n",
       "      <td>51.0</td>\n",
       "      <td>Developing</td>\n",
       "      <td>49.751311</td>\n",
       "    </tr>\n",
       "  </tbody>\n",
       "</table>\n",
       "<p>183 rows × 6 columns</p>\n",
       "</div>"
      ],
      "text/plain": [
       "                      Country  ...  Forecaste life expectancy 2016\n",
       "0                    Slovenia  ...                       89.541041\n",
       "1                     Denmark  ...                       88.616402\n",
       "2                      Cyprus  ...                       87.073479\n",
       "3                       Chile  ...                       87.073479\n",
       "4                       Japan  ...                       83.800240\n",
       "..                        ...  ...                             ...\n",
       "178             Côte d'Ivoire  ...                       53.807148\n",
       "179                      Chad  ...                       53.555825\n",
       "180  Central African Republic  ...                       54.271798\n",
       "181                    Angola  ...                       53.062371\n",
       "182              Sierra Leone  ...                       49.751311\n",
       "\n",
       "[183 rows x 6 columns]"
      ]
     },
     "execution_count": 53,
     "metadata": {
      "tags": []
     },
     "output_type": "execute_result"
    }
   ],
   "source": [
    "forecast_life_expectancy"
   ]
  },
  {
   "cell_type": "markdown",
   "metadata": {
    "id": "nKXaI0uOXtB5"
   },
   "source": [
    "## Insight tiếp"
   ]
  },
  {
   "cell_type": "code",
   "execution_count": null,
   "metadata": {
    "id": "92FkQniyXxvg"
   },
   "outputs": [],
   "source": [
    "a = life_expectancy_df.groupby('Country').agg({'Alcohol':'mean','Life expectancy':'mean'})"
   ]
  },
  {
   "cell_type": "code",
   "execution_count": null,
   "metadata": {
    "colab": {
     "base_uri": "https://localhost:8080/",
     "height": 442
    },
    "id": "KO835i5uX3bp",
    "outputId": "a2fe17d1-faab-4b80-f730-1f9ad14e8dfb"
   },
   "outputs": [
    {
     "data": {
      "image/png": "[encoded data removed]",
      "text/plain": [
       "<Figure size 864x504 with 1 Axes>"
      ]
     },
     "metadata": {
      "needs_background": "light",
      "tags": []
     },
     "output_type": "display_data"
    }
   ],
   "source": [
    "plt.figure(figsize=(12,7))\n",
    "sns.scatterplot(x=life_expectancy_df['Alcohol'],y=life_expectancy_df['Life expectancy'],hue=life_expectancy_df['Status'])\n",
    "plt.legend()\n",
    "plt.show()"
   ]
  },
  {
   "cell_type": "code",
   "execution_count": null,
   "metadata": {
    "colab": {
     "base_uri": "https://localhost:8080/"
    },
    "id": "A76EE-Upbeas",
    "outputId": "d9d3179f-9871-4022-8059-5d1ee0643501"
   },
   "outputs": [
    {
     "data": {
      "text/plain": [
       "Alcohol             7.040667\n",
       "Life expectancy    82.537500\n",
       "Name: Japan, dtype: float64"
      ]
     },
     "execution_count": 40,
     "metadata": {
      "tags": []
     },
     "output_type": "execute_result"
    }
   ],
   "source": [
    "a.loc['Japan',:]"
   ]
  },
  {
   "cell_type": "code",
   "execution_count": null,
   "metadata": {
    "id": "jUxcMzcbbiaK"
   },
   "outputs": [],
   "source": []
  }
 ],
 "metadata": {
  "colab": {
   "collapsed_sections": [],
   "name": "Untitled0.ipynb",
   "provenance": [],
   "toc_visible": true
  },
  "kernelspec": {
   "display_name": "Python 3",
   "language": "python",
   "name": "python3"
  },
  "language_info": {
   "codemirror_mode": {
    "name": "ipython",
    "version": 3
   },
   "file_extension": ".py",
   "mimetype": "text/x-python",
   "name": "python",
   "nbconvert_exporter": "python",
   "pygments_lexer": "ipython3",
   "version": "3.8.8"
  },
  "toc-autonumbering": false
 },
 "nbformat": 4,
 "nbformat_minor": 4
}
