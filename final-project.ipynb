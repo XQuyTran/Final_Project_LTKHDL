{
 "cells": [
  {
   "cell_type": "markdown",
   "metadata": {},
   "source": [
    "# Môn: Lập trình cho Khoa học dữ liệu - 18_21\n",
    "# Đồ án cuối kỳ\n",
    "\n",
    "**Nhóm 17 - Thông tin thành viên:**\n",
    "- Trần Hữu Chí Bảo - 18120288\n",
    "- Trần Xuân Quý - 18120231"
   ]
  },
  {
   "cell_type": "markdown",
   "metadata": {
    "id": "S0_3-Jk9sHnE"
   },
   "source": [
    "# 1. Thu thập dữ liệu\n",
    "\n",
    "Trong đồ án cuối kỳ, nhóm chúng em sử dụng tập dữ liệu về chủ đề ô nhiễm không khí và ảnh hưởng đến sức khỏa con người và nền kinh tế của các khu vực, quốc gia và vùng lãnh thổ trên thế giới. Tập dữ liệu này thuộc nhánh `Social Equity - Pollution`, là một phần của bộ dữ liệu được [tổng hợp và đăng tải trên trang Kaggle](https://www.kaggle.com/seraphimstreets/environmentequity-starterpack?fbclid=IwAR1ryfmgNEBSCcSOrLfRN5_Sk1touu1WuQnShJOJM645Baq8eo5VaD-7kJw) bởi người dùng **seraphimstreets**. Theo mô tả thì bộ dữ liệu này được cấp giấy phép `Creative Common Public Domain - CC0` cho phép sử dụng tập dữ liệu với mục đích tùy ý, không phải chịu giới hạn nào. Dữ liệu được tổng hợp từ những tập dữ liệu có sẵn cũng như thu thập và trích xuất từ các cơ quan, tổ chức và trang web:\n",
    "- Tổ chức Hợp tác và Phát triển Kinh tế - OECD.\n",
    "- Our World in Data.\n",
    "- ClimateWatch.\n",
    "- Corporate Knights\n",
    "- ...\n",
    "\n",
    "Tập dữ liệu có tổng cộng 6 tập tin bao gồm:\n",
    "- Health and Deaths\n",
    "    - Deaths by Particulate Matter Air Pollution vs PM25 by country.csv: Thể hiện số người chết mỗi năm do ô nhiễm không khí bởi hạt bụi mịn PM2.5 và ô nhiễm không khí nói chung ở các quốc gia\n",
    "    - GDP vs Pollution rates by country.csv: So sánh mức độ ô nhiễm và GDP ở các quốc gia.\n",
    "    - Statistical costs of premature deaths due to environmental risks by country.csv: thống kê số người chưa đến tuổi trưởng thành chết do vấn đề môi trường qua thời gian ở các quốc gia.\n",
    "- CO2 emissions by country.csv: Thống kê lượng phát thải CO<sub>2</sub> của các quốc gia qua các năm.\n",
    "- Pollution emissions by region.csv: Thống kê lượng phát thải ô nhiễm không khí ở cấp quốc gia và khu đô thị lớn.\n",
    "- Pollution Rate vs GDP by country.csv: So sánh GPD và mức độ gây ô nhiễm ở các quốc gia.\n",
    "\n",
    "Ngoài ra người đăng tải tập dữ liệu cũng cho biết thêm người này thấy các tập dữ liệu này là rất hữu ích cho những đội tham gia cuộc thi [CDP - Unlocking Climate Solutions](https://www.kaggle.com/c/cdp-unlocking-climate-solutions) trên Kaggle, một cuộc thi tập trung vào việc phân tích dữ liệu để đưa ra giải pháp cho vấn đề được đặt ra."
   ]
  },
  {
   "cell_type": "markdown",
   "metadata": {},
   "source": [
    "# 2. Import các thư viện cần thiết"
   ]
  },
  {
   "cell_type": "code",
   "execution_count": 1,
   "metadata": {
    "id": "jv9u1QG1sB9_"
   },
   "outputs": [],
   "source": [
    "import pandas as pd\n",
    "import numpy as np\n",
    "import re\n",
    "import matplotlib.pyplot as plt\n",
    "import seaborn as sns\n",
    "# import warnings\n",
    "# warnings.filterwarnings(\"ignore\")"
   ]
  },
  {
   "cell_type": "markdown",
   "metadata": {
    "id": "EmW4I8ZEtq35"
   },
   "source": [
    "# 3. Khám phá dữ liệu"
   ]
  },
  {
   "cell_type": "markdown",
   "metadata": {
    "id": "CjI189XgtzVN"
   },
   "source": [
    "## Dữ liệu có bao nhiêu dòng và bao nhiêu cột?"
   ]
  },
  {
   "cell_type": "markdown",
   "metadata": {
    "id": "_BAlBpuyuUFC"
   },
   "source": [
    "## Mỗi dòng có ý nghĩa gì? Có vấn đề các dòng có ý nghĩa khác nhau không?"
   ]
  },
  {
   "cell_type": "markdown",
   "metadata": {
    "id": "F8GMDUuowAcw"
   },
   "source": [
    "## Dữ liệu có các dòng bị lặp không?"
   ]
  },
  {
   "cell_type": "markdown",
   "metadata": {
    "id": "mEpknXpPvtXH"
   },
   "source": [
    "## Mỗi cột có ý nghĩa gì?"
   ]
  },
  {
   "cell_type": "markdown",
   "metadata": {
    "id": "A3mB0sFs0psw"
   },
   "source": [
    "## Mỗi cột hiện đang có kiểu dữ liệu gì?"
   ]
  },
  {
   "cell_type": "markdown",
   "metadata": {
    "id": "98LFLMU-wzq7"
   },
   "source": [
    "## Sự phân bố của dữ liệu các cột dạng categorical"
   ]
  },
  {
   "cell_type": "markdown",
   "metadata": {
    "id": "xyc27RZE8B2O"
   },
   "source": [
    "### Chuyển cột tên cột"
   ]
  },
  {
   "cell_type": "markdown",
   "metadata": {
    "id": "GeRfU7Fg-orZ"
   },
   "source": [
    "### Với mỗi cột có kiểu dữ liệu dạng categorical, các giá trị được phân bố như thế nào?"
   ]
  },
  {
   "cell_type": "markdown",
   "metadata": {
    "id": "W-DjNIKN8kEg"
   },
   "source": [
    "### Với mỗi cột có kiểu dữ liệu dạng numeric, các giá trị được phân bố như thế nào?"
   ]
  },
  {
   "cell_type": "markdown",
   "metadata": {
    "id": "reV9pZPOGvbY"
   },
   "source": [
    "# Tìm các insight"
   ]
  }
 ],
 "metadata": {
  "colab": {
   "collapsed_sections": [],
   "name": "Untitled0.ipynb",
   "provenance": [],
   "toc_visible": true
  },
  "kernelspec": {
   "display_name": "Python 3",
   "language": "python",
   "name": "python3"
  },
  "language_info": {
   "codemirror_mode": {
    "name": "ipython",
    "version": 3
   },
   "file_extension": ".py",
   "mimetype": "text/x-python",
   "name": "python",
   "nbconvert_exporter": "python",
   "pygments_lexer": "ipython3",
   "version": "3.8.8"
  },
  "toc-autonumbering": false
 },
 "nbformat": 4,
 "nbformat_minor": 4
}
